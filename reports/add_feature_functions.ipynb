{
 "cells": [
  {
   "cell_type": "markdown",
   "metadata": {},
   "source": [
    "# Introduction\n",
    "This document explores how to build efficient functions that add sets of features to our datasets. The goal is to use this functions to easily re-apply the same preprocessing steps to different datasets. Specifically, we will add features related to the following concepts:\n",
    "- Add time-related features (`hour`, `dow`, `day`)\n",
    "- Remove records without a passenger count\n",
    "- Average passenger numbers\n",
    "- Headway"
   ]
  },
  {
   "cell_type": "code",
   "execution_count": 1,
   "metadata": {},
   "outputs": [],
   "source": [
    "import pandas as pd\n",
    "import numpy as np"
   ]
  },
  {
   "cell_type": "code",
   "execution_count": 3,
   "metadata": {},
   "outputs": [
    {
     "name": "stderr",
     "output_type": "stream",
     "text": [
      "/Users/Lars/opt/anaconda3/lib/python3.8/site-packages/IPython/core/interactiveshell.py:3146: DtypeWarning: Columns (22) have mixed types.Specify dtype option on import or set low_memory=False.\n",
      "  has_raised = await self.run_ast_nodes(code_ast.body, cell_name,\n"
     ]
    },
    {
     "data": {
      "text/plain": [
       "(383785, 24)"
      ]
     },
     "execution_count": 3,
     "metadata": {},
     "output_type": "execute_result"
    }
   ],
   "source": [
    "df = pd.read_csv(\"20211001_20211029_M7.csv\")\n",
    "df.shape"
   ]
  },
  {
   "cell_type": "markdown",
   "metadata": {},
   "source": [
    "# Add time-related features"
   ]
  },
  {
   "cell_type": "code",
   "execution_count": 20,
   "metadata": {},
   "outputs": [],
   "source": [
    "def add_time_features(df, timestamp_str=\"timestamp\"):\n",
    "    \"\"\"\n",
    "    Given a pd.DataFrame with a timestamp column, return a pd.DataFrame like df, but with\n",
    "    additional columns \"hour\", \"day\", \"dow\" (day of week)\n",
    "    \n",
    "    pd.DataFrame df\n",
    "    String timestamp_str: name of timestamp column in df\n",
    "    returns df\n",
    "    \"\"\"\n",
    "    df['timestamp_dt'] = pd.to_datetime(df.timestamp)\n",
    "    df['hour'] = df['timestamp_dt'].dt.hour\n",
    "    df['day'] = df['timestamp_dt'].dt.day\n",
    "    df['dow'] = df['timestamp_dt'].dt.weekday\n",
    "    return df"
   ]
  },
  {
   "cell_type": "code",
   "execution_count": 22,
   "metadata": {},
   "outputs": [
    {
     "data": {
      "text/plain": [
       "(383785, 28)"
      ]
     },
     "execution_count": 22,
     "metadata": {},
     "output_type": "execute_result"
    }
   ],
   "source": [
    "df = add_time_features(df)\n",
    "df.shape"
   ]
  },
  {
   "cell_type": "markdown",
   "metadata": {},
   "source": [
    "# Remove records without a passenger count\n",
    "\n",
    "We witness two values in the `passenger_count` field that denote records for which there is no such count available:\n",
    "- `NaN`\n",
    "- `None`\n",
    "\n",
    "In this following function, we will remove these records."
   ]
  },
  {
   "cell_type": "code",
   "execution_count": 23,
   "metadata": {},
   "outputs": [],
   "source": [
    "def remove_missing_count(df):\n",
    "    df = df[df.passenger_count.notna()]\n",
    "    df = df[df.passenger_count != \"None\"]\n",
    "    df['passenger_count'] = df.passenger_count.astype(int)\n",
    "    return df"
   ]
  },
  {
   "cell_type": "markdown",
   "metadata": {},
   "source": [
    "The following cell demonstrates this process."
   ]
  },
  {
   "cell_type": "code",
   "execution_count": 24,
   "metadata": {},
   "outputs": [
    {
     "data": {
      "text/plain": [
       "(154482, 28)"
      ]
     },
     "execution_count": 24,
     "metadata": {},
     "output_type": "execute_result"
    }
   ],
   "source": [
    "df_count = remove_missing_count(df)\n",
    "df_count.shape"
   ]
  },
  {
   "cell_type": "code",
   "execution_count": 25,
   "metadata": {},
   "outputs": [
    {
     "data": {
      "text/plain": [
       "array([  8,  10,  11,   9,   7,   5,   4,   3,   2,   1,   6,  12,  13,\n",
       "        14,  15,  17,  21,  23,  25,  20,  18,  27,  19,  16,  29,  35,\n",
       "        41,  40,  34,  33,  22,  26,  24,  30,  28,  31,  32,  48,  47,\n",
       "        44,  43,  42,  38,  37,  36,  39,  45,  49,  52,  51,  55,  58,\n",
       "        61,  64,  71,  46,  74,  73,  80,  84,  85,  87,  89,  93,  92,\n",
       "        91,  90,  95,  96,  98,  99, 100, 101, 103, 105, 110,  53,  56,\n",
       "        57,  59,  65,  66,  75,  79,  81,  83,  86,  94, 107, 106,  50,\n",
       "        63,  62,  67,  68,  70,  69,  76,  77,  78,  88, 102,  54,  60,\n",
       "        82,  72,  97, 104, 108, 109])"
      ]
     },
     "execution_count": 25,
     "metadata": {},
     "output_type": "execute_result"
    }
   ],
   "source": [
    "df_count.passenger_count.unique()"
   ]
  },
  {
   "cell_type": "code",
   "execution_count": 26,
   "metadata": {},
   "outputs": [
    {
     "data": {
      "text/plain": [
       "<AxesSubplot:>"
      ]
     },
     "execution_count": 26,
     "metadata": {},
     "output_type": "execute_result"
    },
    {
     "data": {
      "image/png": "[encoded data removed]",
      "text/plain": [
       "<Figure size 432x288 with 1 Axes>"
      ]
     },
     "metadata": {
      "needs_background": "light"
     },
     "output_type": "display_data"
    }
   ],
   "source": [
    "df_count.passenger_count.hist()"
   ]
  },
  {
   "cell_type": "markdown",
   "metadata": {},
   "source": [
    "Indeed, right now we only have valid passenger count values. "
   ]
  },
  {
   "cell_type": "markdown",
   "metadata": {},
   "source": [
    "# Add average passenger numbers"
   ]
  },
  {
   "cell_type": "code",
   "execution_count": 32,
   "metadata": {},
   "outputs": [],
   "source": [
    "def add_mean_counts(df, hour=True, dow=True, day=True, stop_column=\"next_stop_id\"):\n",
    "    if hour:\n",
    "        df_hour = df.groupby([stop_column, 'hour'])['passenger_count'].mean()\n",
    "        df = df.join(df_hour, on=[stop_column, 'hour'], rsuffix=\"_mean_hr\")\n",
    "    if dow:\n",
    "        df_dow = df.groupby([stop_column, 'dow'])['passenger_count'].mean()\n",
    "        df = df.join(df_dow, on=[stop_column, 'dow'], rsuffix=\"_mean_dow\")\n",
    "    if day:\n",
    "        df_day = df.groupby([stop_column, 'day'])['passenger_count'].mean()\n",
    "        df = df.join(df_day, on=[stop_column, 'day'], rsuffix=\"_mean_day\")\n",
    "    return df"
   ]
  },
  {
   "cell_type": "code",
   "execution_count": 36,
   "metadata": {},
   "outputs": [
    {
     "data": {
      "text/html": [
       "<div>\n",
       "<style scoped>\n",
       "    .dataframe tbody tr th:only-of-type {\n",
       "        vertical-align: middle;\n",
       "    }\n",
       "\n",
       "    .dataframe tbody tr th {\n",
       "        vertical-align: top;\n",
       "    }\n",
       "\n",
       "    .dataframe thead th {\n",
       "        text-align: right;\n",
       "    }\n",
       "</style>\n",
       "<table border=\"1\" class=\"dataframe\">\n",
       "  <thead>\n",
       "    <tr style=\"text-align: right;\">\n",
       "      <th></th>\n",
       "      <th>passenger_count_mean_hr</th>\n",
       "      <th>passenger_count_mean_dow</th>\n",
       "      <th>passenger_count_mean_day</th>\n",
       "    </tr>\n",
       "  </thead>\n",
       "  <tbody>\n",
       "    <tr>\n",
       "      <th>2</th>\n",
       "      <td>3.631579</td>\n",
       "      <td>14.734043</td>\n",
       "      <td>14.431818</td>\n",
       "    </tr>\n",
       "    <tr>\n",
       "      <th>7</th>\n",
       "      <td>4.363636</td>\n",
       "      <td>15.147541</td>\n",
       "      <td>14.900000</td>\n",
       "    </tr>\n",
       "    <tr>\n",
       "      <th>12</th>\n",
       "      <td>4.909091</td>\n",
       "      <td>15.714724</td>\n",
       "      <td>15.820225</td>\n",
       "    </tr>\n",
       "    <tr>\n",
       "      <th>16</th>\n",
       "      <td>3.789474</td>\n",
       "      <td>14.432749</td>\n",
       "      <td>15.857143</td>\n",
       "    </tr>\n",
       "    <tr>\n",
       "      <th>23</th>\n",
       "      <td>6.222222</td>\n",
       "      <td>14.432099</td>\n",
       "      <td>13.636364</td>\n",
       "    </tr>\n",
       "  </tbody>\n",
       "</table>\n",
       "</div>"
      ],
      "text/plain": [
       "    passenger_count_mean_hr  passenger_count_mean_dow  \\\n",
       "2                  3.631579                 14.734043   \n",
       "7                  4.363636                 15.147541   \n",
       "12                 4.909091                 15.714724   \n",
       "16                 3.789474                 14.432749   \n",
       "23                 6.222222                 14.432099   \n",
       "\n",
       "    passenger_count_mean_day  \n",
       "2                  14.431818  \n",
       "7                  14.900000  \n",
       "12                 15.820225  \n",
       "16                 15.857143  \n",
       "23                 13.636364  "
      ]
     },
     "execution_count": 36,
     "metadata": {},
     "output_type": "execute_result"
    }
   ],
   "source": [
    "df_count = add_mean_counts(df_count)\n",
    "\n",
    "df_count[\n",
    "    ['passenger_count_mean_hr', 'passenger_count_mean_dow', 'passenger_count_mean_day']\n",
    "].head()"
   ]
  },
  {
   "cell_type": "markdown",
   "metadata": {},
   "source": [
    "# Add headway information"
   ]
  },
  {
   "cell_type": "code",
   "execution_count": null,
   "metadata": {},
   "outputs": [],
   "source": []
  }
 ],
 "metadata": {
  "interpreter": {
   "hash": "d06db2dd0ed2748016d53c42457896c61f2017719ef747483559390d471eac89"
  },
  "kernelspec": {
   "display_name": "Python 3.8.5 64-bit ('base': conda)",
   "name": "python3"
  },
  "language_info": {
   "codemirror_mode": {
    "name": "ipython",
    "version": 3
   },
   "file_extension": ".py",
   "mimetype": "text/x-python",
   "name": "python",
   "nbconvert_exporter": "python",
   "pygments_lexer": "ipython3",
   "version": "3.8.5"
  },
  "orig_nbformat": 4
 },
 "nbformat": 4,
 "nbformat_minor": 2
}
