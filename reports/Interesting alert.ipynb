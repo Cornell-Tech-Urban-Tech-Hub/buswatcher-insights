{
 "cells": [
  {
   "cell_type": "markdown",
   "metadata": {},
   "source": [
    "# Introduction\n",
    "In this file, we will explore a week's worth of unplanned alerts data, and figure out which one we could suitably use for analysis. "
   ]
  },
  {
   "cell_type": "code",
   "execution_count": 103,
   "metadata": {},
   "outputs": [],
   "source": [
    "import pandas as pd\n",
    "import numpy as np\n",
    "import json\n",
    "from os import listdir\n",
    "import datetime"
   ]
  },
  {
   "cell_type": "markdown",
   "metadata": {},
   "source": [
    "# Load data\n",
    "We have collected alerts data in snapshots, which are queried from the MTA Service Alerts API every 10 minutes. We would like to gather these all together, and look at the individual alerts. "
   ]
  },
  {
   "cell_type": "code",
   "execution_count": 16,
   "metadata": {},
   "outputs": [
    {
     "data": {
      "text/plain": [
       "33476"
      ]
     },
     "execution_count": 16,
     "metadata": {},
     "output_type": "execute_result"
    }
   ],
   "source": [
    "all_alerts = []\n",
    "\n",
    "file_names = [f for f in listdir(\"unplanned_data/\") if \"json\" in f]\n",
    "\n",
    "for file_name in file_names:\n",
    "    with open (\"unplanned_data/\" + file_name, 'r') as f:\n",
    "        data = json.load(f)\n",
    "        all_alerts += data\n",
    "\n",
    "len(all_alerts)"
   ]
  },
  {
   "cell_type": "markdown",
   "metadata": {},
   "source": [
    "So we're working with 33476 lines of data. Not all of these alerts will be unique. To continue our analysis, we will first load the alert data into a DataFrame"
   ]
  },
  {
   "cell_type": "code",
   "execution_count": 19,
   "metadata": {},
   "outputs": [
    {
     "data": {
      "text/plain": [
       "582"
      ]
     },
     "execution_count": 19,
     "metadata": {},
     "output_type": "execute_result"
    }
   ],
   "source": [
    "alert_df = pd.DataFrame(all_alerts)\n",
    "alert_df.id.nunique()"
   ]
  },
  {
   "cell_type": "markdown",
   "metadata": {},
   "source": [
    "That's already looking a lot better: we have 582 unique alerts. Now let's take a look at the type of alerts we're finding."
   ]
  },
  {
   "cell_type": "code",
   "execution_count": 20,
   "metadata": {},
   "outputs": [
    {
     "data": {
      "text/html": [
       "<div>\n",
       "<style scoped>\n",
       "    .dataframe tbody tr th:only-of-type {\n",
       "        vertical-align: middle;\n",
       "    }\n",
       "\n",
       "    .dataframe tbody tr th {\n",
       "        vertical-align: top;\n",
       "    }\n",
       "\n",
       "    .dataframe thead th {\n",
       "        text-align: right;\n",
       "    }\n",
       "</style>\n",
       "<table border=\"1\" class=\"dataframe\">\n",
       "  <thead>\n",
       "    <tr style=\"text-align: right;\">\n",
       "      <th></th>\n",
       "      <th>startDate</th>\n",
       "      <th>direction</th>\n",
       "      <th>endDate</th>\n",
       "      <th>statusSummary</th>\n",
       "      <th>id</th>\n",
       "      <th>priority</th>\n",
       "      <th>line</th>\n",
       "      <th>creationDate</th>\n",
       "      <th>statusDescription</th>\n",
       "    </tr>\n",
       "  </thead>\n",
       "  <tbody>\n",
       "    <tr>\n",
       "      <th>0</th>\n",
       "      <td>2021-11-08T23:45:00-0500</td>\n",
       "      <td>0</td>\n",
       "      <td>2021-11-09T05:00:00-0500</td>\n",
       "      <td>No Scheduled Service</td>\n",
       "      <td>lmm:planned_work:1467</td>\n",
       "      <td>1</td>\n",
       "      <td>3</td>\n",
       "      <td>2021-10-11T11:27:18-0400</td>\n",
       "      <td>&lt;p&gt;[2] trains make [3] stops between &lt;b&gt;Times ...</td>\n",
       "    </tr>\n",
       "    <tr>\n",
       "      <th>1</th>\n",
       "      <td>2021-11-08T23:45:00-0500</td>\n",
       "      <td>1</td>\n",
       "      <td>2021-11-09T05:00:00-0500</td>\n",
       "      <td>No Scheduled Service</td>\n",
       "      <td>lmm:planned_work:1467</td>\n",
       "      <td>1</td>\n",
       "      <td>3</td>\n",
       "      <td>2021-10-11T11:27:18-0400</td>\n",
       "      <td>&lt;p&gt;[2] trains make [3] stops between &lt;b&gt;Times ...</td>\n",
       "    </tr>\n",
       "    <tr>\n",
       "      <th>2</th>\n",
       "      <td>2021-11-05T21:30:00-0400</td>\n",
       "      <td>1</td>\n",
       "      <td>2021-11-06T06:30:00-0400</td>\n",
       "      <td>Extra Service</td>\n",
       "      <td>lmm:planned_work:1369</td>\n",
       "      <td>10</td>\n",
       "      <td>3</td>\n",
       "      <td>2021-10-04T11:37:03-0400</td>\n",
       "      <td>&lt;p&gt;[3] trains run to/from &lt;b&gt;New Lots Av&lt;/b&gt; a...</td>\n",
       "    </tr>\n",
       "    <tr>\n",
       "      <th>3</th>\n",
       "      <td>2021-11-05T21:30:00-0400</td>\n",
       "      <td>0</td>\n",
       "      <td>2021-11-06T06:30:00-0400</td>\n",
       "      <td>Extra Service</td>\n",
       "      <td>lmm:planned_work:1369</td>\n",
       "      <td>10</td>\n",
       "      <td>3</td>\n",
       "      <td>2021-10-04T11:37:03-0400</td>\n",
       "      <td>&lt;p&gt;[3] trains run to/from &lt;b&gt;New Lots Av&lt;/b&gt; a...</td>\n",
       "    </tr>\n",
       "    <tr>\n",
       "      <th>4</th>\n",
       "      <td>2021-11-13T07:00:00-0500</td>\n",
       "      <td>1</td>\n",
       "      <td>2021-11-13T19:00:00-0500</td>\n",
       "      <td>Extra Service</td>\n",
       "      <td>lmm:planned_work:1471</td>\n",
       "      <td>10</td>\n",
       "      <td>W</td>\n",
       "      <td>2021-10-11T11:44:10-0400</td>\n",
       "      <td>&lt;p&gt;&lt;strong&gt;Note: &lt;/strong&gt;No [7] trains betwee...</td>\n",
       "    </tr>\n",
       "  </tbody>\n",
       "</table>\n",
       "</div>"
      ],
      "text/plain": [
       "                  startDate direction                   endDate  \\\n",
       "0  2021-11-08T23:45:00-0500         0  2021-11-09T05:00:00-0500   \n",
       "1  2021-11-08T23:45:00-0500         1  2021-11-09T05:00:00-0500   \n",
       "2  2021-11-05T21:30:00-0400         1  2021-11-06T06:30:00-0400   \n",
       "3  2021-11-05T21:30:00-0400         0  2021-11-06T06:30:00-0400   \n",
       "4  2021-11-13T07:00:00-0500         1  2021-11-13T19:00:00-0500   \n",
       "\n",
       "          statusSummary                     id  priority line  \\\n",
       "0  No Scheduled Service  lmm:planned_work:1467         1    3   \n",
       "1  No Scheduled Service  lmm:planned_work:1467         1    3   \n",
       "2         Extra Service  lmm:planned_work:1369        10    3   \n",
       "3         Extra Service  lmm:planned_work:1369        10    3   \n",
       "4         Extra Service  lmm:planned_work:1471        10    W   \n",
       "\n",
       "               creationDate                                  statusDescription  \n",
       "0  2021-10-11T11:27:18-0400  <p>[2] trains make [3] stops between <b>Times ...  \n",
       "1  2021-10-11T11:27:18-0400  <p>[2] trains make [3] stops between <b>Times ...  \n",
       "2  2021-10-04T11:37:03-0400  <p>[3] trains run to/from <b>New Lots Av</b> a...  \n",
       "3  2021-10-04T11:37:03-0400  <p>[3] trains run to/from <b>New Lots Av</b> a...  \n",
       "4  2021-10-11T11:44:10-0400  <p><strong>Note: </strong>No [7] trains betwee...  "
      ]
     },
     "execution_count": 20,
     "metadata": {},
     "output_type": "execute_result"
    }
   ],
   "source": [
    "alert_df.head()"
   ]
  },
  {
   "cell_type": "code",
   "execution_count": 23,
   "metadata": {},
   "outputs": [
    {
     "data": {
      "text/html": [
       "<div>\n",
       "<style scoped>\n",
       "    .dataframe tbody tr th:only-of-type {\n",
       "        vertical-align: middle;\n",
       "    }\n",
       "\n",
       "    .dataframe tbody tr th {\n",
       "        vertical-align: top;\n",
       "    }\n",
       "\n",
       "    .dataframe thead th {\n",
       "        text-align: right;\n",
       "    }\n",
       "</style>\n",
       "<table border=\"1\" class=\"dataframe\">\n",
       "  <thead>\n",
       "    <tr style=\"text-align: right;\">\n",
       "      <th></th>\n",
       "      <th>statusSummary</th>\n",
       "      <th>id</th>\n",
       "    </tr>\n",
       "  </thead>\n",
       "  <tbody>\n",
       "    <tr>\n",
       "      <th>0</th>\n",
       "      <td>No Scheduled Service</td>\n",
       "      <td>lmm:planned_work:1467</td>\n",
       "    </tr>\n",
       "    <tr>\n",
       "      <th>1</th>\n",
       "      <td>No Scheduled Service</td>\n",
       "      <td>lmm:planned_work:1467</td>\n",
       "    </tr>\n",
       "    <tr>\n",
       "      <th>2</th>\n",
       "      <td>Extra Service</td>\n",
       "      <td>lmm:planned_work:1369</td>\n",
       "    </tr>\n",
       "    <tr>\n",
       "      <th>3</th>\n",
       "      <td>Extra Service</td>\n",
       "      <td>lmm:planned_work:1369</td>\n",
       "    </tr>\n",
       "    <tr>\n",
       "      <th>4</th>\n",
       "      <td>Extra Service</td>\n",
       "      <td>lmm:planned_work:1471</td>\n",
       "    </tr>\n",
       "  </tbody>\n",
       "</table>\n",
       "</div>"
      ],
      "text/plain": [
       "          statusSummary                     id\n",
       "0  No Scheduled Service  lmm:planned_work:1467\n",
       "1  No Scheduled Service  lmm:planned_work:1467\n",
       "2         Extra Service  lmm:planned_work:1369\n",
       "3         Extra Service  lmm:planned_work:1369\n",
       "4         Extra Service  lmm:planned_work:1471"
      ]
     },
     "execution_count": 23,
     "metadata": {},
     "output_type": "execute_result"
    }
   ],
   "source": [
    "alert_df[['statusSummary', 'id']].head()"
   ]
  },
  {
   "cell_type": "markdown",
   "metadata": {},
   "source": [
    "One important observation here is the fact that, even when the `statusSummary` field does not include \"Planned\", the `id` may still specify that the alert pertains to a planned event. As such, we should filter out the rows where this is indeed the case."
   ]
  },
  {
   "cell_type": "markdown",
   "metadata": {},
   "source": [
    "## Filter unplanned alerts"
   ]
  },
  {
   "cell_type": "code",
   "execution_count": 27,
   "metadata": {},
   "outputs": [
    {
     "data": {
      "text/html": [
       "<div>\n",
       "<style scoped>\n",
       "    .dataframe tbody tr th:only-of-type {\n",
       "        vertical-align: middle;\n",
       "    }\n",
       "\n",
       "    .dataframe tbody tr th {\n",
       "        vertical-align: top;\n",
       "    }\n",
       "\n",
       "    .dataframe thead th {\n",
       "        text-align: right;\n",
       "    }\n",
       "</style>\n",
       "<table border=\"1\" class=\"dataframe\">\n",
       "  <thead>\n",
       "    <tr style=\"text-align: right;\">\n",
       "      <th></th>\n",
       "      <th>0</th>\n",
       "      <th>1</th>\n",
       "      <th>2</th>\n",
       "    </tr>\n",
       "  </thead>\n",
       "  <tbody>\n",
       "    <tr>\n",
       "      <th>0</th>\n",
       "      <td>lmm</td>\n",
       "      <td>planned_work</td>\n",
       "      <td>1467</td>\n",
       "    </tr>\n",
       "    <tr>\n",
       "      <th>1</th>\n",
       "      <td>lmm</td>\n",
       "      <td>planned_work</td>\n",
       "      <td>1467</td>\n",
       "    </tr>\n",
       "    <tr>\n",
       "      <th>2</th>\n",
       "      <td>lmm</td>\n",
       "      <td>planned_work</td>\n",
       "      <td>1369</td>\n",
       "    </tr>\n",
       "    <tr>\n",
       "      <th>3</th>\n",
       "      <td>lmm</td>\n",
       "      <td>planned_work</td>\n",
       "      <td>1369</td>\n",
       "    </tr>\n",
       "    <tr>\n",
       "      <th>4</th>\n",
       "      <td>lmm</td>\n",
       "      <td>planned_work</td>\n",
       "      <td>1471</td>\n",
       "    </tr>\n",
       "  </tbody>\n",
       "</table>\n",
       "</div>"
      ],
      "text/plain": [
       "     0             1     2\n",
       "0  lmm  planned_work  1467\n",
       "1  lmm  planned_work  1467\n",
       "2  lmm  planned_work  1369\n",
       "3  lmm  planned_work  1369\n",
       "4  lmm  planned_work  1471"
      ]
     },
     "execution_count": 27,
     "metadata": {},
     "output_type": "execute_result"
    }
   ],
   "source": [
    "id_df = alert_df.id.str.split(\":\", expand=True)\n",
    "id_df.head()"
   ]
  },
  {
   "cell_type": "code",
   "execution_count": 29,
   "metadata": {},
   "outputs": [
    {
     "data": {
      "text/plain": [
       "array(['planned_work', 'alert'], dtype=object)"
      ]
     },
     "execution_count": 29,
     "metadata": {},
     "output_type": "execute_result"
    }
   ],
   "source": [
    "id_df[1].unique()"
   ]
  },
  {
   "cell_type": "markdown",
   "metadata": {},
   "source": [
    "We will filter out all rows which have a value of `planned_work` here."
   ]
  },
  {
   "cell_type": "code",
   "execution_count": 32,
   "metadata": {},
   "outputs": [],
   "source": [
    "keep_index = id_df[id_df[1] == 'alert'].index"
   ]
  },
  {
   "cell_type": "code",
   "execution_count": 37,
   "metadata": {},
   "outputs": [
    {
     "data": {
      "text/plain": [
       "(6812, 9)"
      ]
     },
     "execution_count": 37,
     "metadata": {},
     "output_type": "execute_result"
    }
   ],
   "source": [
    "alert_df = alert_df.loc[keep_index]\n",
    "alert_df.shape"
   ]
  },
  {
   "cell_type": "code",
   "execution_count": 39,
   "metadata": {},
   "outputs": [
    {
     "data": {
      "text/plain": [
       "557"
      ]
     },
     "execution_count": 39,
     "metadata": {},
     "output_type": "execute_result"
    }
   ],
   "source": [
    "alert_df.id.nunique()"
   ]
  },
  {
   "cell_type": "markdown",
   "metadata": {},
   "source": [
    "After this process, we are left with 557 unique alerts. "
   ]
  },
  {
   "cell_type": "markdown",
   "metadata": {},
   "source": [
    "# Analysis"
   ]
  },
  {
   "cell_type": "code",
   "execution_count": 41,
   "metadata": {},
   "outputs": [
    {
     "data": {
      "text/html": [
       "<div>\n",
       "<style scoped>\n",
       "    .dataframe tbody tr th:only-of-type {\n",
       "        vertical-align: middle;\n",
       "    }\n",
       "\n",
       "    .dataframe tbody tr th {\n",
       "        vertical-align: top;\n",
       "    }\n",
       "\n",
       "    .dataframe thead th {\n",
       "        text-align: right;\n",
       "    }\n",
       "</style>\n",
       "<table border=\"1\" class=\"dataframe\">\n",
       "  <thead>\n",
       "    <tr style=\"text-align: right;\">\n",
       "      <th></th>\n",
       "      <th>index</th>\n",
       "      <th>startDate</th>\n",
       "      <th>direction</th>\n",
       "      <th>endDate</th>\n",
       "      <th>statusSummary</th>\n",
       "      <th>id</th>\n",
       "      <th>priority</th>\n",
       "      <th>line</th>\n",
       "      <th>creationDate</th>\n",
       "      <th>statusDescription</th>\n",
       "    </tr>\n",
       "  </thead>\n",
       "  <tbody>\n",
       "    <tr>\n",
       "      <th>0</th>\n",
       "      <td>16</td>\n",
       "      <td>2021-10-29T17:17:39-0400</td>\n",
       "      <td>0</td>\n",
       "      <td>None</td>\n",
       "      <td>Delays</td>\n",
       "      <td>lmm:alert:104257</td>\n",
       "      <td>22</td>\n",
       "      <td>Q</td>\n",
       "      <td>2021-10-29T07:18:45-0400</td>\n",
       "      <td>&lt;p&gt;You may wait longer for a ‌[Q] train. We're...</td>\n",
       "    </tr>\n",
       "    <tr>\n",
       "      <th>1</th>\n",
       "      <td>17</td>\n",
       "      <td>2021-10-29T17:17:39-0400</td>\n",
       "      <td>1</td>\n",
       "      <td>None</td>\n",
       "      <td>Delays</td>\n",
       "      <td>lmm:alert:104257</td>\n",
       "      <td>22</td>\n",
       "      <td>Q</td>\n",
       "      <td>2021-10-29T07:18:45-0400</td>\n",
       "      <td>&lt;p&gt;You may wait longer for a ‌[Q] train. We're...</td>\n",
       "    </tr>\n",
       "    <tr>\n",
       "      <th>2</th>\n",
       "      <td>28</td>\n",
       "      <td>2021-10-29T23:29:14-0400</td>\n",
       "      <td>0</td>\n",
       "      <td>None</td>\n",
       "      <td>Delays</td>\n",
       "      <td>lmm:alert:104351</td>\n",
       "      <td>22</td>\n",
       "      <td>4</td>\n",
       "      <td>2021-10-29T21:51:25-0400</td>\n",
       "      <td>&lt;p&gt;Southbound [4] are delayed while our crews ...</td>\n",
       "    </tr>\n",
       "    <tr>\n",
       "      <th>3</th>\n",
       "      <td>29</td>\n",
       "      <td>2021-10-29T23:29:14-0400</td>\n",
       "      <td>1</td>\n",
       "      <td>None</td>\n",
       "      <td>Delays</td>\n",
       "      <td>lmm:alert:104351</td>\n",
       "      <td>22</td>\n",
       "      <td>4</td>\n",
       "      <td>2021-10-29T21:51:25-0400</td>\n",
       "      <td>&lt;p&gt;Southbound [4] are delayed while our crews ...</td>\n",
       "    </tr>\n",
       "    <tr>\n",
       "      <th>4</th>\n",
       "      <td>48</td>\n",
       "      <td>2021-10-31T03:24:09-0400</td>\n",
       "      <td>0</td>\n",
       "      <td>2021-10-31T03:46:09-0400</td>\n",
       "      <td>Delays</td>\n",
       "      <td>lmm:alert:104593</td>\n",
       "      <td>22</td>\n",
       "      <td>D</td>\n",
       "      <td>2021-10-31T03:24:09-0400</td>\n",
       "      <td>&lt;p&gt;You may experience a longer wait for northb...</td>\n",
       "    </tr>\n",
       "  </tbody>\n",
       "</table>\n",
       "</div>"
      ],
      "text/plain": [
       "   index                 startDate direction                   endDate  \\\n",
       "0     16  2021-10-29T17:17:39-0400         0                      None   \n",
       "1     17  2021-10-29T17:17:39-0400         1                      None   \n",
       "2     28  2021-10-29T23:29:14-0400         0                      None   \n",
       "3     29  2021-10-29T23:29:14-0400         1                      None   \n",
       "4     48  2021-10-31T03:24:09-0400         0  2021-10-31T03:46:09-0400   \n",
       "\n",
       "  statusSummary                id  priority line              creationDate  \\\n",
       "0        Delays  lmm:alert:104257        22    Q  2021-10-29T07:18:45-0400   \n",
       "1        Delays  lmm:alert:104257        22    Q  2021-10-29T07:18:45-0400   \n",
       "2        Delays  lmm:alert:104351        22    4  2021-10-29T21:51:25-0400   \n",
       "3        Delays  lmm:alert:104351        22    4  2021-10-29T21:51:25-0400   \n",
       "4        Delays  lmm:alert:104593        22    D  2021-10-31T03:24:09-0400   \n",
       "\n",
       "                                   statusDescription  \n",
       "0  <p>You may wait longer for a ‌[Q] train. We're...  \n",
       "1  <p>You may wait longer for a ‌[Q] train. We're...  \n",
       "2  <p>Southbound [4] are delayed while our crews ...  \n",
       "3  <p>Southbound [4] are delayed while our crews ...  \n",
       "4  <p>You may experience a longer wait for northb...  "
      ]
     },
     "execution_count": 41,
     "metadata": {},
     "output_type": "execute_result"
    }
   ],
   "source": [
    "alert_df.reset_index(inplace=True)\n",
    "alert_df.head()"
   ]
  },
  {
   "cell_type": "code",
   "execution_count": 42,
   "metadata": {},
   "outputs": [
    {
     "data": {
      "text/html": [
       "<div>\n",
       "<style scoped>\n",
       "    .dataframe tbody tr th:only-of-type {\n",
       "        vertical-align: middle;\n",
       "    }\n",
       "\n",
       "    .dataframe tbody tr th {\n",
       "        vertical-align: top;\n",
       "    }\n",
       "\n",
       "    .dataframe thead th {\n",
       "        text-align: right;\n",
       "    }\n",
       "</style>\n",
       "<table border=\"1\" class=\"dataframe\">\n",
       "  <thead>\n",
       "    <tr style=\"text-align: right;\">\n",
       "      <th></th>\n",
       "      <th>index</th>\n",
       "      <th>startDate</th>\n",
       "      <th>direction</th>\n",
       "      <th>endDate</th>\n",
       "      <th>statusSummary</th>\n",
       "      <th>id</th>\n",
       "      <th>priority</th>\n",
       "      <th>line</th>\n",
       "      <th>creationDate</th>\n",
       "      <th>statusDescription</th>\n",
       "    </tr>\n",
       "  </thead>\n",
       "  <tbody>\n",
       "    <tr>\n",
       "      <th>1807</th>\n",
       "      <td>8947</td>\n",
       "      <td>2021-10-28T23:15:24-0400</td>\n",
       "      <td>0</td>\n",
       "      <td>None</td>\n",
       "      <td>Multiple Impacts</td>\n",
       "      <td>lmm:alert:104049</td>\n",
       "      <td>37</td>\n",
       "      <td>2</td>\n",
       "      <td>2021-10-28T22:25:24-0400</td>\n",
       "      <td>&lt;p&gt;[2] and [3] trains are delayed and/or rerou...</td>\n",
       "    </tr>\n",
       "    <tr>\n",
       "      <th>2195</th>\n",
       "      <td>10749</td>\n",
       "      <td>2021-10-27T15:57:40-0400</td>\n",
       "      <td>0</td>\n",
       "      <td>None</td>\n",
       "      <td>Multiple Impacts</td>\n",
       "      <td>lmm:alert:103691</td>\n",
       "      <td>37</td>\n",
       "      <td>L</td>\n",
       "      <td>2021-10-27T15:47:26-0400</td>\n",
       "      <td>&lt;p&gt;[L] trains are delayed and/or rerouted whil...</td>\n",
       "    </tr>\n",
       "    <tr>\n",
       "      <th>824</th>\n",
       "      <td>3977</td>\n",
       "      <td>2021-10-29T12:21:23-0400</td>\n",
       "      <td>0</td>\n",
       "      <td>None</td>\n",
       "      <td>Multiple Impacts</td>\n",
       "      <td>lmm:alert:104191</td>\n",
       "      <td>37</td>\n",
       "      <td>5</td>\n",
       "      <td>2021-10-29T09:40:43-0400</td>\n",
       "      <td>&lt;p&gt;Northbound [4] [5] trains are running at sl...</td>\n",
       "    </tr>\n",
       "    <tr>\n",
       "      <th>825</th>\n",
       "      <td>3978</td>\n",
       "      <td>2021-10-29T12:21:23-0400</td>\n",
       "      <td>1</td>\n",
       "      <td>None</td>\n",
       "      <td>Multiple Impacts</td>\n",
       "      <td>lmm:alert:104191</td>\n",
       "      <td>37</td>\n",
       "      <td>5</td>\n",
       "      <td>2021-10-29T09:40:43-0400</td>\n",
       "      <td>&lt;p&gt;Northbound [4] [5] trains are running at sl...</td>\n",
       "    </tr>\n",
       "    <tr>\n",
       "      <th>3874</th>\n",
       "      <td>18666</td>\n",
       "      <td>2021-11-01T10:18:49-0400</td>\n",
       "      <td>0</td>\n",
       "      <td>None</td>\n",
       "      <td>Multiple Impacts</td>\n",
       "      <td>lmm:alert:104864</td>\n",
       "      <td>37</td>\n",
       "      <td>A</td>\n",
       "      <td>2021-11-01T09:43:24-0400</td>\n",
       "      <td>&lt;p&gt;Northbound [A] trains are running at slower...</td>\n",
       "    </tr>\n",
       "    <tr>\n",
       "      <th>...</th>\n",
       "      <td>...</td>\n",
       "      <td>...</td>\n",
       "      <td>...</td>\n",
       "      <td>...</td>\n",
       "      <td>...</td>\n",
       "      <td>...</td>\n",
       "      <td>...</td>\n",
       "      <td>...</td>\n",
       "      <td>...</td>\n",
       "      <td>...</td>\n",
       "    </tr>\n",
       "    <tr>\n",
       "      <th>3522</th>\n",
       "      <td>16844</td>\n",
       "      <td>2021-10-27T15:57:40-0400</td>\n",
       "      <td>1</td>\n",
       "      <td>None</td>\n",
       "      <td>Boarding Change</td>\n",
       "      <td>lmm:alert:103690</td>\n",
       "      <td>15</td>\n",
       "      <td>L</td>\n",
       "      <td>2021-10-27T15:47:26-0400</td>\n",
       "      <td>&lt;p&gt;[L] trains are delayed and/or rerouted whil...</td>\n",
       "    </tr>\n",
       "    <tr>\n",
       "      <th>4563</th>\n",
       "      <td>22087</td>\n",
       "      <td>2021-10-27T17:08:34-0400</td>\n",
       "      <td>0</td>\n",
       "      <td>None</td>\n",
       "      <td>Boarding Change</td>\n",
       "      <td>lmm:alert:103709</td>\n",
       "      <td>15</td>\n",
       "      <td>D</td>\n",
       "      <td>2021-10-27T17:08:34-0400</td>\n",
       "      <td>&lt;p&gt;207 St-bound [A] trains are rerouted on the...</td>\n",
       "    </tr>\n",
       "    <tr>\n",
       "      <th>4562</th>\n",
       "      <td>22086</td>\n",
       "      <td>2021-10-27T17:08:34-0400</td>\n",
       "      <td>1</td>\n",
       "      <td>None</td>\n",
       "      <td>Boarding Change</td>\n",
       "      <td>lmm:alert:103709</td>\n",
       "      <td>15</td>\n",
       "      <td>D</td>\n",
       "      <td>2021-10-27T17:08:34-0400</td>\n",
       "      <td>&lt;p&gt;207 St-bound [A] trains are rerouted on the...</td>\n",
       "    </tr>\n",
       "    <tr>\n",
       "      <th>5096</th>\n",
       "      <td>24902</td>\n",
       "      <td>2021-10-29T18:08:46-0400</td>\n",
       "      <td>0</td>\n",
       "      <td>None</td>\n",
       "      <td>Boarding Change</td>\n",
       "      <td>lmm:alert:104271</td>\n",
       "      <td>15</td>\n",
       "      <td>6</td>\n",
       "      <td>2021-10-29T18:08:46-0400</td>\n",
       "      <td>&lt;p&gt;[6]&lt;/p&gt;</td>\n",
       "    </tr>\n",
       "    <tr>\n",
       "      <th>3985</th>\n",
       "      <td>19061</td>\n",
       "      <td>2021-10-29T18:08:46-0400</td>\n",
       "      <td>0</td>\n",
       "      <td>None</td>\n",
       "      <td>Boarding Change</td>\n",
       "      <td>lmm:alert:104271</td>\n",
       "      <td>15</td>\n",
       "      <td>6</td>\n",
       "      <td>2021-10-29T18:08:46-0400</td>\n",
       "      <td>&lt;p&gt;[6]&lt;/p&gt;</td>\n",
       "    </tr>\n",
       "  </tbody>\n",
       "</table>\n",
       "<p>6812 rows × 10 columns</p>\n",
       "</div>"
      ],
      "text/plain": [
       "      index                 startDate direction endDate     statusSummary  \\\n",
       "1807   8947  2021-10-28T23:15:24-0400         0    None  Multiple Impacts   \n",
       "2195  10749  2021-10-27T15:57:40-0400         0    None  Multiple Impacts   \n",
       "824    3977  2021-10-29T12:21:23-0400         0    None  Multiple Impacts   \n",
       "825    3978  2021-10-29T12:21:23-0400         1    None  Multiple Impacts   \n",
       "3874  18666  2021-11-01T10:18:49-0400         0    None  Multiple Impacts   \n",
       "...     ...                       ...       ...     ...               ...   \n",
       "3522  16844  2021-10-27T15:57:40-0400         1    None   Boarding Change   \n",
       "4563  22087  2021-10-27T17:08:34-0400         0    None   Boarding Change   \n",
       "4562  22086  2021-10-27T17:08:34-0400         1    None   Boarding Change   \n",
       "5096  24902  2021-10-29T18:08:46-0400         0    None   Boarding Change   \n",
       "3985  19061  2021-10-29T18:08:46-0400         0    None   Boarding Change   \n",
       "\n",
       "                    id  priority line              creationDate  \\\n",
       "1807  lmm:alert:104049        37    2  2021-10-28T22:25:24-0400   \n",
       "2195  lmm:alert:103691        37    L  2021-10-27T15:47:26-0400   \n",
       "824   lmm:alert:104191        37    5  2021-10-29T09:40:43-0400   \n",
       "825   lmm:alert:104191        37    5  2021-10-29T09:40:43-0400   \n",
       "3874  lmm:alert:104864        37    A  2021-11-01T09:43:24-0400   \n",
       "...                ...       ...  ...                       ...   \n",
       "3522  lmm:alert:103690        15    L  2021-10-27T15:47:26-0400   \n",
       "4563  lmm:alert:103709        15    D  2021-10-27T17:08:34-0400   \n",
       "4562  lmm:alert:103709        15    D  2021-10-27T17:08:34-0400   \n",
       "5096  lmm:alert:104271        15    6  2021-10-29T18:08:46-0400   \n",
       "3985  lmm:alert:104271        15    6  2021-10-29T18:08:46-0400   \n",
       "\n",
       "                                      statusDescription  \n",
       "1807  <p>[2] and [3] trains are delayed and/or rerou...  \n",
       "2195  <p>[L] trains are delayed and/or rerouted whil...  \n",
       "824   <p>Northbound [4] [5] trains are running at sl...  \n",
       "825   <p>Northbound [4] [5] trains are running at sl...  \n",
       "3874  <p>Northbound [A] trains are running at slower...  \n",
       "...                                                 ...  \n",
       "3522  <p>[L] trains are delayed and/or rerouted whil...  \n",
       "4563  <p>207 St-bound [A] trains are rerouted on the...  \n",
       "4562  <p>207 St-bound [A] trains are rerouted on the...  \n",
       "5096                                         <p>[6]</p>  \n",
       "3985                                         <p>[6]</p>  \n",
       "\n",
       "[6812 rows x 10 columns]"
      ]
     },
     "execution_count": 42,
     "metadata": {},
     "output_type": "execute_result"
    }
   ],
   "source": [
    "alert_df.sort_values(by='priority', ascending=False)"
   ]
  },
  {
   "cell_type": "code",
   "execution_count": 59,
   "metadata": {},
   "outputs": [
    {
     "ename": "KeyError",
     "evalue": "\"['index'] not found in axis\"",
     "output_type": "error",
     "traceback": [
      "\u001b[0;31m---------------------------------------------------------------------------\u001b[0m",
      "\u001b[0;31mKeyError\u001b[0m                                  Traceback (most recent call last)",
      "\u001b[0;32m<ipython-input-59-c066323d1e32>\u001b[0m in \u001b[0;36m<module>\u001b[0;34m\u001b[0m\n\u001b[0;32m----> 1\u001b[0;31m \u001b[0malert_df\u001b[0m \u001b[0;34m=\u001b[0m \u001b[0malert_df\u001b[0m\u001b[0;34m.\u001b[0m\u001b[0mdrop\u001b[0m\u001b[0;34m(\u001b[0m\u001b[0;34m\"index\"\u001b[0m\u001b[0;34m,\u001b[0m \u001b[0maxis\u001b[0m\u001b[0;34m=\u001b[0m\u001b[0;36m1\u001b[0m\u001b[0;34m)\u001b[0m\u001b[0;34m\u001b[0m\u001b[0;34m\u001b[0m\u001b[0m\n\u001b[0m\u001b[1;32m      2\u001b[0m \u001b[0malert_df\u001b[0m\u001b[0;34m.\u001b[0m\u001b[0mshape\u001b[0m\u001b[0;34m\u001b[0m\u001b[0;34m\u001b[0m\u001b[0m\n",
      "\u001b[0;32m~/opt/anaconda3/lib/python3.8/site-packages/pandas/core/frame.py\u001b[0m in \u001b[0;36mdrop\u001b[0;34m(self, labels, axis, index, columns, level, inplace, errors)\u001b[0m\n\u001b[1;32m   4161\u001b[0m                 \u001b[0mweight\u001b[0m  \u001b[0;36m1.0\u001b[0m     \u001b[0;36m0.8\u001b[0m\u001b[0;34m\u001b[0m\u001b[0;34m\u001b[0m\u001b[0m\n\u001b[1;32m   4162\u001b[0m         \"\"\"\n\u001b[0;32m-> 4163\u001b[0;31m         return super().drop(\n\u001b[0m\u001b[1;32m   4164\u001b[0m             \u001b[0mlabels\u001b[0m\u001b[0;34m=\u001b[0m\u001b[0mlabels\u001b[0m\u001b[0;34m,\u001b[0m\u001b[0;34m\u001b[0m\u001b[0;34m\u001b[0m\u001b[0m\n\u001b[1;32m   4165\u001b[0m             \u001b[0maxis\u001b[0m\u001b[0;34m=\u001b[0m\u001b[0maxis\u001b[0m\u001b[0;34m,\u001b[0m\u001b[0;34m\u001b[0m\u001b[0;34m\u001b[0m\u001b[0m\n",
      "\u001b[0;32m~/opt/anaconda3/lib/python3.8/site-packages/pandas/core/generic.py\u001b[0m in \u001b[0;36mdrop\u001b[0;34m(self, labels, axis, index, columns, level, inplace, errors)\u001b[0m\n\u001b[1;32m   3885\u001b[0m         \u001b[0;32mfor\u001b[0m \u001b[0maxis\u001b[0m\u001b[0;34m,\u001b[0m \u001b[0mlabels\u001b[0m \u001b[0;32min\u001b[0m \u001b[0maxes\u001b[0m\u001b[0;34m.\u001b[0m\u001b[0mitems\u001b[0m\u001b[0;34m(\u001b[0m\u001b[0;34m)\u001b[0m\u001b[0;34m:\u001b[0m\u001b[0;34m\u001b[0m\u001b[0;34m\u001b[0m\u001b[0m\n\u001b[1;32m   3886\u001b[0m             \u001b[0;32mif\u001b[0m \u001b[0mlabels\u001b[0m \u001b[0;32mis\u001b[0m \u001b[0;32mnot\u001b[0m \u001b[0;32mNone\u001b[0m\u001b[0;34m:\u001b[0m\u001b[0;34m\u001b[0m\u001b[0;34m\u001b[0m\u001b[0m\n\u001b[0;32m-> 3887\u001b[0;31m                 \u001b[0mobj\u001b[0m \u001b[0;34m=\u001b[0m \u001b[0mobj\u001b[0m\u001b[0;34m.\u001b[0m\u001b[0m_drop_axis\u001b[0m\u001b[0;34m(\u001b[0m\u001b[0mlabels\u001b[0m\u001b[0;34m,\u001b[0m \u001b[0maxis\u001b[0m\u001b[0;34m,\u001b[0m \u001b[0mlevel\u001b[0m\u001b[0;34m=\u001b[0m\u001b[0mlevel\u001b[0m\u001b[0;34m,\u001b[0m \u001b[0merrors\u001b[0m\u001b[0;34m=\u001b[0m\u001b[0merrors\u001b[0m\u001b[0;34m)\u001b[0m\u001b[0;34m\u001b[0m\u001b[0;34m\u001b[0m\u001b[0m\n\u001b[0m\u001b[1;32m   3888\u001b[0m \u001b[0;34m\u001b[0m\u001b[0m\n\u001b[1;32m   3889\u001b[0m         \u001b[0;32mif\u001b[0m \u001b[0minplace\u001b[0m\u001b[0;34m:\u001b[0m\u001b[0;34m\u001b[0m\u001b[0;34m\u001b[0m\u001b[0m\n",
      "\u001b[0;32m~/opt/anaconda3/lib/python3.8/site-packages/pandas/core/generic.py\u001b[0m in \u001b[0;36m_drop_axis\u001b[0;34m(self, labels, axis, level, errors)\u001b[0m\n\u001b[1;32m   3919\u001b[0m                 \u001b[0mnew_axis\u001b[0m \u001b[0;34m=\u001b[0m \u001b[0maxis\u001b[0m\u001b[0;34m.\u001b[0m\u001b[0mdrop\u001b[0m\u001b[0;34m(\u001b[0m\u001b[0mlabels\u001b[0m\u001b[0;34m,\u001b[0m \u001b[0mlevel\u001b[0m\u001b[0;34m=\u001b[0m\u001b[0mlevel\u001b[0m\u001b[0;34m,\u001b[0m \u001b[0merrors\u001b[0m\u001b[0;34m=\u001b[0m\u001b[0merrors\u001b[0m\u001b[0;34m)\u001b[0m\u001b[0;34m\u001b[0m\u001b[0;34m\u001b[0m\u001b[0m\n\u001b[1;32m   3920\u001b[0m             \u001b[0;32melse\u001b[0m\u001b[0;34m:\u001b[0m\u001b[0;34m\u001b[0m\u001b[0;34m\u001b[0m\u001b[0m\n\u001b[0;32m-> 3921\u001b[0;31m                 \u001b[0mnew_axis\u001b[0m \u001b[0;34m=\u001b[0m \u001b[0maxis\u001b[0m\u001b[0;34m.\u001b[0m\u001b[0mdrop\u001b[0m\u001b[0;34m(\u001b[0m\u001b[0mlabels\u001b[0m\u001b[0;34m,\u001b[0m \u001b[0merrors\u001b[0m\u001b[0;34m=\u001b[0m\u001b[0merrors\u001b[0m\u001b[0;34m)\u001b[0m\u001b[0;34m\u001b[0m\u001b[0;34m\u001b[0m\u001b[0m\n\u001b[0m\u001b[1;32m   3922\u001b[0m             \u001b[0mresult\u001b[0m \u001b[0;34m=\u001b[0m \u001b[0mself\u001b[0m\u001b[0;34m.\u001b[0m\u001b[0mreindex\u001b[0m\u001b[0;34m(\u001b[0m\u001b[0;34m**\u001b[0m\u001b[0;34m{\u001b[0m\u001b[0maxis_name\u001b[0m\u001b[0;34m:\u001b[0m \u001b[0mnew_axis\u001b[0m\u001b[0;34m}\u001b[0m\u001b[0;34m)\u001b[0m\u001b[0;34m\u001b[0m\u001b[0;34m\u001b[0m\u001b[0m\n\u001b[1;32m   3923\u001b[0m \u001b[0;34m\u001b[0m\u001b[0m\n",
      "\u001b[0;32m~/opt/anaconda3/lib/python3.8/site-packages/pandas/core/indexes/base.py\u001b[0m in \u001b[0;36mdrop\u001b[0;34m(self, labels, errors)\u001b[0m\n\u001b[1;32m   5280\u001b[0m         \u001b[0;32mif\u001b[0m \u001b[0mmask\u001b[0m\u001b[0;34m.\u001b[0m\u001b[0many\u001b[0m\u001b[0;34m(\u001b[0m\u001b[0;34m)\u001b[0m\u001b[0;34m:\u001b[0m\u001b[0;34m\u001b[0m\u001b[0;34m\u001b[0m\u001b[0m\n\u001b[1;32m   5281\u001b[0m             \u001b[0;32mif\u001b[0m \u001b[0merrors\u001b[0m \u001b[0;34m!=\u001b[0m \u001b[0;34m\"ignore\"\u001b[0m\u001b[0;34m:\u001b[0m\u001b[0;34m\u001b[0m\u001b[0;34m\u001b[0m\u001b[0m\n\u001b[0;32m-> 5282\u001b[0;31m                 \u001b[0;32mraise\u001b[0m \u001b[0mKeyError\u001b[0m\u001b[0;34m(\u001b[0m\u001b[0;34mf\"{labels[mask]} not found in axis\"\u001b[0m\u001b[0;34m)\u001b[0m\u001b[0;34m\u001b[0m\u001b[0;34m\u001b[0m\u001b[0m\n\u001b[0m\u001b[1;32m   5283\u001b[0m             \u001b[0mindexer\u001b[0m \u001b[0;34m=\u001b[0m \u001b[0mindexer\u001b[0m\u001b[0;34m[\u001b[0m\u001b[0;34m~\u001b[0m\u001b[0mmask\u001b[0m\u001b[0;34m]\u001b[0m\u001b[0;34m\u001b[0m\u001b[0;34m\u001b[0m\u001b[0m\n\u001b[1;32m   5284\u001b[0m         \u001b[0;32mreturn\u001b[0m \u001b[0mself\u001b[0m\u001b[0;34m.\u001b[0m\u001b[0mdelete\u001b[0m\u001b[0;34m(\u001b[0m\u001b[0mindexer\u001b[0m\u001b[0;34m)\u001b[0m\u001b[0;34m\u001b[0m\u001b[0;34m\u001b[0m\u001b[0m\n",
      "\u001b[0;31mKeyError\u001b[0m: \"['index'] not found in axis\""
     ]
    }
   ],
   "source": [
    "alert_df = alert_df.drop(\"index\", axis=1)\n",
    "alert_df.shape"
   ]
  },
  {
   "cell_type": "code",
   "execution_count": null,
   "metadata": {},
   "outputs": [
    {
     "data": {
      "text/plain": [
       "(1640, 9)"
      ]
     },
     "execution_count": 53,
     "metadata": {},
     "output_type": "execute_result"
    }
   ],
   "source": [
    "alert_df = alert_df.drop_duplicates()\n",
    "alert_df.shape"
   ]
  },
  {
   "cell_type": "code",
   "execution_count": 92,
   "metadata": {},
   "outputs": [
    {
     "data": {
      "text/html": [
       "<div>\n",
       "<style scoped>\n",
       "    .dataframe tbody tr th:only-of-type {\n",
       "        vertical-align: middle;\n",
       "    }\n",
       "\n",
       "    .dataframe tbody tr th {\n",
       "        vertical-align: top;\n",
       "    }\n",
       "\n",
       "    .dataframe thead th {\n",
       "        text-align: right;\n",
       "    }\n",
       "</style>\n",
       "<table border=\"1\" class=\"dataframe\">\n",
       "  <thead>\n",
       "    <tr style=\"text-align: right;\">\n",
       "      <th></th>\n",
       "      <th>startDate</th>\n",
       "      <th>direction</th>\n",
       "      <th>endDate</th>\n",
       "      <th>statusSummary</th>\n",
       "      <th>id</th>\n",
       "      <th>priority</th>\n",
       "      <th>line</th>\n",
       "      <th>creationDate</th>\n",
       "      <th>statusDescription</th>\n",
       "    </tr>\n",
       "  </thead>\n",
       "  <tbody>\n",
       "    <tr>\n",
       "      <th>372</th>\n",
       "      <td>2021-10-28T23:15:24-0400</td>\n",
       "      <td>1</td>\n",
       "      <td>None</td>\n",
       "      <td>Multiple Impacts</td>\n",
       "      <td>lmm:alert:104049</td>\n",
       "      <td>37</td>\n",
       "      <td>2</td>\n",
       "      <td>2021-10-28T22:25:24-0400</td>\n",
       "      <td>&lt;p&gt;[2] and [3] trains are delayed and/or rerou...</td>\n",
       "    </tr>\n",
       "    <tr>\n",
       "      <th>373</th>\n",
       "      <td>2021-10-28T23:15:24-0400</td>\n",
       "      <td>0</td>\n",
       "      <td>None</td>\n",
       "      <td>Multiple Impacts</td>\n",
       "      <td>lmm:alert:104049</td>\n",
       "      <td>37</td>\n",
       "      <td>2</td>\n",
       "      <td>2021-10-28T22:25:24-0400</td>\n",
       "      <td>&lt;p&gt;[2] and [3] trains are delayed and/or rerou...</td>\n",
       "    </tr>\n",
       "    <tr>\n",
       "      <th>374</th>\n",
       "      <td>2021-10-28T23:15:24-0400</td>\n",
       "      <td>1</td>\n",
       "      <td>None</td>\n",
       "      <td>Multiple Impacts</td>\n",
       "      <td>lmm:alert:104049</td>\n",
       "      <td>37</td>\n",
       "      <td>3</td>\n",
       "      <td>2021-10-28T22:25:24-0400</td>\n",
       "      <td>&lt;p&gt;[2] and [3] trains are delayed and/or rerou...</td>\n",
       "    </tr>\n",
       "    <tr>\n",
       "      <th>375</th>\n",
       "      <td>2021-10-28T23:15:24-0400</td>\n",
       "      <td>0</td>\n",
       "      <td>None</td>\n",
       "      <td>Multiple Impacts</td>\n",
       "      <td>lmm:alert:104049</td>\n",
       "      <td>37</td>\n",
       "      <td>3</td>\n",
       "      <td>2021-10-28T22:25:24-0400</td>\n",
       "      <td>&lt;p&gt;[2] and [3] trains are delayed and/or rerou...</td>\n",
       "    </tr>\n",
       "  </tbody>\n",
       "</table>\n",
       "</div>"
      ],
      "text/plain": [
       "                    startDate direction endDate     statusSummary  \\\n",
       "372  2021-10-28T23:15:24-0400         1    None  Multiple Impacts   \n",
       "373  2021-10-28T23:15:24-0400         0    None  Multiple Impacts   \n",
       "374  2021-10-28T23:15:24-0400         1    None  Multiple Impacts   \n",
       "375  2021-10-28T23:15:24-0400         0    None  Multiple Impacts   \n",
       "\n",
       "                   id  priority line              creationDate  \\\n",
       "372  lmm:alert:104049        37    2  2021-10-28T22:25:24-0400   \n",
       "373  lmm:alert:104049        37    2  2021-10-28T22:25:24-0400   \n",
       "374  lmm:alert:104049        37    3  2021-10-28T22:25:24-0400   \n",
       "375  lmm:alert:104049        37    3  2021-10-28T22:25:24-0400   \n",
       "\n",
       "                                     statusDescription  \n",
       "372  <p>[2] and [3] trains are delayed and/or rerou...  \n",
       "373  <p>[2] and [3] trains are delayed and/or rerou...  \n",
       "374  <p>[2] and [3] trains are delayed and/or rerou...  \n",
       "375  <p>[2] and [3] trains are delayed and/or rerou...  "
      ]
     },
     "execution_count": 92,
     "metadata": {},
     "output_type": "execute_result"
    }
   ],
   "source": [
    "relevant_alert = \"lmm:alert:104049\"\n",
    "\n",
    "alert_df[alert_df.id == relevant_alert]"
   ]
  },
  {
   "cell_type": "code",
   "execution_count": 93,
   "metadata": {},
   "outputs": [
    {
     "data": {
      "text/plain": [
       "'<p>[2] and [3] trains are delayed and/or rerouted while emergency teams respond to a person who was struck by a train at <b>116 St</b>. </p><p>Some northbound [2] trains are running along the [5] line from <b>Nevins St</b> to <b>149 St-Grand Concourse</b>. </p><p>Some northbound [2] trains are running on the southbound track between <b>Central Park North (110 St)</b> and <b>135 St</b>. </p><p>Northbound [3] trains will end at <b>137 St-City College</b> via the [1] line and turn back southbound. </p><p>For continued service along Lenox Av, take the<strong> M7 </strong>bus or see buses near you at bustime.mta.info. </p><p>See a station agent for a free courtesy pass to continue your trip.</p>'"
      ]
     },
     "execution_count": 93,
     "metadata": {},
     "output_type": "execute_result"
    }
   ],
   "source": [
    "alert_df[alert_df.id == relevant_alert].iloc[0]['statusDescription']"
   ]
  },
  {
   "cell_type": "markdown",
   "metadata": {},
   "source": [
    "This is great -- the alert is informing people to take the M7 bus. This allows us to dive into the effect the alert may have had on ridership levels on this bus. Let's first see for how long the alert was active. "
   ]
  },
  {
   "cell_type": "code",
   "execution_count": 94,
   "metadata": {},
   "outputs": [
    {
     "data": {
      "text/plain": [
       "('2021-10-28T23:15:24-0400', None)"
      ]
     },
     "execution_count": 94,
     "metadata": {},
     "output_type": "execute_result"
    }
   ],
   "source": [
    "(alert_df[alert_df.id == relevant_alert].iloc[0].startDate, alert_df[alert_df.id == relevant_alert].iloc[0].endDate)"
   ]
  },
  {
   "cell_type": "markdown",
   "metadata": {},
   "source": [
    "One problem arises here: there is no `endDate` recorded. This is likely a result of the nature of these alerts: they do not have a planned end time. We can inform the time at which the alert stopped being active, however, by looking at the different files. For this purpose, we would need to include a timestamp of the creation date of the file. "
   ]
  },
  {
   "cell_type": "markdown",
   "metadata": {},
   "source": [
    "## Inferring end time of alert"
   ]
  },
  {
   "cell_type": "code",
   "execution_count": 95,
   "metadata": {},
   "outputs": [],
   "source": [
    "time_alerts = []\n",
    "\n",
    "for file_name in file_names:\n",
    "    time = file_name[9:19]\n",
    "    with open (\"unplanned_data/\" + file_name, 'r') as f:\n",
    "        data = json.load(f)\n",
    "        for dic in data:\n",
    "            dic['time'] = time\n",
    "        time_alerts += data"
   ]
  },
  {
   "cell_type": "code",
   "execution_count": 96,
   "metadata": {},
   "outputs": [
    {
     "data": {
      "text/plain": [
       "(33476, 10)"
      ]
     },
     "execution_count": 96,
     "metadata": {},
     "output_type": "execute_result"
    }
   ],
   "source": [
    "time_df = pd.DataFrame(time_alerts)\n",
    "time_df.shape"
   ]
  },
  {
   "cell_type": "code",
   "execution_count": 97,
   "metadata": {},
   "outputs": [
    {
     "data": {
      "text/plain": [
       "id\n",
       "lmm:alert:103638                             [1635356402, 1635357002]\n",
       "lmm:alert:103648                 [1635356402, 1635357002, 1635357602]\n",
       "lmm:alert:103650    [1635356402, 1635357002, 1635358802, 163535820...\n",
       "lmm:alert:103656                                         [1635357602]\n",
       "lmm:alert:103657                                         [1635358202]\n",
       "Name: time, dtype: object"
      ]
     },
     "execution_count": 97,
     "metadata": {},
     "output_type": "execute_result"
    }
   ],
   "source": [
    "alert_times = time_df.groupby(\"id\").time.unique()\n",
    "alert_times.head()"
   ]
  },
  {
   "cell_type": "code",
   "execution_count": 98,
   "metadata": {},
   "outputs": [
    {
     "data": {
      "text/plain": [
       "(33476, 11)"
      ]
     },
     "execution_count": 98,
     "metadata": {},
     "output_type": "execute_result"
    }
   ],
   "source": [
    "time_df = time_df.merge(alert_times, on='id')\n",
    "time_df.shape"
   ]
  },
  {
   "cell_type": "code",
   "execution_count": 99,
   "metadata": {},
   "outputs": [
    {
     "data": {
      "text/plain": [
       "Index(['startDate', 'direction', 'endDate', 'statusSummary', 'id', 'priority',\n",
       "       'line', 'creationDate', 'statusDescription', 'time', 'time_list'],\n",
       "      dtype='object')"
      ]
     },
     "execution_count": 99,
     "metadata": {},
     "output_type": "execute_result"
    }
   ],
   "source": [
    "time_df = time_df.rename({\"time_x\": \"time\", \"time_y\": \"time_list\"}, axis=1)\n",
    "time_df.columns"
   ]
  },
  {
   "cell_type": "code",
   "execution_count": 105,
   "metadata": {},
   "outputs": [
    {
     "data": {
      "text/plain": [
       "1635479402"
      ]
     },
     "execution_count": 105,
     "metadata": {},
     "output_type": "execute_result"
    }
   ],
   "source": [
    "endTime = int(time_df[time_df.id == relevant_alert].time.max())\n",
    "endTime"
   ]
  },
  {
   "cell_type": "code",
   "execution_count": 108,
   "metadata": {},
   "outputs": [
    {
     "data": {
      "text/plain": [
       "datetime.datetime(2021, 10, 28, 23, 50, 2)"
      ]
     },
     "execution_count": 108,
     "metadata": {},
     "output_type": "execute_result"
    }
   ],
   "source": [
    "ts = datetime.datetime.fromtimestamp(endTime)\n",
    "ts"
   ]
  },
  {
   "cell_type": "code",
   "execution_count": 114,
   "metadata": {},
   "outputs": [],
   "source": [
    "ts_s = ts.strftime('%Y-%m-%dT%H:%M:%S-0500')"
   ]
  },
  {
   "cell_type": "code",
   "execution_count": 115,
   "metadata": {},
   "outputs": [
    {
     "name": "stderr",
     "output_type": "stream",
     "text": [
      "<ipython-input-115-5f0f6591b4c2>:1: SettingWithCopyWarning: \n",
      "A value is trying to be set on a copy of a slice from a DataFrame.\n",
      "Try using .loc[row_indexer,col_indexer] = value instead\n",
      "\n",
      "See the caveats in the documentation: https://pandas.pydata.org/pandas-docs/stable/user_guide/indexing.html#returning-a-view-versus-a-copy\n",
      "  time_df[time_df.id == relevant_alert]['endDate'] = ts_s\n"
     ]
    }
   ],
   "source": [
    "time_df[time_df.id == relevant_alert]['endDate'] = ts_s"
   ]
  },
  {
   "cell_type": "code",
   "execution_count": 117,
   "metadata": {},
   "outputs": [],
   "source": [
    "time_df.loc[time_df.id == relevant_alert, 'endDate'] = ts_s"
   ]
  },
  {
   "cell_type": "code",
   "execution_count": 118,
   "metadata": {},
   "outputs": [
    {
     "data": {
      "text/plain": [
       "29628    2021-10-28T23:50:02-0500\n",
       "29629    2021-10-28T23:50:02-0500\n",
       "29630    2021-10-28T23:50:02-0500\n",
       "29631    2021-10-28T23:50:02-0500\n",
       "29632    2021-10-28T23:50:02-0500\n",
       "29633    2021-10-28T23:50:02-0500\n",
       "29634    2021-10-28T23:50:02-0500\n",
       "29635    2021-10-28T23:50:02-0500\n",
       "29636    2021-10-28T23:50:02-0500\n",
       "29637    2021-10-28T23:50:02-0500\n",
       "29638    2021-10-28T23:50:02-0500\n",
       "29639    2021-10-28T23:50:02-0500\n",
       "29640    2021-10-28T23:50:02-0500\n",
       "29641    2021-10-28T23:50:02-0500\n",
       "29642    2021-10-28T23:50:02-0500\n",
       "29643    2021-10-28T23:50:02-0500\n",
       "Name: endDate, dtype: object"
      ]
     },
     "execution_count": 118,
     "metadata": {},
     "output_type": "execute_result"
    }
   ],
   "source": []
  },
  {
   "cell_type": "code",
   "execution_count": 119,
   "metadata": {},
   "outputs": [
    {
     "data": {
      "text/plain": [
       "('2021-10-28T23:15:24-0400', '2021-10-28T23:50:02-0500')"
      ]
     },
     "execution_count": 119,
     "metadata": {},
     "output_type": "execute_result"
    }
   ],
   "source": [
    "(time_df[time_df.id == relevant_alert].iloc[0].startDate, time_df[time_df.id == relevant_alert].iloc[0].endDate)"
   ]
  },
  {
   "cell_type": "markdown",
   "metadata": {},
   "source": [
    "All in all, the alert was active for some 35 to 45 minutes. "
   ]
  },
  {
   "cell_type": "markdown",
   "metadata": {},
   "source": [
    "# Looking at impact on bus"
   ]
  },
  {
   "cell_type": "code",
   "execution_count": 128,
   "metadata": {},
   "outputs": [
    {
     "name": "stderr",
     "output_type": "stream",
     "text": [
      "/Users/Lars/opt/anaconda3/lib/python3.8/site-packages/IPython/core/interactiveshell.py:3146: DtypeWarning: Columns (22) have mixed types.Specify dtype option on import or set low_memory=False.\n",
      "  has_raised = await self.run_ast_nodes(code_ast.body, cell_name,\n"
     ]
    },
    {
     "data": {
      "text/plain": [
       "(383785, 24)"
      ]
     },
     "execution_count": 128,
     "metadata": {},
     "output_type": "execute_result"
    }
   ],
   "source": [
    "m7_df = pd.read_csv(\"20211001_20211029_M7.csv\")\n",
    "m7_df.shape"
   ]
  },
  {
   "cell_type": "markdown",
   "metadata": {},
   "source": [
    "Remove duplicate entries"
   ]
  },
  {
   "cell_type": "code",
   "execution_count": 129,
   "metadata": {},
   "outputs": [],
   "source": [
    "def add_uid(df):\n",
    "    df['uid'] = df['service_date'] + \"_\" + df['trip_id'] + \"_\" + df['vehicle_id']\n",
    "    # drop duplicates\n",
    "    return df\n",
    "\n",
    "def remove_duplicate_stops(df):\n",
    "    df = df.drop_duplicates(subset=['uid', 'next_stop_id'], keep='last', ignore_index=True)\n",
    "    df = df.reset_index(drop=True)\n",
    "    return df"
   ]
  },
  {
   "cell_type": "code",
   "execution_count": 130,
   "metadata": {},
   "outputs": [
    {
     "data": {
      "text/plain": [
       "(196755, 25)"
      ]
     },
     "execution_count": 130,
     "metadata": {},
     "output_type": "execute_result"
    }
   ],
   "source": [
    "m7_df = add_uid(m7_df)\n",
    "m7_df = remove_duplicate_stops(m7_df)\n",
    "m7_df.shape"
   ]
  },
  {
   "cell_type": "markdown",
   "metadata": {},
   "source": [
    "- Should we restrict data to just the relevant stops?\n",
    "- Should we restrict data to just the relevant time of day?\n",
    "- Should we first focus on one direction?"
   ]
  },
  {
   "cell_type": "code",
   "execution_count": 167,
   "metadata": {},
   "outputs": [
    {
     "data": {
      "text/plain": [
       "((105416, 25), (91339, 25))"
      ]
     },
     "execution_count": 167,
     "metadata": {},
     "output_type": "execute_result"
    }
   ],
   "source": [
    "m7_N = m7_df[m7_df.direction == 0]\n",
    "m7_S = m7_df[m7_df.direction == 1]\n",
    "\n",
    "(m7_N.shape, m7_S.shape)"
   ]
  },
  {
   "cell_type": "code",
   "execution_count": 168,
   "metadata": {},
   "outputs": [
    {
     "name": "stderr",
     "output_type": "stream",
     "text": [
      "<ipython-input-168-eaa66bbe7742>:1: SettingWithCopyWarning: \n",
      "A value is trying to be set on a copy of a slice from a DataFrame.\n",
      "Try using .loc[row_indexer,col_indexer] = value instead\n",
      "\n",
      "See the caveats in the documentation: https://pandas.pydata.org/pandas-docs/stable/user_guide/indexing.html#returning-a-view-versus-a-copy\n",
      "  m7_N['timestamp'] = pd.to_datetime(m7_N.timestamp)\n",
      "<ipython-input-168-eaa66bbe7742>:2: SettingWithCopyWarning: \n",
      "A value is trying to be set on a copy of a slice from a DataFrame.\n",
      "Try using .loc[row_indexer,col_indexer] = value instead\n",
      "\n",
      "See the caveats in the documentation: https://pandas.pydata.org/pandas-docs/stable/user_guide/indexing.html#returning-a-view-versus-a-copy\n",
      "  m7_S['timestamp'] = pd.to_datetime(m7_S.timestamp)\n"
     ]
    }
   ],
   "source": [
    "m7_N['timestamp'] = pd.to_datetime(m7_N.timestamp)\n",
    "m7_S['timestamp'] = pd.to_datetime(m7_S.timestamp)"
   ]
  },
  {
   "cell_type": "markdown",
   "metadata": {},
   "source": [
    "## M7 Northbound"
   ]
  },
  {
   "cell_type": "markdown",
   "metadata": {},
   "source": [
    "We are interested in time ranging from 9PM until 2AM the next morning. "
   ]
  },
  {
   "cell_type": "code",
   "execution_count": 169,
   "metadata": {},
   "outputs": [
    {
     "data": {
      "text/plain": [
       "(14459, 25)"
      ]
     },
     "execution_count": 169,
     "metadata": {},
     "output_type": "execute_result"
    }
   ],
   "source": [
    "m7_N_time = m7_N[(m7_N.timestamp.dt.hour >= 21) | (m7_N.timestamp.dt.hour <= 1)]\n",
    "m7_N_time.shape"
   ]
  },
  {
   "cell_type": "markdown",
   "metadata": {},
   "source": [
    "We will also restrict our analysis to the relevant stops (i.e. those closest to where the event happened)"
   ]
  },
  {
   "cell_type": "code",
   "execution_count": 170,
   "metadata": {},
   "outputs": [
    {
     "data": {
      "text/plain": [
       "(5721, 25)"
      ]
     },
     "execution_count": 170,
     "metadata": {},
     "output_type": "execute_result"
    }
   ],
   "source": [
    "m7_N_time = m7_N_time[m7_N_time.passenger_count.notna()]\n",
    "m7_N_time = m7_N_time[m7_N_time.passenger_count != \"None\"]\n",
    "m7_N_time.shape"
   ]
  },
  {
   "cell_type": "code",
   "execution_count": 171,
   "metadata": {},
   "outputs": [
    {
     "data": {
      "text/plain": [
       "array(['MTA_404991', 'MTA_400929', 'MTA_400731', 'MTA_403769',\n",
       "       'MTA_404043', 'MTA_400938', 'MTA_400941', 'MTA_400943',\n",
       "       'MTA_401015', 'MTA_401016', 'MTA_400747', 'MTA_400750',\n",
       "       'MTA_401021', 'MTA_401023', 'MTA_401025', 'MTA_401027',\n",
       "       'MTA_401030', 'MTA_401031', 'MTA_401034', 'MTA_401037',\n",
       "       'MTA_401039', 'MTA_405092', 'MTA_401044', 'MTA_401045',\n",
       "       'MTA_401047', 'MTA_404333', 'MTA_401051', 'MTA_401055',\n",
       "       'MTA_401056', 'MTA_404335', 'MTA_400065', 'MTA_405087',\n",
       "       'MTA_400394', 'MTA_403914', 'MTA_404341', 'MTA_404334',\n",
       "       'MTA_400732', 'MTA_401052', 'MTA_405014', 'MTA_400933',\n",
       "       'MTA_400062', 'MTA_404039', 'MTA_404040', 'MTA_400936',\n",
       "       'MTA_400066', 'MTA_403132', 'MTA_400067', 'MTA_404992',\n",
       "       'MTA_403271', 'MTA_404320', 'MTA_401014', 'MTA_401035',\n",
       "       'MTA_401038', 'MTA_401026', 'MTA_803003', 'MTA_401029',\n",
       "       'MTA_401032', 'MTA_401036', 'MTA_401022', 'MTA_401024',\n",
       "       'MTA_400940', 'MTA_401033', 'MTA_400726'], dtype=object)"
      ]
     },
     "execution_count": 171,
     "metadata": {},
     "output_type": "execute_result"
    }
   ],
   "source": [
    "m7_N_time.next_stop_id.unique()"
   ]
  },
  {
   "cell_type": "code",
   "execution_count": 172,
   "metadata": {},
   "outputs": [
    {
     "data": {
      "text/plain": [
       "22"
      ]
     },
     "execution_count": 172,
     "metadata": {},
     "output_type": "execute_result"
    }
   ],
   "source": [
    "relevant_stops_N = [\n",
    "    'MTA_803003',\n",
    "    'MTA_401038',\n",
    "    'MTA_400067',\n",
    "    'MTA_400066', \n",
    "    'MTA_400062',\n",
    "    'MTA_405014',\n",
    "    'MTA_401052', \n",
    "    'MTA_404334',\n",
    "    'MTA_404341',\n",
    "    'MTA_400394',\n",
    "    'MTA_405087',\n",
    "    'MTA_400065',\n",
    "    'MTA_404335',\n",
    "    'MTA_401056',\n",
    "    'MTA_401055',\n",
    "    'MTA_401051',\n",
    "    'MTA_404333',\n",
    "    'MTA_401047',\n",
    "    'MTA_401045',\n",
    "    'MTA_401044',\n",
    "    'MTA_405092',\n",
    "    'MTA_401039',\n",
    "]\n",
    "\n",
    "len(relevant_stops_N)"
   ]
  },
  {
   "cell_type": "code",
   "execution_count": 174,
   "metadata": {},
   "outputs": [
    {
     "data": {
      "text/plain": [
       "(2345, 25)"
      ]
     },
     "execution_count": 174,
     "metadata": {},
     "output_type": "execute_result"
    }
   ],
   "source": [
    "m7_N_time = m7_N_time[m7_N_time.next_stop_id.isin(relevant_stops_N)]\n",
    "m7_N_time.shape"
   ]
  },
  {
   "cell_type": "code",
   "execution_count": 184,
   "metadata": {},
   "outputs": [],
   "source": [
    "m7_N_time['hour'] = m7_N_time.timestamp.dt.hour - 2\n",
    "m7_N_time['passenger_count'] = m7_N_time.passenger_count.astype(int)"
   ]
  },
  {
   "cell_type": "code",
   "execution_count": 187,
   "metadata": {},
   "outputs": [],
   "source": [
    "m7_N_time.loc[m7_N_time['hour'] == -1, 'hour'] = 23\n",
    "m7_N_time.loc[m7_N_time['hour'] == -2, 'hour'] = 22"
   ]
  },
  {
   "cell_type": "code",
   "execution_count": 190,
   "metadata": {},
   "outputs": [
    {
     "data": {
      "text/plain": [
       "array([23, 19, 20, 22, 21])"
      ]
     },
     "execution_count": 190,
     "metadata": {},
     "output_type": "execute_result"
    }
   ],
   "source": [
    "m7_N_time.hour.unique()"
   ]
  },
  {
   "cell_type": "code",
   "execution_count": 214,
   "metadata": {},
   "outputs": [
    {
     "data": {
      "image/png": "[encoded data removed]",
      "text/plain": [
       "<Figure size 1440x1440 with 24 Axes>"
      ]
     },
     "metadata": {
      "needs_background": "light"
     },
     "output_type": "display_data"
    }
   ],
   "source": [
    "import matplotlib.pyplot as plt\n",
    "\n",
    "fig, axs = plt.subplots(6, 4, figsize=(20, 20))\n",
    "r = 0\n",
    "c = 0\n",
    "i = 0\n",
    "\n",
    "for stop_id in relevant_stops_N:\n",
    "    subset = m7_N_time[m7_N_time.next_stop_id == stop_id]\n",
    "    subset.groupby(\"hour\").passenger_count.mean().plot.bar(ax=axs[r, c])\n",
    "    axs[r, c].set_ylim([0, 15])\n",
    "    i += 1\n",
    "    r = i % 6\n",
    "    c = i // 6\n",
    "\n",
    "\n",
    "plt.show()\n",
    "    "
   ]
  },
  {
   "cell_type": "code",
   "execution_count": 211,
   "metadata": {},
   "outputs": [
    {
     "data": {
      "text/plain": [
       "(97, 26)"
      ]
     },
     "execution_count": 211,
     "metadata": {},
     "output_type": "execute_result"
    }
   ],
   "source": [
    "alert_subset = m7_N_time[m7_N_time.timestamp.dt.day == 28]\n",
    "alert_subset.shape"
   ]
  },
  {
   "cell_type": "code",
   "execution_count": 239,
   "metadata": {},
   "outputs": [
    {
     "data": {
      "image/png": "[encoded data removed]",
      "text/plain": [
       "<Figure size 1440x1440 with 24 Axes>"
      ]
     },
     "metadata": {
      "needs_background": "light"
     },
     "output_type": "display_data"
    }
   ],
   "source": [
    "import matplotlib.pyplot as plt\n",
    "\n",
    "fig, axs = plt.subplots(6, 4, figsize=(20, 20))\n",
    "r = 0\n",
    "c = 0\n",
    "i = 0\n",
    "\n",
    "hours = [19, 20, 21, 22, 23]\n",
    "\n",
    "for stop_id in relevant_stops_N:\n",
    "    subset = m7_N_time[m7_N_time.next_stop_id == stop_id]\n",
    "    axs[r,c].bar(hours, subset.groupby(\"hour\").passenger_count.mean())\n",
    "    #subset.groupby(\"hour\").passenger_count.mean().plot.bar(ax=axs[r, c])\n",
    "    alert_counts = []\n",
    "    for hour in hours:\n",
    "        count = alert_subset[(alert_subset.next_stop_id == stop_id) & (alert_subset.hour == hour)].passenger_count.mean()\n",
    "        alert_counts.append(count)\n",
    "        # try:\n",
    "        # except:\n",
    "        #     print(\"No count\")\n",
    "    axs[r, c].plot(hours, alert_counts, marker='o', markersize=3, color=\"red\")\n",
    "    axs[r, c].set_ylim([0, 42])\n",
    "    axs[r, c].set_xlim([19, 23])\n",
    "    i += 1\n",
    "    r = i % 6\n",
    "    c = i // 6\n",
    "\n",
    "\n",
    "plt.show()\n",
    "    "
   ]
  },
  {
   "cell_type": "code",
   "execution_count": 240,
   "metadata": {},
   "outputs": [
    {
     "data": {
      "text/plain": [
       "array(['MTA NYCT_OF_D1-Weekday-SDon-143000_M1_139',\n",
       "       'MTA NYCT_OF_D1-Weekday-SDon-147000_M1_141',\n",
       "       'MTA NYCT_OF_D1-Weekday-SDon-121500_M7_234',\n",
       "       'MTA NYCT_OF_D1-Weekday-SDon-129000_M7_239',\n",
       "       'MTA NYCT_OF_D1-Weekday-SDon-131000_M1_141',\n",
       "       'MTA NYCT_OF_D1-Weekday-SDon-137000_M1_142'], dtype=object)"
      ]
     },
     "execution_count": 240,
     "metadata": {},
     "output_type": "execute_result"
    }
   ],
   "source": [
    "alert_subset.trip_id.unique()"
   ]
  },
  {
   "cell_type": "markdown",
   "metadata": {},
   "source": [
    "Why is `M1` included in the trip ids?"
   ]
  },
  {
   "cell_type": "code",
   "execution_count": 271,
   "metadata": {},
   "outputs": [
    {
     "data": {
      "image/png": "[encoded data removed]",
      "text/plain": [
       "<Figure size 1440x1440 with 24 Axes>"
      ]
     },
     "metadata": {
      "needs_background": "light"
     },
     "output_type": "display_data"
    }
   ],
   "source": [
    "import matplotlib.pyplot as plt\n",
    "\n",
    "fig, axs = plt.subplots(6, 4, figsize=(20, 20))\n",
    "r = 0\n",
    "c = 0\n",
    "i = 0\n",
    "\n",
    "hours = [19, 20, 21, 22, 23]\n",
    "\n",
    "for stop_id in relevant_stops_N:\n",
    "    subset = m7_N_time[m7_N_time.next_stop_id == stop_id]\n",
    "    axs[r,c].bar(hours, subset.groupby(\"hour\").passenger_count.mean())\n",
    "    #subset.groupby(\"hour\").passenger_count.mean().plot.bar(ax=axs[r, c])\n",
    "    alert_counts = []\n",
    "    count = alert_subset[(alert_subset.next_stop_id == stop_id)]\n",
    "    for j in range(count.shape[0]):\n",
    "        alert_counts.append((\n",
    "            count.passenger_count.values[j],\n",
    "            (count.hour + count.timestamp.dt.minute / 60).values[j]\n",
    "        ))\n",
    "        # try:\n",
    "        # except:\n",
    "        #     print(\"No count\")\n",
    "    alert_counts = sorted(alert_counts, key = lambda x: x[1])\n",
    "    times = [i[1] for i in alert_counts]\n",
    "    counts = [i[0] for i in alert_counts]\n",
    "    axs[r, c].axvline(x=21.25, c='gray')\n",
    "    axs[r, c].axvline(x=22, c='gray')\n",
    "    axs[r, c].plot(times, counts, marker='o', markersize=3, color=\"red\")\n",
    "    axs[r, c].set_ylim([0, 42])\n",
    "    axs[r, c].set_xlim([19, 23])\n",
    "    i += 1\n",
    "    r = i % 6\n",
    "    c = i // 6\n",
    "\n",
    "plt.show()\n",
    "    "
   ]
  },
  {
   "cell_type": "markdown",
   "metadata": {},
   "source": [
    "### 2021-11-03\n",
    "- Need to find relevant stops\n",
    "- For entire day, for all stops, look at anomalous events\n",
    "    - Might find events that aren't related to alerts\n",
    "    - How much do (un)planned disruptions explain?\n",
    "- Look into packages for graphs\n",
    "    - Look at older work\n",
    "    - Spatially --> look at proximity between subway stations and bus stops\n",
    "- Manual: brute force or hand-pick specific area\n",
    "- Look at outlying parts of network  (fewer alternatives, important from an equity point of view)  \n",
    "    - Eric Goldwyn\n",
    "- Missed runs    "
   ]
  },
  {
   "cell_type": "code",
   "execution_count": null,
   "metadata": {},
   "outputs": [],
   "source": []
  }
 ],
 "metadata": {
  "interpreter": {
   "hash": "d06db2dd0ed2748016d53c42457896c61f2017719ef747483559390d471eac89"
  },
  "kernelspec": {
   "display_name": "Python 3.8.5 64-bit ('base': conda)",
   "name": "python3"
  },
  "language_info": {
   "codemirror_mode": {
    "name": "ipython",
    "version": 3
   },
   "file_extension": ".py",
   "mimetype": "text/x-python",
   "name": "python",
   "nbconvert_exporter": "python",
   "pygments_lexer": "ipython3",
   "version": "3.8.5"
  },
  "orig_nbformat": 4
 },
 "nbformat": 4,
 "nbformat_minor": 2
}
