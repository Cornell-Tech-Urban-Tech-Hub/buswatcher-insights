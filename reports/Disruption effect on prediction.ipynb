{
 "cells": [
  {
   "cell_type": "markdown",
   "metadata": {},
   "source": [
    "# Introduction\n",
    "\n",
    "In a previous exploration, `Interesting alert.ipynb`, we found an alert of a subway line that was disrupted. In this alert, passengers were advised to use the M7 bus as an alternative mode of transportation. When analysing the data before, during, and after the alert, it appeared that the number of passengers on the M7 bus had significantly increased while the alert was active. In this file, we would like to further build upon this observation, by analyzing the performance of our model on the M7 bus. Specifically, we will attempt to predict passenger numbers for the day during which the alert was active. Then, we will see if it is the case that the model fails to accurately predict during the alert period, as one would expect. Finally, we will introduce a 'disruption' variable into our dataset, which indicates whether an alert was active. Note that, for the latter, we might need to gather more data, as these disruptions happen infrequently."
   ]
  },
  {
   "cell_type": "markdown",
   "metadata": {},
   "source": [
    "# Train an M7 model"
   ]
  },
  {
   "cell_type": "code",
   "execution_count": null,
   "metadata": {},
   "outputs": [],
   "source": []
  }
 ],
 "metadata": {
  "language_info": {
   "name": "python"
  },
  "orig_nbformat": 4
 },
 "nbformat": 4,
 "nbformat_minor": 2
}
