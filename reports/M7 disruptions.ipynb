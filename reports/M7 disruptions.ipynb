{
 "cells": [
  {
   "cell_type": "markdown",
   "metadata": {},
   "source": [
    "# Introduction\n",
    "\n",
    "We have data on a set of disruptions in which the M7 was mentioned as a potential rerouting. The M7 bus was the route that most frequently appeared in about a month's worth of service alerts related to subway disruptions. In this file, we will train a model that uses a **disruption** feature based on these disruptions. Our goal is to see whether adding this feature provides any improvement to the performance of our model. We will try two different versions of the disruption feature: one which is a binary variable indication whether a disruption is active, as well as an ordinal variabel indicating the severity of the disruption, as reported by the MTA. "
   ]
  },
  {
   "cell_type": "markdown",
   "metadata": {},
   "source": [
    "# Preparing data\n",
    "## Imports"
   ]
  },
  {
   "cell_type": "code",
   "execution_count": 1,
   "metadata": {},
   "outputs": [],
   "source": [
    "import pandas as pd\n",
    "import passenger_pred.load as ppl\n",
    "import passenger_pred.preprocess as ppp\n",
    "from xgboost import XGBRegressor\n",
    "from sklearn.metrics import mean_absolute_error\n",
    "import matplotlib.pyplot as plt\n",
    "import numpy as np"
   ]
  },
  {
   "cell_type": "markdown",
   "metadata": {},
   "source": [
    "## Loading m7 data\n",
    "\n",
    "The earliest date for which we have a recorded alert is Wednesday, October 27th. The last alert we have included is from November 22nd. We will thus load m7 data from October 28th until November 21st. "
   ]
  },
  {
   "cell_type": "code",
   "execution_count": 4,
   "metadata": {},
   "outputs": [
    {
     "data": {
      "text/plain": [
       "(458108, 24)"
      ]
     },
     "execution_count": 4,
     "metadata": {},
     "output_type": "execute_result"
    }
   ],
   "source": [
    "M7_DIR = \"../data/M7/\"\n",
    "\n",
    "df_m7 = pd.read_csv(M7_DIR + \"M7_20211028_20211202.csv\")\n",
    "df_m7.shape"
   ]
  },
  {
   "cell_type": "markdown",
   "metadata": {},
   "source": [
    "## Preprocessing data"
   ]
  },
  {
   "cell_type": "code",
   "execution_count": 5,
   "metadata": {},
   "outputs": [],
   "source": [
    "df_m7 = ppp.add_uid(df_m7)\n",
    "df_m7 = ppp.remove_duplicate_stops(df_m7)\n",
    "df_m7 = ppp.add_time_features(df_m7)\n",
    "df_m7 = ppp.fill_zero_passengers(df_m7)"
   ]
  },
  {
   "cell_type": "code",
   "execution_count": 6,
   "metadata": {},
   "outputs": [
    {
     "data": {
      "text/plain": [
       "(237326, 29)"
      ]
     },
     "execution_count": 6,
     "metadata": {},
     "output_type": "execute_result"
    }
   ],
   "source": [
    "df_m7['timestamp_dt'] = pd.to_datetime(df_m7.timestamp, utc=True)\n",
    "df_m7['hour'] = df_m7['timestamp_dt'].dt.hour\n",
    "df_m7['day'] = df_m7['timestamp_dt'].dt.day\n",
    "df_m7['dow'] = df_m7['timestamp_dt'].dt.weekday\n",
    "df_m7.shape"
   ]
  },
  {
   "cell_type": "code",
   "execution_count": 7,
   "metadata": {},
   "outputs": [
    {
     "data": {
      "text/plain": [
       "(103725, 29)"
      ]
     },
     "execution_count": 7,
     "metadata": {},
     "output_type": "execute_result"
    }
   ],
   "source": [
    "df_m7 = df_m7[df_m7.passenger_count.notna()]\n",
    "df_m7 = df_m7[df_m7.passenger_count != \"None\"]\n",
    "df_m7.shape"
   ]
  },
  {
   "cell_type": "code",
   "execution_count": 8,
   "metadata": {},
   "outputs": [
    {
     "data": {
      "text/plain": [
       "(103725, 30)"
      ]
     },
     "execution_count": 8,
     "metadata": {},
     "output_type": "execute_result"
    }
   ],
   "source": [
    "df_m7['next_stop'] = pd.Categorical(df_m7.next_stop_id, ordered=False)\n",
    "df_m7['next_stop'] = df_m7['next_stop'].cat.codes\n",
    "df_m7.shape"
   ]
  },
  {
   "cell_type": "markdown",
   "metadata": {},
   "source": [
    "## Add disruption information\n",
    "We need to load information related to the disruptions, if we would like to include this information in the m7 dataset. "
   ]
  },
  {
   "cell_type": "code",
   "execution_count": 9,
   "metadata": {},
   "outputs": [
    {
     "data": {
      "text/plain": [
       "(6, 12)"
      ]
     },
     "execution_count": 9,
     "metadata": {},
     "output_type": "execute_result"
    }
   ],
   "source": [
    "alert_df = pd.read_csv(\"../data/unplanned_alerts/m7_20211028_20211202_time.csv\")\n",
    "alert_df.shape"
   ]
  },
  {
   "cell_type": "code",
   "execution_count": 10,
   "metadata": {},
   "outputs": [
    {
     "data": {
      "text/html": [
       "<div>\n",
       "<style scoped>\n",
       "    .dataframe tbody tr th:only-of-type {\n",
       "        vertical-align: middle;\n",
       "    }\n",
       "\n",
       "    .dataframe tbody tr th {\n",
       "        vertical-align: top;\n",
       "    }\n",
       "\n",
       "    .dataframe thead th {\n",
       "        text-align: right;\n",
       "    }\n",
       "</style>\n",
       "<table border=\"1\" class=\"dataframe\">\n",
       "  <thead>\n",
       "    <tr style=\"text-align: right;\">\n",
       "      <th></th>\n",
       "      <th>Unnamed: 0</th>\n",
       "      <th>startDate</th>\n",
       "      <th>direction</th>\n",
       "      <th>endDate</th>\n",
       "      <th>statusSummary</th>\n",
       "      <th>id</th>\n",
       "      <th>priority</th>\n",
       "      <th>line</th>\n",
       "      <th>creationDate</th>\n",
       "      <th>statusDescription</th>\n",
       "      <th>end_time</th>\n",
       "      <th>alert_minutes</th>\n",
       "    </tr>\n",
       "  </thead>\n",
       "  <tbody>\n",
       "    <tr>\n",
       "      <th>0</th>\n",
       "      <td>0</td>\n",
       "      <td>2021-11-28 14:20:11+00:00</td>\n",
       "      <td>0</td>\n",
       "      <td>2021-11-28 15:00:02+00:00</td>\n",
       "      <td>Multiple Impacts</td>\n",
       "      <td>lmm:alert:110986</td>\n",
       "      <td>37</td>\n",
       "      <td>2</td>\n",
       "      <td>2021-11-28T08:47:53-0500</td>\n",
       "      <td>&lt;p&gt;There is limited [2] service between &lt;stron...</td>\n",
       "      <td>1638111002</td>\n",
       "      <td>39.850000</td>\n",
       "    </tr>\n",
       "    <tr>\n",
       "      <th>1</th>\n",
       "      <td>1</td>\n",
       "      <td>2021-10-29 03:15:24+00:00</td>\n",
       "      <td>1</td>\n",
       "      <td>2021-10-29 05:00:02+00:00</td>\n",
       "      <td>Multiple Impacts</td>\n",
       "      <td>lmm:alert:104049</td>\n",
       "      <td>37</td>\n",
       "      <td>2</td>\n",
       "      <td>2021-10-28T22:25:24-0400</td>\n",
       "      <td>&lt;p&gt;[2] and [3] trains are delayed and/or rerou...</td>\n",
       "      <td>1635479402</td>\n",
       "      <td>104.633333</td>\n",
       "    </tr>\n",
       "    <tr>\n",
       "      <th>2</th>\n",
       "      <td>2</td>\n",
       "      <td>2021-11-28 15:03:05+00:00</td>\n",
       "      <td>0</td>\n",
       "      <td>2021-11-28 16:00:02+00:00</td>\n",
       "      <td>Delays</td>\n",
       "      <td>lmm:alert:111004</td>\n",
       "      <td>22</td>\n",
       "      <td>2</td>\n",
       "      <td>2021-11-28T08:47:53-0500</td>\n",
       "      <td>&lt;p&gt;[2] trains are running with significant del...</td>\n",
       "      <td>1638114602</td>\n",
       "      <td>56.950000</td>\n",
       "    </tr>\n",
       "    <tr>\n",
       "      <th>3</th>\n",
       "      <td>3</td>\n",
       "      <td>2021-10-31 17:52:09+00:00</td>\n",
       "      <td>1</td>\n",
       "      <td>2021-10-31 19:40:02+00:00</td>\n",
       "      <td>Part Suspended</td>\n",
       "      <td>lmm:alert:104663</td>\n",
       "      <td>35</td>\n",
       "      <td>3</td>\n",
       "      <td>2021-10-31T13:36:57-0400</td>\n",
       "      <td>&lt;p&gt;There is no [3] service between &lt;b&gt;Harlem-1...</td>\n",
       "      <td>1635705002</td>\n",
       "      <td>107.883333</td>\n",
       "    </tr>\n",
       "    <tr>\n",
       "      <th>4</th>\n",
       "      <td>4</td>\n",
       "      <td>2021-11-30 07:57:17+00:00</td>\n",
       "      <td>1</td>\n",
       "      <td>2021-11-30 08:20:01+00:00</td>\n",
       "      <td>Trains Rerouted</td>\n",
       "      <td>lmm:alert:111365</td>\n",
       "      <td>32</td>\n",
       "      <td>2</td>\n",
       "      <td>2021-11-30T02:23:57-0500</td>\n",
       "      <td>&lt;p&gt;[3] train service is suspended while our cr...</td>\n",
       "      <td>1638259801</td>\n",
       "      <td>22.733333</td>\n",
       "    </tr>\n",
       "  </tbody>\n",
       "</table>\n",
       "</div>"
      ],
      "text/plain": [
       "   Unnamed: 0                  startDate  direction  \\\n",
       "0           0  2021-11-28 14:20:11+00:00          0   \n",
       "1           1  2021-10-29 03:15:24+00:00          1   \n",
       "2           2  2021-11-28 15:03:05+00:00          0   \n",
       "3           3  2021-10-31 17:52:09+00:00          1   \n",
       "4           4  2021-11-30 07:57:17+00:00          1   \n",
       "\n",
       "                     endDate     statusSummary                id  priority  \\\n",
       "0  2021-11-28 15:00:02+00:00  Multiple Impacts  lmm:alert:110986        37   \n",
       "1  2021-10-29 05:00:02+00:00  Multiple Impacts  lmm:alert:104049        37   \n",
       "2  2021-11-28 16:00:02+00:00            Delays  lmm:alert:111004        22   \n",
       "3  2021-10-31 19:40:02+00:00    Part Suspended  lmm:alert:104663        35   \n",
       "4  2021-11-30 08:20:01+00:00   Trains Rerouted  lmm:alert:111365        32   \n",
       "\n",
       "   line              creationDate  \\\n",
       "0     2  2021-11-28T08:47:53-0500   \n",
       "1     2  2021-10-28T22:25:24-0400   \n",
       "2     2  2021-11-28T08:47:53-0500   \n",
       "3     3  2021-10-31T13:36:57-0400   \n",
       "4     2  2021-11-30T02:23:57-0500   \n",
       "\n",
       "                                   statusDescription    end_time  \\\n",
       "0  <p>There is limited [2] service between <stron...  1638111002   \n",
       "1  <p>[2] and [3] trains are delayed and/or rerou...  1635479402   \n",
       "2  <p>[2] trains are running with significant del...  1638114602   \n",
       "3  <p>There is no [3] service between <b>Harlem-1...  1635705002   \n",
       "4  <p>[3] train service is suspended while our cr...  1638259801   \n",
       "\n",
       "   alert_minutes  \n",
       "0      39.850000  \n",
       "1     104.633333  \n",
       "2      56.950000  \n",
       "3     107.883333  \n",
       "4      22.733333  "
      ]
     },
     "execution_count": 10,
     "metadata": {},
     "output_type": "execute_result"
    }
   ],
   "source": [
    "m7_alert = alert_df.copy()\n",
    "m7_alert.head()"
   ]
  },
  {
   "cell_type": "markdown",
   "metadata": {},
   "source": [
    "We now need to add the information from the alert `df` to the m7 `df`, if there was an alert active at the time that a record was recorded. "
   ]
  },
  {
   "cell_type": "code",
   "execution_count": 11,
   "metadata": {},
   "outputs": [],
   "source": [
    "m7_alert['startDate'] = pd.to_datetime(m7_alert.startDate, utc=True)\n",
    "m7_alert['endDate'] = pd.to_datetime(m7_alert.endDate, utc=True)\n",
    "\n",
    "df_m7['timestamp'] = pd.to_datetime(df_m7.timestamp, utc=True)"
   ]
  },
  {
   "cell_type": "code",
   "execution_count": 12,
   "metadata": {},
   "outputs": [],
   "source": [
    "def alert_active(row, alert_df, boolean=True, time_column='timestamp'):\n",
    "    valid_rows = alert_df[\n",
    "        (alert_df.startDate < row[time_column]) &\n",
    "        (row[time_column] < alert_df.endDate) \n",
    "    ]\n",
    "    if boolean:\n",
    "        return min(valid_rows.shape[0], 1)\n",
    "    elif valid_rows.shape[0] > 0:\n",
    "        return valid_rows.priority.max()\n",
    "    else:\n",
    "        return 0"
   ]
  },
  {
   "cell_type": "code",
   "execution_count": 13,
   "metadata": {},
   "outputs": [],
   "source": [
    "df_m7['alert_ind'] = df_m7.apply(lambda x: alert_active(x, m7_alert), axis=1)\n",
    "df_m7['alert_prio'] = df_m7.apply(lambda x: alert_active(x, m7_alert, boolean=False), axis=1)"
   ]
  },
  {
   "cell_type": "code",
   "execution_count": 14,
   "metadata": {},
   "outputs": [],
   "source": [
    "df_m7.passenger_count = df_m7.passenger_count.astype(int)"
   ]
  },
  {
   "cell_type": "code",
   "execution_count": 16,
   "metadata": {},
   "outputs": [],
   "source": [
    "df_m7.to_pickle(\"m7_20211028_20211202_alerts.pkl\")"
   ]
  },
  {
   "cell_type": "code",
   "execution_count": 13,
   "metadata": {},
   "outputs": [],
   "source": [
    "df_m7 = pd.read_pickle(\"m7_20211028_20211122_alerts.pkl\")"
   ]
  },
  {
   "cell_type": "code",
   "execution_count": 17,
   "metadata": {},
   "outputs": [
    {
     "data": {
      "text/plain": [
       "count    877.000000\n",
       "mean      34.444698\n",
       "std        3.607540\n",
       "min       22.000000\n",
       "25%       35.000000\n",
       "50%       35.000000\n",
       "75%       37.000000\n",
       "max       37.000000\n",
       "Name: alert_prio, dtype: float64"
      ]
     },
     "execution_count": 17,
     "metadata": {},
     "output_type": "execute_result"
    }
   ],
   "source": [
    "df_m7[df_m7['alert_prio'] > 0].alert_prio.describe()"
   ]
  },
  {
   "cell_type": "markdown",
   "metadata": {},
   "source": [
    "# Data analysis\n",
    "A question we might first like to answer is: are average `passenger_count` values higher when an alert is active?"
   ]
  },
  {
   "cell_type": "code",
   "execution_count": 18,
   "metadata": {},
   "outputs": [
    {
     "data": {
      "text/plain": [
       "8.31"
      ]
     },
     "execution_count": 18,
     "metadata": {},
     "output_type": "execute_result"
    }
   ],
   "source": [
    "round(df_m7[df_m7.alert_ind == 1].passenger_count.mean(), 2)"
   ]
  },
  {
   "cell_type": "code",
   "execution_count": 19,
   "metadata": {},
   "outputs": [
    {
     "data": {
      "text/plain": [
       "9.62"
      ]
     },
     "execution_count": 19,
     "metadata": {},
     "output_type": "execute_result"
    }
   ],
   "source": [
    "round(df_m7[df_m7.alert_ind == 0].passenger_count.mean(), 2)"
   ]
  },
  {
   "cell_type": "markdown",
   "metadata": {},
   "source": [
    "A very naive method of answering this question appears to suggest that passenger levels are indeed higher when an alert is active, although not by much. Now, it must be noted that it may be true that all these alerts were active during times of date that are always busy. Therefore, it would be better to compare the number of passengers during a time period when an alert was active, compare to a similar time of day during another day. We will do this for each of the sixteen alerts that we have included in our dataset. "
   ]
  },
  {
   "cell_type": "code",
   "execution_count": 20,
   "metadata": {},
   "outputs": [
    {
     "data": {
      "text/plain": [
       "((877, 32), (102848, 32))"
      ]
     },
     "execution_count": 20,
     "metadata": {},
     "output_type": "execute_result"
    }
   ],
   "source": [
    "relevant_m7_data = df_m7[df_m7.alert_ind == 1]\n",
    "non_alert_m7_data = df_m7[df_m7.alert_ind == 0]\n",
    "\n",
    "(relevant_m7_data.shape, non_alert_m7_data.shape)"
   ]
  },
  {
   "cell_type": "code",
   "execution_count": 21,
   "metadata": {},
   "outputs": [
    {
     "name": "stdout",
     "output_type": "stream",
     "text": [
      "(1268, 32)\n",
      "(967, 32)\n",
      "(1366, 32)\n",
      "(2458, 32)\n",
      "(355, 32)\n",
      "(355, 32)\n"
     ]
    }
   ],
   "source": [
    "means_alert = []\n",
    "means_normal = []\n",
    "\n",
    "for i in m7_alert.index:\n",
    "    row = m7_alert.loc[i]\n",
    "    # print(row[['startDate', 'endDate']])\n",
    "    # print(\"dow\", row.startDate.dayofweek)\n",
    "    records = relevant_m7_data[\n",
    "        (relevant_m7_data.timestamp > row.startDate) &\n",
    "        (relevant_m7_data.timestamp < row.endDate)\n",
    "    ]\n",
    "    if records.shape[0] < 5:\n",
    "        continue\n",
    "    mean_alert = records.passenger_count.mean()\n",
    "\n",
    "    # find similar records\n",
    "    dow = records.dow.min()\n",
    "    dow_df = non_alert_m7_data[non_alert_m7_data.dow == dow]\n",
    "    dow_time_df = dow_df[\n",
    "        (dow_df.hour >= row.startDate.hour) &\n",
    "        (dow_df.hour <= row.endDate.hour)\n",
    "    ]\n",
    "    print(dow_time_df.shape)\n",
    "    mean_normal = dow_time_df.passenger_count.mean()\n",
    "    if mean_normal is not np.nan:\n",
    "        means_alert.append(mean_alert)\n",
    "        means_normal.append(mean_normal)"
   ]
  },
  {
   "cell_type": "code",
   "execution_count": 22,
   "metadata": {},
   "outputs": [
    {
     "data": {
      "text/plain": [
       "[-0.5587025099437666,\n",
       " 4.031346356365567,\n",
       " -1.419716935090288,\n",
       " -1.334736239387004,\n",
       " -1.560334982870194,\n",
       " -1.1226715129486595]"
      ]
     },
     "execution_count": 22,
     "metadata": {},
     "output_type": "execute_result"
    }
   ],
   "source": [
    "deviation = [alert - normal for alert, normal in zip(means_alert, means_normal)]\n",
    "deviation"
   ]
  },
  {
   "cell_type": "code",
   "execution_count": 23,
   "metadata": {},
   "outputs": [
    {
     "data": {
      "text/plain": [
       "[<matplotlib.lines.Line2D at 0x1242aae20>]"
      ]
     },
     "execution_count": 23,
     "metadata": {},
     "output_type": "execute_result"
    },
    {
     "data": {
      "image/png": "[encoded data removed]",
      "text/plain": [
       "<Figure size 720x576 with 1 Axes>"
      ]
     },
     "metadata": {
      "needs_background": "light"
     },
     "output_type": "display_data"
    }
   ],
   "source": [
    "fig, ax = plt.subplots(figsize=(10, 8))\n",
    "\n",
    "ax.plot(deviation, label = \"Means during normal situation\")"
   ]
  },
  {
   "cell_type": "markdown",
   "metadata": {},
   "source": [
    "# Training models\n",
    "We want to train and compare three different models\n",
    "- Base model (without alert information)\n",
    "- Boolean alert model\n",
    "- Priority alert model\n",
    "\n",
    "We will split our data s.t. we predict on one week of data. "
   ]
  },
  {
   "cell_type": "code",
   "execution_count": null,
   "metadata": {},
   "outputs": [],
   "source": []
  },
  {
   "cell_type": "code",
   "execution_count": 58,
   "metadata": {},
   "outputs": [],
   "source": [
    "df_m7['month'] = df_m7.timestamp_dt.dt.month"
   ]
  },
  {
   "cell_type": "code",
   "execution_count": 59,
   "metadata": {},
   "outputs": [
    {
     "data": {
      "text/plain": [
       "((79923, 33), (23802, 33))"
      ]
     },
     "execution_count": 59,
     "metadata": {},
     "output_type": "execute_result"
    }
   ],
   "source": [
    "df_test = df_m7[\n",
    "    (df_m7.day > 22) &\n",
    "    (df_m7.month == 11) |\n",
    "    (df_m7.day <= 2) &\n",
    "    (df_m7.month == 12)\n",
    "]\n",
    "\n",
    "df_train = df_m7[~df_m7.index.isin(df_test.index)]\n",
    "\n",
    "(df_train.shape, df_test.shape)"
   ]
  },
  {
   "cell_type": "markdown",
   "metadata": {},
   "source": [
    "## Feature enrichment"
   ]
  },
  {
   "cell_type": "code",
   "execution_count": 60,
   "metadata": {},
   "outputs": [],
   "source": [
    "def add_averages(df_train, df_test, stop_column='next_stop'):\n",
    "    mean_hour = df_train.groupby([stop_column, 'hour']).passenger_count.mean()\n",
    "    mean_dow = df_train.groupby([stop_column, 'dow']).passenger_count.mean()\n",
    "    mean_day = df_train.groupby([stop_column, 'day']).passenger_count.mean()\n",
    "    \n",
    "    df_train = df_train.join(mean_hour, on=[stop_column, 'hour'], rsuffix='_mean_hr')\n",
    "    df_train = df_train.join(mean_dow, on=[stop_column, 'dow'], rsuffix='_mean_dow')\n",
    "    df_train = df_train.join(mean_day, on=[stop_column, 'day'], rsuffix='_mean_day')\n",
    "\n",
    "    df_test = df_test.join(mean_hour, on=[stop_column, 'hour'], rsuffix='_mean_hr')\n",
    "    df_test = df_test.join(mean_dow, on=[stop_column, 'dow'], rsuffix='_mean_dow')\n",
    "    df_test = df_test.join(mean_day, on=[stop_column, 'day'], rsuffix='_mean_day')\n",
    "    return df_train, df_test"
   ]
  },
  {
   "cell_type": "code",
   "execution_count": 61,
   "metadata": {},
   "outputs": [],
   "source": [
    "df_train, df_test = add_averages(df_train, df_test)"
   ]
  },
  {
   "cell_type": "code",
   "execution_count": 62,
   "metadata": {},
   "outputs": [
    {
     "data": {
      "text/plain": [
       "((79923, 36), (23802, 36))"
      ]
     },
     "execution_count": 62,
     "metadata": {},
     "output_type": "execute_result"
    }
   ],
   "source": [
    "df_train.shape, df_test.shape"
   ]
  },
  {
   "cell_type": "markdown",
   "metadata": {},
   "source": [
    "## Base model"
   ]
  },
  {
   "cell_type": "code",
   "execution_count": 63,
   "metadata": {},
   "outputs": [
    {
     "data": {
      "text/plain": [
       "((79923, 7), (79923,), (23802, 7), (23802,))"
      ]
     },
     "execution_count": 63,
     "metadata": {},
     "output_type": "execute_result"
    }
   ],
   "source": [
    "base_train_columns = [\n",
    "    \"direction\",\n",
    "    \"next_stop\",\n",
    "    \"lat\", \n",
    "    \"lon\",\n",
    "    \"hour\",\n",
    "    \"day\",\n",
    "    \"dow\",\n",
    "    # \"passenger_count_mean_hr\",\n",
    "    # \"passenger_count_mean_dow\",\n",
    "    # \"passenger_count_mean_day\",\n",
    "    # \"passenger_count\"\n",
    "]\n",
    "\n",
    "X_train_base = df_train[base_train_columns]\n",
    "y_train_base = df_train.passenger_count\n",
    "\n",
    "X_test_base = df_test[base_train_columns]\n",
    "y_test_base = df_test.passenger_count\n",
    "\n",
    "X_train_base.shape, y_train_base.shape, X_test_base.shape, y_test_base.shape"
   ]
  },
  {
   "cell_type": "code",
   "execution_count": 64,
   "metadata": {},
   "outputs": [
    {
     "name": "stdout",
     "output_type": "stream",
     "text": [
      "[16:05:14] WARNING: /Users/travis/build/dmlc/xgboost/src/objective/regression_obj.cu:188: reg:linear is now deprecated in favor of reg:squarederror.\n",
      "[0]\tvalidation_0-rmsle:1.58143\tvalidation_0-mae:8.81931\tvalidation_1-rmsle:1.53122\tvalidation_1-mae:8.56993\n",
      "[1]\tvalidation_0-rmsle:1.40636\tvalidation_0-mae:8.43988\tvalidation_1-rmsle:1.36537\tvalidation_1-mae:8.20916\n",
      "[2]\tvalidation_0-rmsle:1.27666\tvalidation_0-mae:8.09774\tvalidation_1-rmsle:1.24142\tvalidation_1-mae:7.88707\n",
      "[3]\tvalidation_0-rmsle:1.17738\tvalidation_0-mae:7.79120\tvalidation_1-rmsle:1.14947\tvalidation_1-mae:7.60586\n",
      "[4]\tvalidation_0-rmsle:1.09891\tvalidation_0-mae:7.51611\tvalidation_1-rmsle:1.07632\tvalidation_1-mae:7.35554\n",
      "[5]\tvalidation_0-rmsle:1.03560\tvalidation_0-mae:7.26412\tvalidation_1-rmsle:1.01958\tvalidation_1-mae:7.13632\n",
      "[6]\tvalidation_0-rmsle:0.98360\tvalidation_0-mae:7.03468\tvalidation_1-rmsle:0.97420\tvalidation_1-mae:6.93916\n",
      "[7]\tvalidation_0-rmsle:0.94009\tvalidation_0-mae:6.82556\tvalidation_1-rmsle:0.93708\tvalidation_1-mae:6.76217\n",
      "[8]\tvalidation_0-rmsle:0.90537\tvalidation_0-mae:6.63948\tvalidation_1-rmsle:0.90799\tvalidation_1-mae:6.60665\n",
      "[9]\tvalidation_0-rmsle:0.87627\tvalidation_0-mae:6.47417\tvalidation_1-rmsle:0.88323\tvalidation_1-mae:6.46770\n",
      "[10]\tvalidation_0-rmsle:0.85326\tvalidation_0-mae:6.32687\tvalidation_1-rmsle:0.86413\tvalidation_1-mae:6.34689\n",
      "[11]\tvalidation_0-rmsle:0.83487\tvalidation_0-mae:6.19793\tvalidation_1-rmsle:0.84932\tvalidation_1-mae:6.24126\n",
      "[12]\tvalidation_0-rmsle:0.81891\tvalidation_0-mae:6.08064\tvalidation_1-rmsle:0.83776\tvalidation_1-mae:6.15147\n",
      "[13]\tvalidation_0-rmsle:0.80564\tvalidation_0-mae:5.97616\tvalidation_1-rmsle:0.82751\tvalidation_1-mae:6.07112\n",
      "[14]\tvalidation_0-rmsle:0.79502\tvalidation_0-mae:5.88234\tvalidation_1-rmsle:0.82051\tvalidation_1-mae:6.00408\n",
      "[15]\tvalidation_0-rmsle:0.78659\tvalidation_0-mae:5.79922\tvalidation_1-rmsle:0.81537\tvalidation_1-mae:5.94686\n",
      "[16]\tvalidation_0-rmsle:0.77986\tvalidation_0-mae:5.72790\tvalidation_1-rmsle:0.81204\tvalidation_1-mae:5.90266\n",
      "[17]\tvalidation_0-rmsle:0.77469\tvalidation_0-mae:5.66632\tvalidation_1-rmsle:0.80930\tvalidation_1-mae:5.86392\n",
      "[18]\tvalidation_0-rmsle:0.77057\tvalidation_0-mae:5.61047\tvalidation_1-rmsle:0.80799\tvalidation_1-mae:5.83158\n",
      "[19]\tvalidation_0-rmsle:0.76755\tvalidation_0-mae:5.56272\tvalidation_1-rmsle:0.80773\tvalidation_1-mae:5.80435\n",
      "[20]\tvalidation_0-rmsle:0.76482\tvalidation_0-mae:5.51768\tvalidation_1-rmsle:0.80760\tvalidation_1-mae:5.78431\n",
      "[21]\tvalidation_0-rmsle:0.76345\tvalidation_0-mae:5.48050\tvalidation_1-rmsle:0.80888\tvalidation_1-mae:5.76868\n",
      "[22]\tvalidation_0-rmsle:0.76213\tvalidation_0-mae:5.44656\tvalidation_1-rmsle:0.80934\tvalidation_1-mae:5.75638\n",
      "[23]\tvalidation_0-rmsle:0.76224\tvalidation_0-mae:5.42020\tvalidation_1-rmsle:0.81089\tvalidation_1-mae:5.74718\n",
      "[24]\tvalidation_0-rmsle:0.76202\tvalidation_0-mae:5.39414\tvalidation_1-rmsle:0.81217\tvalidation_1-mae:5.73827\n",
      "[25]\tvalidation_0-rmsle:0.76112\tvalidation_0-mae:5.36967\tvalidation_1-rmsle:0.81332\tvalidation_1-mae:5.73511\n",
      "[26]\tvalidation_0-rmsle:0.76139\tvalidation_0-mae:5.35098\tvalidation_1-rmsle:0.81466\tvalidation_1-mae:5.72964\n",
      "[27]\tvalidation_0-rmsle:0.76116\tvalidation_0-mae:5.33199\tvalidation_1-rmsle:0.81526\tvalidation_1-mae:5.72647\n",
      "[28]\tvalidation_0-rmsle:0.76199\tvalidation_0-mae:5.31867\tvalidation_1-rmsle:0.81729\tvalidation_1-mae:5.72598\n",
      "[29]\tvalidation_0-rmsle:0.76274\tvalidation_0-mae:5.30724\tvalidation_1-rmsle:0.81897\tvalidation_1-mae:5.72714\n",
      "[30]\tvalidation_0-rmsle:0.76412\tvalidation_0-mae:5.29948\tvalidation_1-rmsle:0.82060\tvalidation_1-mae:5.72787\n",
      "[31]\tvalidation_0-rmsle:0.76446\tvalidation_0-mae:5.28821\tvalidation_1-rmsle:0.82148\tvalidation_1-mae:5.73003\n",
      "[32]\tvalidation_0-rmsle:0.76616\tvalidation_0-mae:5.28449\tvalidation_1-rmsle:0.82323\tvalidation_1-mae:5.73203\n",
      "[33]\tvalidation_0-rmsle:0.76697\tvalidation_0-mae:5.27816\tvalidation_1-rmsle:0.82456\tvalidation_1-mae:5.73650\n",
      "[34]\tvalidation_0-rmsle:0.76744\tvalidation_0-mae:5.27052\tvalidation_1-rmsle:0.82612\tvalidation_1-mae:5.74246\n",
      "[35]\tvalidation_0-rmsle:0.76822\tvalidation_0-mae:5.26540\tvalidation_1-rmsle:0.82688\tvalidation_1-mae:5.74468\n",
      "[36]\tvalidation_0-rmsle:0.76825\tvalidation_0-mae:5.25996\tvalidation_1-rmsle:0.82744\tvalidation_1-mae:5.74702\n",
      "[37]\tvalidation_0-rmsle:0.76847\tvalidation_0-mae:5.25619\tvalidation_1-rmsle:0.82831\tvalidation_1-mae:5.75131\n",
      "[38]\tvalidation_0-rmsle:0.76852\tvalidation_0-mae:5.25056\tvalidation_1-rmsle:0.82895\tvalidation_1-mae:5.75311\n",
      "[39]\tvalidation_0-rmsle:0.76873\tvalidation_0-mae:5.24644\tvalidation_1-rmsle:0.82960\tvalidation_1-mae:5.75518\n",
      "[40]\tvalidation_0-rmsle:0.76947\tvalidation_0-mae:5.24449\tvalidation_1-rmsle:0.83033\tvalidation_1-mae:5.75777\n",
      "[41]\tvalidation_0-rmsle:0.76965\tvalidation_0-mae:5.24178\tvalidation_1-rmsle:0.83053\tvalidation_1-mae:5.75878\n",
      "[42]\tvalidation_0-rmsle:0.77003\tvalidation_0-mae:5.24100\tvalidation_1-rmsle:0.83161\tvalidation_1-mae:5.76638\n",
      "[43]\tvalidation_0-rmsle:0.77044\tvalidation_0-mae:5.24024\tvalidation_1-rmsle:0.83183\tvalidation_1-mae:5.76759\n",
      "[44]\tvalidation_0-rmsle:0.77077\tvalidation_0-mae:5.23934\tvalidation_1-rmsle:0.83235\tvalidation_1-mae:5.77119\n",
      "[45]\tvalidation_0-rmsle:0.77114\tvalidation_0-mae:5.23973\tvalidation_1-rmsle:0.83334\tvalidation_1-mae:5.77962\n",
      "[46]\tvalidation_0-rmsle:0.77183\tvalidation_0-mae:5.24010\tvalidation_1-rmsle:0.83329\tvalidation_1-mae:5.77870\n",
      "[47]\tvalidation_0-rmsle:0.77259\tvalidation_0-mae:5.24105\tvalidation_1-rmsle:0.83387\tvalidation_1-mae:5.78128\n",
      "[48]\tvalidation_0-rmsle:0.77378\tvalidation_0-mae:5.24310\tvalidation_1-rmsle:0.83459\tvalidation_1-mae:5.78207\n",
      "[49]\tvalidation_0-rmsle:0.77414\tvalidation_0-mae:5.24388\tvalidation_1-rmsle:0.83548\tvalidation_1-mae:5.78655\n",
      "[50]\tvalidation_0-rmsle:0.77524\tvalidation_0-mae:5.24588\tvalidation_1-rmsle:0.83620\tvalidation_1-mae:5.78784\n",
      "[51]\tvalidation_0-rmsle:0.77540\tvalidation_0-mae:5.24756\tvalidation_1-rmsle:0.83600\tvalidation_1-mae:5.78869\n",
      "[52]\tvalidation_0-rmsle:0.77587\tvalidation_0-mae:5.24781\tvalidation_1-rmsle:0.83605\tvalidation_1-mae:5.78948\n",
      "[53]\tvalidation_0-rmsle:0.77668\tvalidation_0-mae:5.24947\tvalidation_1-rmsle:0.83666\tvalidation_1-mae:5.79090\n",
      "[54]\tvalidation_0-rmsle:0.77654\tvalidation_0-mae:5.24872\tvalidation_1-rmsle:0.83681\tvalidation_1-mae:5.79450\n",
      "[55]\tvalidation_0-rmsle:0.77741\tvalidation_0-mae:5.25067\tvalidation_1-rmsle:0.83738\tvalidation_1-mae:5.79627\n",
      "[56]\tvalidation_0-rmsle:0.77748\tvalidation_0-mae:5.24995\tvalidation_1-rmsle:0.83767\tvalidation_1-mae:5.79791\n",
      "[57]\tvalidation_0-rmsle:0.77826\tvalidation_0-mae:5.25246\tvalidation_1-rmsle:0.83751\tvalidation_1-mae:5.79587\n",
      "[58]\tvalidation_0-rmsle:0.77821\tvalidation_0-mae:5.25288\tvalidation_1-rmsle:0.83753\tvalidation_1-mae:5.79902\n",
      "[59]\tvalidation_0-rmsle:0.77840\tvalidation_0-mae:5.25298\tvalidation_1-rmsle:0.83769\tvalidation_1-mae:5.79982\n",
      "[60]\tvalidation_0-rmsle:0.77865\tvalidation_0-mae:5.25297\tvalidation_1-rmsle:0.83770\tvalidation_1-mae:5.80095\n",
      "[61]\tvalidation_0-rmsle:0.77861\tvalidation_0-mae:5.25138\tvalidation_1-rmsle:0.83843\tvalidation_1-mae:5.80649\n",
      "[62]\tvalidation_0-rmsle:0.77882\tvalidation_0-mae:5.25202\tvalidation_1-rmsle:0.83788\tvalidation_1-mae:5.80448\n",
      "[63]\tvalidation_0-rmsle:0.77935\tvalidation_0-mae:5.25350\tvalidation_1-rmsle:0.83817\tvalidation_1-mae:5.80517\n",
      "[64]\tvalidation_0-rmsle:0.77917\tvalidation_0-mae:5.25393\tvalidation_1-rmsle:0.83732\tvalidation_1-mae:5.80155\n",
      "[65]\tvalidation_0-rmsle:0.77899\tvalidation_0-mae:5.25211\tvalidation_1-rmsle:0.83785\tvalidation_1-mae:5.80574\n",
      "[66]\tvalidation_0-rmsle:0.77880\tvalidation_0-mae:5.25134\tvalidation_1-rmsle:0.83764\tvalidation_1-mae:5.80679\n",
      "[67]\tvalidation_0-rmsle:0.77922\tvalidation_0-mae:5.25266\tvalidation_1-rmsle:0.83786\tvalidation_1-mae:5.80718\n",
      "[68]\tvalidation_0-rmsle:0.77909\tvalidation_0-mae:5.25354\tvalidation_1-rmsle:0.83717\tvalidation_1-mae:5.80418\n",
      "[69]\tvalidation_0-rmsle:0.77889\tvalidation_0-mae:5.25189\tvalidation_1-rmsle:0.83754\tvalidation_1-mae:5.80749\n",
      "[70]\tvalidation_0-rmsle:0.77868\tvalidation_0-mae:5.25143\tvalidation_1-rmsle:0.83710\tvalidation_1-mae:5.80716\n",
      "[71]\tvalidation_0-rmsle:0.77893\tvalidation_0-mae:5.25233\tvalidation_1-rmsle:0.83713\tvalidation_1-mae:5.80645\n",
      "[72]\tvalidation_0-rmsle:0.77878\tvalidation_0-mae:5.25208\tvalidation_1-rmsle:0.83712\tvalidation_1-mae:5.80781\n",
      "[73]\tvalidation_0-rmsle:0.77905\tvalidation_0-mae:5.25332\tvalidation_1-rmsle:0.83729\tvalidation_1-mae:5.80825\n",
      "[74]\tvalidation_0-rmsle:0.77884\tvalidation_0-mae:5.25401\tvalidation_1-rmsle:0.83653\tvalidation_1-mae:5.80490\n",
      "[75]\tvalidation_0-rmsle:0.77880\tvalidation_0-mae:5.25332\tvalidation_1-rmsle:0.83673\tvalidation_1-mae:5.80693\n",
      "[76]\tvalidation_0-rmsle:0.77851\tvalidation_0-mae:5.25149\tvalidation_1-rmsle:0.83700\tvalidation_1-mae:5.80979\n",
      "[77]\tvalidation_0-rmsle:0.77822\tvalidation_0-mae:5.25055\tvalidation_1-rmsle:0.83696\tvalidation_1-mae:5.81113\n",
      "[78]\tvalidation_0-rmsle:0.77837\tvalidation_0-mae:5.25103\tvalidation_1-rmsle:0.83705\tvalidation_1-mae:5.81104\n",
      "[79]\tvalidation_0-rmsle:0.77822\tvalidation_0-mae:5.25021\tvalidation_1-rmsle:0.83706\tvalidation_1-mae:5.81217\n",
      "[80]\tvalidation_0-rmsle:0.77813\tvalidation_0-mae:5.24966\tvalidation_1-rmsle:0.83681\tvalidation_1-mae:5.81162\n",
      "[81]\tvalidation_0-rmsle:0.77799\tvalidation_0-mae:5.24947\tvalidation_1-rmsle:0.83689\tvalidation_1-mae:5.81325\n",
      "[82]\tvalidation_0-rmsle:0.77790\tvalidation_0-mae:5.24911\tvalidation_1-rmsle:0.83652\tvalidation_1-mae:5.81173\n",
      "[83]\tvalidation_0-rmsle:0.77756\tvalidation_0-mae:5.24727\tvalidation_1-rmsle:0.83688\tvalidation_1-mae:5.81450\n",
      "[84]\tvalidation_0-rmsle:0.77724\tvalidation_0-mae:5.24642\tvalidation_1-rmsle:0.83672\tvalidation_1-mae:5.81440\n",
      "[85]\tvalidation_0-rmsle:0.77711\tvalidation_0-mae:5.24672\tvalidation_1-rmsle:0.83609\tvalidation_1-mae:5.81114\n",
      "[86]\tvalidation_0-rmsle:0.77701\tvalidation_0-mae:5.24607\tvalidation_1-rmsle:0.83596\tvalidation_1-mae:5.81051\n",
      "[87]\tvalidation_0-rmsle:0.77699\tvalidation_0-mae:5.24597\tvalidation_1-rmsle:0.83603\tvalidation_1-mae:5.81136\n",
      "[88]\tvalidation_0-rmsle:0.77689\tvalidation_0-mae:5.24489\tvalidation_1-rmsle:0.83544\tvalidation_1-mae:5.80777\n",
      "[89]\tvalidation_0-rmsle:0.77668\tvalidation_0-mae:5.24442\tvalidation_1-rmsle:0.83541\tvalidation_1-mae:5.80849\n",
      "[90]\tvalidation_0-rmsle:0.77644\tvalidation_0-mae:5.24309\tvalidation_1-rmsle:0.83561\tvalidation_1-mae:5.81006\n",
      "[91]\tvalidation_0-rmsle:0.77645\tvalidation_0-mae:5.24331\tvalidation_1-rmsle:0.83529\tvalidation_1-mae:5.80760\n",
      "[92]\tvalidation_0-rmsle:0.77636\tvalidation_0-mae:5.24225\tvalidation_1-rmsle:0.83482\tvalidation_1-mae:5.80469\n",
      "[93]\tvalidation_0-rmsle:0.77617\tvalidation_0-mae:5.24163\tvalidation_1-rmsle:0.83471\tvalidation_1-mae:5.80476\n",
      "[94]\tvalidation_0-rmsle:0.77602\tvalidation_0-mae:5.24015\tvalidation_1-rmsle:0.83478\tvalidation_1-mae:5.80440\n",
      "[95]\tvalidation_0-rmsle:0.77596\tvalidation_0-mae:5.23951\tvalidation_1-rmsle:0.83442\tvalidation_1-mae:5.80166\n",
      "[96]\tvalidation_0-rmsle:0.77576\tvalidation_0-mae:5.23851\tvalidation_1-rmsle:0.83427\tvalidation_1-mae:5.80049\n",
      "[97]\tvalidation_0-rmsle:0.77562\tvalidation_0-mae:5.23796\tvalidation_1-rmsle:0.83433\tvalidation_1-mae:5.80102\n",
      "[98]\tvalidation_0-rmsle:0.77545\tvalidation_0-mae:5.23645\tvalidation_1-rmsle:0.83437\tvalidation_1-mae:5.80054\n",
      "[99]\tvalidation_0-rmsle:0.77545\tvalidation_0-mae:5.23683\tvalidation_1-rmsle:0.83417\tvalidation_1-mae:5.79893\n"
     ]
    },
    {
     "data": {
      "text/plain": [
       "XGBRegressor(base_score=0.5, booster='gbtree', colsample_bylevel=1,\n",
       "             colsample_bynode=1, colsample_bytree=1, enable_categorical=False,\n",
       "             gamma=0, gpu_id=-1, importance_type=None,\n",
       "             interaction_constraints='', learning_rate=0.05, max_delta_step=0,\n",
       "             max_depth=4, min_child_weight=1, missing=nan,\n",
       "             monotone_constraints='()', n_estimators=100, n_jobs=16,\n",
       "             num_parallel_tree=1, objective='reg:linear', predictor='auto',\n",
       "             random_state=0, reg_alpha=0, reg_lambda=1, scale_pos_weight=1,\n",
       "             subsample=1, tree_method='exact', validate_parameters=1,\n",
       "             verbosity=None)"
      ]
     },
     "execution_count": 64,
     "metadata": {},
     "output_type": "execute_result"
    }
   ],
   "source": [
    "# regr_base = XGBRegressor(learning_rate=0.05, max_depth=5, objective='reg:linear', n_estimators=100, colsample_bytree=0)\n",
    "regr_base = XGBRegressor(learning_rate=0.05, max_depth=4, objective='reg:linear', n_estimators=100,)\n",
    "\n",
    "eval_set_base = [(X_train_base, y_train_base), (X_test_base, y_test_base)]\n",
    "\n",
    "regr_base.fit(X=X_train_base, y=y_train_base, eval_metric=[\"rmsle\", \"mae\"], eval_set=eval_set_base, verbose=True)"
   ]
  },
  {
   "cell_type": "code",
   "execution_count": 65,
   "metadata": {},
   "outputs": [
    {
     "data": {
      "text/plain": [
       "5.799"
      ]
     },
     "execution_count": 65,
     "metadata": {},
     "output_type": "execute_result"
    }
   ],
   "source": [
    "y_pred_base = regr_base.predict(X_test_base)\n",
    "mae_base = mean_absolute_error(y_test_base, y_pred_base)\n",
    "round(mae_base, 3)"
   ]
  },
  {
   "cell_type": "code",
   "execution_count": 66,
   "metadata": {},
   "outputs": [
    {
     "name": "stdout",
     "output_type": "stream",
     "text": [
      "direction 0.102\n",
      "next_stop 0.039\n",
      "lat 0.173\n",
      "lon 0.239\n",
      "hour 0.257\n",
      "day 0.061\n",
      "dow 0.127\n"
     ]
    }
   ],
   "source": [
    "for title, val in zip(base_train_columns, regr_base.feature_importances_):\n",
    "    print(title, round(val, 3))"
   ]
  },
  {
   "cell_type": "code",
   "execution_count": 67,
   "metadata": {},
   "outputs": [
    {
     "data": {
      "text/plain": [
       "<matplotlib.legend.Legend at 0x128f93e80>"
      ]
     },
     "execution_count": 67,
     "metadata": {},
     "output_type": "execute_result"
    },
    {
     "data": {
      "image/png": "[encoded data removed]",
      "text/plain": [
       "<Figure size 432x288 with 1 Axes>"
      ]
     },
     "metadata": {
      "needs_background": "light"
     },
     "output_type": "display_data"
    }
   ],
   "source": [
    "results = regr_base.evals_result()\n",
    "epochs = len(results['validation_0']['mae'])\n",
    "x_axis = range(0, epochs)\n",
    "\n",
    "\n",
    "fig, ax = plt.subplots()\n",
    "ax.plot(x_axis, results['validation_0']['mae'], label='Train')\n",
    "ax.plot(x_axis, results['validation_1']['mae'], label='Test')\n",
    "ax.legend()"
   ]
  },
  {
   "cell_type": "markdown",
   "metadata": {},
   "source": [
    "## Boolean alert model"
   ]
  },
  {
   "cell_type": "code",
   "execution_count": 68,
   "metadata": {},
   "outputs": [
    {
     "data": {
      "text/plain": [
       "((79923, 8), (79923,), (23802, 8), (23802,))"
      ]
     },
     "execution_count": 68,
     "metadata": {},
     "output_type": "execute_result"
    }
   ],
   "source": [
    "bool_train_columns = [\n",
    "    \"direction\",\n",
    "    \"next_stop\",\n",
    "    \"lat\", \n",
    "    \"lon\",\n",
    "    \"hour\",\n",
    "    \"day\",\n",
    "    \"dow\",\n",
    "    \"alert_ind\",\n",
    "    # \"passenger_count_mean_hr\",\n",
    "    # \"passenger_count_mean_dow\",\n",
    "    # \"passenger_count_mean_day\",\n",
    "]\n",
    "\n",
    "X_train_bool = df_train[bool_train_columns]\n",
    "y_train_bool = df_train.passenger_count\n",
    "\n",
    "X_test_bool = df_test[bool_train_columns]\n",
    "y_test_bool = df_test.passenger_count\n",
    "\n",
    "X_train_bool.shape, y_train_bool.shape, X_test_bool.shape, y_test_bool.shape"
   ]
  },
  {
   "cell_type": "code",
   "execution_count": 73,
   "metadata": {},
   "outputs": [
    {
     "name": "stdout",
     "output_type": "stream",
     "text": [
      "[16:06:03] WARNING: /Users/travis/build/dmlc/xgboost/src/objective/regression_obj.cu:188: reg:linear is now deprecated in favor of reg:squarederror.\n",
      "[0]\tvalidation_0-rmsle:1.40075\tvalidation_0-mae:8.42215\tvalidation_1-rmsle:1.35896\tvalidation_1-mae:8.19058\n",
      "[1]\tvalidation_0-rmsle:1.16955\tvalidation_0-mae:7.76325\tvalidation_1-rmsle:1.13932\tvalidation_1-mae:7.57209\n",
      "[2]\tvalidation_0-rmsle:1.02869\tvalidation_0-mae:7.23099\tvalidation_1-rmsle:1.01071\tvalidation_1-mae:7.09703\n",
      "[3]\tvalidation_0-rmsle:0.93305\tvalidation_0-mae:6.78672\tvalidation_1-rmsle:0.92908\tvalidation_1-mae:6.71855\n",
      "[4]\tvalidation_0-rmsle:0.87214\tvalidation_0-mae:6.43884\tvalidation_1-rmsle:0.87776\tvalidation_1-mae:6.42839\n",
      "[5]\tvalidation_0-rmsle:0.83292\tvalidation_0-mae:6.17044\tvalidation_1-rmsle:0.84740\tvalidation_1-mae:6.21414\n",
      "[6]\tvalidation_0-rmsle:0.80476\tvalidation_0-mae:5.95272\tvalidation_1-rmsle:0.82810\tvalidation_1-mae:6.06092\n",
      "[7]\tvalidation_0-rmsle:0.78667\tvalidation_0-mae:5.78178\tvalidation_1-rmsle:0.81635\tvalidation_1-mae:5.94056\n",
      "[8]\tvalidation_0-rmsle:0.77528\tvalidation_0-mae:5.65085\tvalidation_1-rmsle:0.81000\tvalidation_1-mae:5.85508\n",
      "[9]\tvalidation_0-rmsle:0.76707\tvalidation_0-mae:5.54163\tvalidation_1-rmsle:0.80735\tvalidation_1-mae:5.79403\n",
      "[10]\tvalidation_0-rmsle:0.76512\tvalidation_0-mae:5.47095\tvalidation_1-rmsle:0.80924\tvalidation_1-mae:5.76000\n",
      "[11]\tvalidation_0-rmsle:0.76338\tvalidation_0-mae:5.41136\tvalidation_1-rmsle:0.81135\tvalidation_1-mae:5.74241\n",
      "[12]\tvalidation_0-rmsle:0.76333\tvalidation_0-mae:5.36732\tvalidation_1-rmsle:0.81497\tvalidation_1-mae:5.73409\n",
      "[13]\tvalidation_0-rmsle:0.76281\tvalidation_0-mae:5.32668\tvalidation_1-rmsle:0.81874\tvalidation_1-mae:5.73486\n",
      "[14]\tvalidation_0-rmsle:0.76427\tvalidation_0-mae:5.30342\tvalidation_1-rmsle:0.82129\tvalidation_1-mae:5.73956\n",
      "[15]\tvalidation_0-rmsle:0.76524\tvalidation_0-mae:5.28363\tvalidation_1-rmsle:0.82362\tvalidation_1-mae:5.74611\n",
      "[16]\tvalidation_0-rmsle:0.76663\tvalidation_0-mae:5.27072\tvalidation_1-rmsle:0.82758\tvalidation_1-mae:5.75928\n",
      "[17]\tvalidation_0-rmsle:0.76898\tvalidation_0-mae:5.26477\tvalidation_1-rmsle:0.82909\tvalidation_1-mae:5.76095\n",
      "[18]\tvalidation_0-rmsle:0.76975\tvalidation_0-mae:5.25895\tvalidation_1-rmsle:0.83144\tvalidation_1-mae:5.77508\n",
      "[19]\tvalidation_0-rmsle:0.77001\tvalidation_0-mae:5.25103\tvalidation_1-rmsle:0.83194\tvalidation_1-mae:5.77716\n",
      "[20]\tvalidation_0-rmsle:0.77073\tvalidation_0-mae:5.24682\tvalidation_1-rmsle:0.83271\tvalidation_1-mae:5.78146\n",
      "[21]\tvalidation_0-rmsle:0.77185\tvalidation_0-mae:5.24793\tvalidation_1-rmsle:0.83395\tvalidation_1-mae:5.78939\n",
      "[22]\tvalidation_0-rmsle:0.77436\tvalidation_0-mae:5.25088\tvalidation_1-rmsle:0.83525\tvalidation_1-mae:5.78929\n",
      "[23]\tvalidation_0-rmsle:0.77476\tvalidation_0-mae:5.25180\tvalidation_1-rmsle:0.83615\tvalidation_1-mae:5.80112\n",
      "[24]\tvalidation_0-rmsle:0.77691\tvalidation_0-mae:5.25536\tvalidation_1-rmsle:0.83769\tvalidation_1-mae:5.80418\n",
      "[25]\tvalidation_0-rmsle:0.77747\tvalidation_0-mae:5.25617\tvalidation_1-rmsle:0.83824\tvalidation_1-mae:5.80869\n",
      "[26]\tvalidation_0-rmsle:0.77919\tvalidation_0-mae:5.25995\tvalidation_1-rmsle:0.83919\tvalidation_1-mae:5.80997\n",
      "[27]\tvalidation_0-rmsle:0.77917\tvalidation_0-mae:5.26053\tvalidation_1-rmsle:0.83943\tvalidation_1-mae:5.81639\n",
      "[28]\tvalidation_0-rmsle:0.77983\tvalidation_0-mae:5.25997\tvalidation_1-rmsle:0.84003\tvalidation_1-mae:5.82187\n",
      "[29]\tvalidation_0-rmsle:0.77912\tvalidation_0-mae:5.25348\tvalidation_1-rmsle:0.84105\tvalidation_1-mae:5.83105\n",
      "[30]\tvalidation_0-rmsle:0.77959\tvalidation_0-mae:5.25445\tvalidation_1-rmsle:0.83922\tvalidation_1-mae:5.81916\n",
      "[31]\tvalidation_0-rmsle:0.77981\tvalidation_0-mae:5.25394\tvalidation_1-rmsle:0.84017\tvalidation_1-mae:5.82528\n",
      "[32]\tvalidation_0-rmsle:0.77954\tvalidation_0-mae:5.25384\tvalidation_1-rmsle:0.84035\tvalidation_1-mae:5.82822\n",
      "[33]\tvalidation_0-rmsle:0.77947\tvalidation_0-mae:5.25276\tvalidation_1-rmsle:0.83867\tvalidation_1-mae:5.81824\n",
      "[34]\tvalidation_0-rmsle:0.77926\tvalidation_0-mae:5.25286\tvalidation_1-rmsle:0.83913\tvalidation_1-mae:5.82339\n",
      "[35]\tvalidation_0-rmsle:0.77937\tvalidation_0-mae:5.25295\tvalidation_1-rmsle:0.83763\tvalidation_1-mae:5.81380\n",
      "[36]\tvalidation_0-rmsle:0.77920\tvalidation_0-mae:5.25366\tvalidation_1-rmsle:0.83651\tvalidation_1-mae:5.80897\n",
      "[37]\tvalidation_0-rmsle:0.77871\tvalidation_0-mae:5.25023\tvalidation_1-rmsle:0.83764\tvalidation_1-mae:5.81677\n",
      "[38]\tvalidation_0-rmsle:0.77821\tvalidation_0-mae:5.24752\tvalidation_1-rmsle:0.83756\tvalidation_1-mae:5.81768\n",
      "[39]\tvalidation_0-rmsle:0.77773\tvalidation_0-mae:5.24522\tvalidation_1-rmsle:0.83752\tvalidation_1-mae:5.81862\n",
      "[40]\tvalidation_0-rmsle:0.77745\tvalidation_0-mae:5.24410\tvalidation_1-rmsle:0.83710\tvalidation_1-mae:5.81737\n",
      "[41]\tvalidation_0-rmsle:0.77789\tvalidation_0-mae:5.24608\tvalidation_1-rmsle:0.83679\tvalidation_1-mae:5.81365\n",
      "[42]\tvalidation_0-rmsle:0.77725\tvalidation_0-mae:5.24470\tvalidation_1-rmsle:0.83689\tvalidation_1-mae:5.81559\n",
      "[43]\tvalidation_0-rmsle:0.77675\tvalidation_0-mae:5.24114\tvalidation_1-rmsle:0.83802\tvalidation_1-mae:5.82066\n",
      "[44]\tvalidation_0-rmsle:0.77647\tvalidation_0-mae:5.24123\tvalidation_1-rmsle:0.83719\tvalidation_1-mae:5.81509\n",
      "[45]\tvalidation_0-rmsle:0.77636\tvalidation_0-mae:5.23912\tvalidation_1-rmsle:0.83767\tvalidation_1-mae:5.81747\n",
      "[46]\tvalidation_0-rmsle:0.77628\tvalidation_0-mae:5.23975\tvalidation_1-rmsle:0.83739\tvalidation_1-mae:5.81427\n",
      "[47]\tvalidation_0-rmsle:0.77603\tvalidation_0-mae:5.23687\tvalidation_1-rmsle:0.83881\tvalidation_1-mae:5.81722\n",
      "[48]\tvalidation_0-rmsle:nan\tvalidation_0-mae:5.23547\tvalidation_1-rmsle:0.84142\tvalidation_1-mae:5.81285\n",
      "[49]\tvalidation_0-rmsle:nan\tvalidation_0-mae:5.23423\tvalidation_1-rmsle:nan\tvalidation_1-mae:5.81302\n",
      "[50]\tvalidation_0-rmsle:nan\tvalidation_0-mae:5.23015\tvalidation_1-rmsle:nan\tvalidation_1-mae:5.81120\n",
      "[51]\tvalidation_0-rmsle:nan\tvalidation_0-mae:5.22981\tvalidation_1-rmsle:nan\tvalidation_1-mae:5.80997\n",
      "[52]\tvalidation_0-rmsle:nan\tvalidation_0-mae:5.22774\tvalidation_1-rmsle:nan\tvalidation_1-mae:5.81047\n",
      "[53]\tvalidation_0-rmsle:nan\tvalidation_0-mae:5.22281\tvalidation_1-rmsle:nan\tvalidation_1-mae:5.81168\n",
      "[54]\tvalidation_0-rmsle:nan\tvalidation_0-mae:5.22158\tvalidation_1-rmsle:nan\tvalidation_1-mae:5.80800\n",
      "[55]\tvalidation_0-rmsle:nan\tvalidation_0-mae:5.22076\tvalidation_1-rmsle:nan\tvalidation_1-mae:5.80397\n",
      "[56]\tvalidation_0-rmsle:nan\tvalidation_0-mae:5.21769\tvalidation_1-rmsle:nan\tvalidation_1-mae:5.80596\n",
      "[57]\tvalidation_0-rmsle:nan\tvalidation_0-mae:5.21626\tvalidation_1-rmsle:nan\tvalidation_1-mae:5.80322\n",
      "[58]\tvalidation_0-rmsle:nan\tvalidation_0-mae:5.21521\tvalidation_1-rmsle:nan\tvalidation_1-mae:5.80221\n",
      "[59]\tvalidation_0-rmsle:nan\tvalidation_0-mae:5.21273\tvalidation_1-rmsle:nan\tvalidation_1-mae:5.80225\n",
      "[60]\tvalidation_0-rmsle:nan\tvalidation_0-mae:5.21002\tvalidation_1-rmsle:nan\tvalidation_1-mae:5.79839\n",
      "[61]\tvalidation_0-rmsle:nan\tvalidation_0-mae:5.20818\tvalidation_1-rmsle:nan\tvalidation_1-mae:5.79785\n",
      "[62]\tvalidation_0-rmsle:nan\tvalidation_0-mae:5.20677\tvalidation_1-rmsle:nan\tvalidation_1-mae:5.79671\n",
      "[63]\tvalidation_0-rmsle:nan\tvalidation_0-mae:5.20529\tvalidation_1-rmsle:nan\tvalidation_1-mae:5.79740\n",
      "[64]\tvalidation_0-rmsle:nan\tvalidation_0-mae:5.20390\tvalidation_1-rmsle:nan\tvalidation_1-mae:5.80417\n",
      "[65]\tvalidation_0-rmsle:nan\tvalidation_0-mae:5.20304\tvalidation_1-rmsle:nan\tvalidation_1-mae:5.80351\n",
      "[66]\tvalidation_0-rmsle:nan\tvalidation_0-mae:5.20297\tvalidation_1-rmsle:nan\tvalidation_1-mae:5.80661\n",
      "[67]\tvalidation_0-rmsle:nan\tvalidation_0-mae:5.20041\tvalidation_1-rmsle:nan\tvalidation_1-mae:5.80224\n",
      "[68]\tvalidation_0-rmsle:nan\tvalidation_0-mae:5.19772\tvalidation_1-rmsle:nan\tvalidation_1-mae:5.79926\n",
      "[69]\tvalidation_0-rmsle:nan\tvalidation_0-mae:5.19692\tvalidation_1-rmsle:nan\tvalidation_1-mae:5.80089\n",
      "[70]\tvalidation_0-rmsle:nan\tvalidation_0-mae:5.19413\tvalidation_1-rmsle:nan\tvalidation_1-mae:5.79721\n",
      "[71]\tvalidation_0-rmsle:nan\tvalidation_0-mae:5.19297\tvalidation_1-rmsle:nan\tvalidation_1-mae:5.79680\n",
      "[72]\tvalidation_0-rmsle:nan\tvalidation_0-mae:5.19243\tvalidation_1-rmsle:nan\tvalidation_1-mae:5.79406\n",
      "[73]\tvalidation_0-rmsle:nan\tvalidation_0-mae:5.19137\tvalidation_1-rmsle:nan\tvalidation_1-mae:5.79198\n",
      "[74]\tvalidation_0-rmsle:nan\tvalidation_0-mae:5.19109\tvalidation_1-rmsle:nan\tvalidation_1-mae:5.79749\n",
      "[75]\tvalidation_0-rmsle:nan\tvalidation_0-mae:5.18978\tvalidation_1-rmsle:nan\tvalidation_1-mae:5.79783\n",
      "[76]\tvalidation_0-rmsle:nan\tvalidation_0-mae:5.18808\tvalidation_1-rmsle:nan\tvalidation_1-mae:5.79778\n",
      "[77]\tvalidation_0-rmsle:nan\tvalidation_0-mae:5.18627\tvalidation_1-rmsle:nan\tvalidation_1-mae:5.79851\n",
      "[78]\tvalidation_0-rmsle:nan\tvalidation_0-mae:5.18493\tvalidation_1-rmsle:nan\tvalidation_1-mae:5.80701\n",
      "[79]\tvalidation_0-rmsle:nan\tvalidation_0-mae:5.18434\tvalidation_1-rmsle:nan\tvalidation_1-mae:5.80685\n",
      "[80]\tvalidation_0-rmsle:nan\tvalidation_0-mae:5.18365\tvalidation_1-rmsle:nan\tvalidation_1-mae:5.81157\n",
      "[81]\tvalidation_0-rmsle:nan\tvalidation_0-mae:5.18270\tvalidation_1-rmsle:nan\tvalidation_1-mae:5.81215\n",
      "[82]\tvalidation_0-rmsle:nan\tvalidation_0-mae:5.18188\tvalidation_1-rmsle:nan\tvalidation_1-mae:5.81215\n",
      "[83]\tvalidation_0-rmsle:nan\tvalidation_0-mae:5.18031\tvalidation_1-rmsle:nan\tvalidation_1-mae:5.81240\n",
      "[84]\tvalidation_0-rmsle:nan\tvalidation_0-mae:5.17868\tvalidation_1-rmsle:nan\tvalidation_1-mae:5.81217\n",
      "[85]\tvalidation_0-rmsle:nan\tvalidation_0-mae:5.17835\tvalidation_1-rmsle:nan\tvalidation_1-mae:5.80844\n",
      "[86]\tvalidation_0-rmsle:nan\tvalidation_0-mae:5.17748\tvalidation_1-rmsle:nan\tvalidation_1-mae:5.80792\n",
      "[87]\tvalidation_0-rmsle:nan\tvalidation_0-mae:5.17543\tvalidation_1-rmsle:nan\tvalidation_1-mae:5.80954\n",
      "[88]\tvalidation_0-rmsle:nan\tvalidation_0-mae:5.17450\tvalidation_1-rmsle:nan\tvalidation_1-mae:5.81052\n",
      "[89]\tvalidation_0-rmsle:nan\tvalidation_0-mae:5.17230\tvalidation_1-rmsle:nan\tvalidation_1-mae:5.81198\n",
      "[90]\tvalidation_0-rmsle:nan\tvalidation_0-mae:5.17075\tvalidation_1-rmsle:nan\tvalidation_1-mae:5.81131\n",
      "[91]\tvalidation_0-rmsle:nan\tvalidation_0-mae:5.16924\tvalidation_1-rmsle:nan\tvalidation_1-mae:5.81382\n",
      "[92]\tvalidation_0-rmsle:nan\tvalidation_0-mae:5.16380\tvalidation_1-rmsle:nan\tvalidation_1-mae:5.81081\n",
      "[93]\tvalidation_0-rmsle:nan\tvalidation_0-mae:5.16360\tvalidation_1-rmsle:nan\tvalidation_1-mae:5.81077\n",
      "[94]\tvalidation_0-rmsle:nan\tvalidation_0-mae:5.16259\tvalidation_1-rmsle:nan\tvalidation_1-mae:5.80962\n",
      "[95]\tvalidation_0-rmsle:nan\tvalidation_0-mae:5.16207\tvalidation_1-rmsle:nan\tvalidation_1-mae:5.81103\n",
      "[96]\tvalidation_0-rmsle:nan\tvalidation_0-mae:5.16113\tvalidation_1-rmsle:nan\tvalidation_1-mae:5.81106\n",
      "[97]\tvalidation_0-rmsle:nan\tvalidation_0-mae:5.15969\tvalidation_1-rmsle:nan\tvalidation_1-mae:5.80994\n",
      "[98]\tvalidation_0-rmsle:nan\tvalidation_0-mae:5.15854\tvalidation_1-rmsle:nan\tvalidation_1-mae:5.81048\n",
      "[99]\tvalidation_0-rmsle:nan\tvalidation_0-mae:5.15673\tvalidation_1-rmsle:nan\tvalidation_1-mae:5.81188\n"
     ]
    },
    {
     "data": {
      "text/plain": [
       "XGBRegressor(base_score=0.5, booster='gbtree', colsample_bylevel=1,\n",
       "             colsample_bynode=1, colsample_bytree=1, enable_categorical=False,\n",
       "             gamma=0, gpu_id=-1, importance_type=None,\n",
       "             interaction_constraints='', learning_rate=0.1, max_delta_step=0,\n",
       "             max_depth=4, min_child_weight=1, missing=nan,\n",
       "             monotone_constraints='()', n_estimators=100, n_jobs=16,\n",
       "             num_parallel_tree=1, objective='reg:linear', predictor='auto',\n",
       "             random_state=0, reg_alpha=0, reg_lambda=1, scale_pos_weight=1,\n",
       "             subsample=1, tree_method='exact', validate_parameters=1,\n",
       "             verbosity=None)"
      ]
     },
     "execution_count": 73,
     "metadata": {},
     "output_type": "execute_result"
    }
   ],
   "source": [
    "# regr_bool = XGBRegressor(learning_rate=0.03, max_depth=6, objective='reg:gamma', n_estimators=400, gamma=4)\n",
    "regr_bool = XGBRegressor(learning_rate=0.1, max_depth=4, objective='reg:linear', n_estimators=100)\n",
    "\n",
    "eval_set_bool = [(X_train_bool, y_train_bool), (X_test_bool, y_test_bool)]\n",
    "\n",
    "regr_bool.fit(X=X_train_bool, y=y_train_bool, eval_metric=[\"rmsle\", \"mae\"], eval_set=eval_set_bool, verbose=True)"
   ]
  },
  {
   "cell_type": "code",
   "execution_count": 74,
   "metadata": {},
   "outputs": [
    {
     "data": {
      "text/plain": [
       "<matplotlib.legend.Legend at 0x11ee88f70>"
      ]
     },
     "execution_count": 74,
     "metadata": {},
     "output_type": "execute_result"
    },
    {
     "data": {
      "image/png": "[encoded data removed]",
      "text/plain": [
       "<Figure size 432x288 with 1 Axes>"
      ]
     },
     "metadata": {
      "needs_background": "light"
     },
     "output_type": "display_data"
    }
   ],
   "source": [
    "results = regr_bool.evals_result()\n",
    "epochs = len(results['validation_0']['mae'])\n",
    "x_axis = range(0, epochs)\n",
    "\n",
    "\n",
    "fig, ax = plt.subplots()\n",
    "ax.plot(x_axis, results['validation_0']['mae'], label='Train')\n",
    "ax.plot(x_axis, results['validation_1']['mae'], label='Test')\n",
    "ax.legend()"
   ]
  },
  {
   "cell_type": "code",
   "execution_count": 75,
   "metadata": {},
   "outputs": [
    {
     "data": {
      "text/plain": [
       "5.812"
      ]
     },
     "execution_count": 75,
     "metadata": {},
     "output_type": "execute_result"
    }
   ],
   "source": [
    "y_pred_bool = regr_bool.predict(X_test_bool)\n",
    "mae_bool = mean_absolute_error(y_test_bool, y_pred_bool)\n",
    "round(mae_bool, 3)"
   ]
  },
  {
   "cell_type": "code",
   "execution_count": 76,
   "metadata": {},
   "outputs": [
    {
     "name": "stdout",
     "output_type": "stream",
     "text": [
      "direction 0.11\n",
      "next_stop 0.036\n",
      "lat 0.163\n",
      "lon 0.223\n",
      "hour 0.215\n",
      "day 0.065\n",
      "dow 0.123\n",
      "alert_ind 0.065\n"
     ]
    }
   ],
   "source": [
    "for title, val in zip(bool_train_columns, regr_bool.feature_importances_):\n",
    "    print(title, round(val, 3))"
   ]
  },
  {
   "cell_type": "markdown",
   "metadata": {},
   "source": [
    "## Priority alert model"
   ]
  },
  {
   "cell_type": "code",
   "execution_count": 77,
   "metadata": {},
   "outputs": [
    {
     "data": {
      "text/plain": [
       "((79923, 8), (79923,), (23802, 8), (23802,))"
      ]
     },
     "execution_count": 77,
     "metadata": {},
     "output_type": "execute_result"
    }
   ],
   "source": [
    "prio_train_columns = [\n",
    "    \"direction\",\n",
    "    \"next_stop\",\n",
    "    \"lat\", \n",
    "    \"lon\",\n",
    "    \"hour\",\n",
    "    \"day\",\n",
    "    \"dow\",\n",
    "    \"alert_prio\", \n",
    "]\n",
    "\n",
    "X_train_prio = df_train[prio_train_columns]\n",
    "y_train_prio = df_train.passenger_count\n",
    "\n",
    "X_test_prio = df_test[prio_train_columns]\n",
    "y_test_prio = df_test.passenger_count\n",
    "\n",
    "X_train_prio.shape, y_train_prio.shape, X_test_prio.shape, y_test_prio.shape"
   ]
  },
  {
   "cell_type": "code",
   "execution_count": 85,
   "metadata": {},
   "outputs": [
    {
     "name": "stdout",
     "output_type": "stream",
     "text": [
      "[16:07:16] WARNING: /Users/travis/build/dmlc/xgboost/src/objective/regression_obj.cu:188: reg:linear is now deprecated in favor of reg:squarederror.\n",
      "[0]\tvalidation_0-rmsle:1.71893\tvalidation_0-mae:9.06805\tvalidation_1-rmsle:1.66422\tvalidation_1-mae:8.81311\n",
      "[1]\tvalidation_0-rmsle:1.62345\tvalidation_0-mae:8.90196\tvalidation_1-rmsle:1.57108\tvalidation_1-mae:8.64792\n",
      "[2]\tvalidation_0-rmsle:1.54197\tvalidation_0-mae:8.74412\tvalidation_1-rmsle:1.49463\tvalidation_1-mae:8.49886\n",
      "[3]\tvalidation_0-rmsle:1.47034\tvalidation_0-mae:8.59173\tvalidation_1-rmsle:1.42528\tvalidation_1-mae:8.35034\n",
      "[4]\tvalidation_0-rmsle:1.40713\tvalidation_0-mae:8.44486\tvalidation_1-rmsle:1.36458\tvalidation_1-mae:8.20779\n",
      "[5]\tvalidation_0-rmsle:1.35126\tvalidation_0-mae:8.30443\tvalidation_1-rmsle:1.31007\tvalidation_1-mae:8.07170\n",
      "[6]\tvalidation_0-rmsle:1.30070\tvalidation_0-mae:8.16864\tvalidation_1-rmsle:1.26274\tvalidation_1-mae:7.94481\n",
      "[7]\tvalidation_0-rmsle:1.25544\tvalidation_0-mae:8.03841\tvalidation_1-rmsle:1.21898\tvalidation_1-mae:7.81976\n",
      "[8]\tvalidation_0-rmsle:1.21404\tvalidation_0-mae:7.91153\tvalidation_1-rmsle:1.18115\tvalidation_1-mae:7.70440\n",
      "[9]\tvalidation_0-rmsle:1.17633\tvalidation_0-mae:7.79067\tvalidation_1-rmsle:1.14571\tvalidation_1-mae:7.59270\n",
      "[10]\tvalidation_0-rmsle:1.14157\tvalidation_0-mae:7.67437\tvalidation_1-rmsle:1.11434\tvalidation_1-mae:7.48922\n",
      "[11]\tvalidation_0-rmsle:1.10997\tvalidation_0-mae:7.56256\tvalidation_1-rmsle:1.08589\tvalidation_1-mae:7.38898\n",
      "[12]\tvalidation_0-rmsle:1.08106\tvalidation_0-mae:7.45493\tvalidation_1-rmsle:1.05981\tvalidation_1-mae:7.29294\n",
      "[13]\tvalidation_0-rmsle:1.05455\tvalidation_0-mae:7.35191\tvalidation_1-rmsle:1.03628\tvalidation_1-mae:7.20167\n",
      "[14]\tvalidation_0-rmsle:1.03021\tvalidation_0-mae:7.25282\tvalidation_1-rmsle:1.01468\tvalidation_1-mae:7.11447\n",
      "[15]\tvalidation_0-rmsle:1.00790\tvalidation_0-mae:7.15773\tvalidation_1-rmsle:0.99548\tvalidation_1-mae:7.03312\n",
      "[16]\tvalidation_0-rmsle:0.98697\tvalidation_0-mae:7.06469\tvalidation_1-rmsle:0.97671\tvalidation_1-mae:6.95226\n",
      "[17]\tvalidation_0-rmsle:0.96800\tvalidation_0-mae:6.97783\tvalidation_1-rmsle:0.96043\tvalidation_1-mae:6.87713\n",
      "[18]\tvalidation_0-rmsle:0.95042\tvalidation_0-mae:6.89418\tvalidation_1-rmsle:0.94587\tvalidation_1-mae:6.80698\n",
      "[19]\tvalidation_0-rmsle:0.93398\tvalidation_0-mae:6.81337\tvalidation_1-rmsle:0.93149\tvalidation_1-mae:6.73641\n",
      "[20]\tvalidation_0-rmsle:0.91899\tvalidation_0-mae:6.73645\tvalidation_1-rmsle:0.91901\tvalidation_1-mae:6.67207\n",
      "[21]\tvalidation_0-rmsle:0.90483\tvalidation_0-mae:6.66189\tvalidation_1-rmsle:0.90741\tvalidation_1-mae:6.60953\n",
      "[22]\tvalidation_0-rmsle:0.89159\tvalidation_0-mae:6.58993\tvalidation_1-rmsle:0.89636\tvalidation_1-mae:6.55058\n",
      "[23]\tvalidation_0-rmsle:0.87948\tvalidation_0-mae:6.52103\tvalidation_1-rmsle:0.88644\tvalidation_1-mae:6.49536\n",
      "[24]\tvalidation_0-rmsle:0.86835\tvalidation_0-mae:6.45447\tvalidation_1-rmsle:0.87746\tvalidation_1-mae:6.44211\n",
      "[25]\tvalidation_0-rmsle:0.85772\tvalidation_0-mae:6.38959\tvalidation_1-rmsle:0.86857\tvalidation_1-mae:6.38860\n",
      "[26]\tvalidation_0-rmsle:0.84807\tvalidation_0-mae:6.32890\tvalidation_1-rmsle:0.86087\tvalidation_1-mae:6.33978\n",
      "[27]\tvalidation_0-rmsle:0.83907\tvalidation_0-mae:6.27055\tvalidation_1-rmsle:0.85348\tvalidation_1-mae:6.29260\n",
      "[28]\tvalidation_0-rmsle:0.83063\tvalidation_0-mae:6.21506\tvalidation_1-rmsle:0.84680\tvalidation_1-mae:6.24965\n",
      "[29]\tvalidation_0-rmsle:0.82305\tvalidation_0-mae:6.16223\tvalidation_1-rmsle:0.84103\tvalidation_1-mae:6.20850\n",
      "[30]\tvalidation_0-rmsle:0.81579\tvalidation_0-mae:6.11168\tvalidation_1-rmsle:0.83527\tvalidation_1-mae:6.16844\n",
      "[31]\tvalidation_0-rmsle:0.80915\tvalidation_0-mae:6.06299\tvalidation_1-rmsle:0.83018\tvalidation_1-mae:6.13159\n",
      "[32]\tvalidation_0-rmsle:0.80311\tvalidation_0-mae:6.01747\tvalidation_1-rmsle:0.82546\tvalidation_1-mae:6.09600\n",
      "[33]\tvalidation_0-rmsle:0.79756\tvalidation_0-mae:5.97356\tvalidation_1-rmsle:0.82180\tvalidation_1-mae:6.06611\n",
      "[34]\tvalidation_0-rmsle:0.79244\tvalidation_0-mae:5.93186\tvalidation_1-rmsle:0.81848\tvalidation_1-mae:6.03869\n",
      "[35]\tvalidation_0-rmsle:0.78757\tvalidation_0-mae:5.89154\tvalidation_1-rmsle:0.81486\tvalidation_1-mae:6.00972\n",
      "[36]\tvalidation_0-rmsle:0.78310\tvalidation_0-mae:5.85310\tvalidation_1-rmsle:0.81170\tvalidation_1-mae:5.98274\n",
      "[37]\tvalidation_0-rmsle:0.77906\tvalidation_0-mae:5.81661\tvalidation_1-rmsle:0.80900\tvalidation_1-mae:5.95751\n",
      "[38]\tvalidation_0-rmsle:0.77528\tvalidation_0-mae:5.78111\tvalidation_1-rmsle:0.80633\tvalidation_1-mae:5.93245\n",
      "[39]\tvalidation_0-rmsle:0.77172\tvalidation_0-mae:5.74786\tvalidation_1-rmsle:0.80410\tvalidation_1-mae:5.91015\n",
      "[40]\tvalidation_0-rmsle:0.76862\tvalidation_0-mae:5.71585\tvalidation_1-rmsle:0.80202\tvalidation_1-mae:5.88788\n",
      "[41]\tvalidation_0-rmsle:0.76571\tvalidation_0-mae:5.68541\tvalidation_1-rmsle:0.80043\tvalidation_1-mae:5.86842\n",
      "[42]\tvalidation_0-rmsle:0.76306\tvalidation_0-mae:5.65687\tvalidation_1-rmsle:0.79910\tvalidation_1-mae:5.85090\n",
      "[43]\tvalidation_0-rmsle:0.76066\tvalidation_0-mae:5.62934\tvalidation_1-rmsle:0.79787\tvalidation_1-mae:5.83376\n",
      "[44]\tvalidation_0-rmsle:0.75827\tvalidation_0-mae:5.60212\tvalidation_1-rmsle:0.79647\tvalidation_1-mae:5.81555\n",
      "[45]\tvalidation_0-rmsle:0.75624\tvalidation_0-mae:5.57628\tvalidation_1-rmsle:0.79534\tvalidation_1-mae:5.79892\n",
      "[46]\tvalidation_0-rmsle:0.75436\tvalidation_0-mae:5.55208\tvalidation_1-rmsle:0.79456\tvalidation_1-mae:5.78473\n",
      "[47]\tvalidation_0-rmsle:0.75265\tvalidation_0-mae:5.52939\tvalidation_1-rmsle:0.79408\tvalidation_1-mae:5.77351\n",
      "[48]\tvalidation_0-rmsle:0.75105\tvalidation_0-mae:5.50733\tvalidation_1-rmsle:0.79324\tvalidation_1-mae:5.75982\n",
      "[49]\tvalidation_0-rmsle:0.74957\tvalidation_0-mae:5.48639\tvalidation_1-rmsle:0.79264\tvalidation_1-mae:5.74825\n",
      "[50]\tvalidation_0-rmsle:0.74832\tvalidation_0-mae:5.46680\tvalidation_1-rmsle:0.79207\tvalidation_1-mae:5.73648\n",
      "[51]\tvalidation_0-rmsle:0.74711\tvalidation_0-mae:5.44759\tvalidation_1-rmsle:0.79164\tvalidation_1-mae:5.72576\n",
      "[52]\tvalidation_0-rmsle:0.74604\tvalidation_0-mae:5.42900\tvalidation_1-rmsle:0.79140\tvalidation_1-mae:5.71587\n",
      "[53]\tvalidation_0-rmsle:0.74518\tvalidation_0-mae:5.41277\tvalidation_1-rmsle:0.79140\tvalidation_1-mae:5.70906\n",
      "[54]\tvalidation_0-rmsle:0.74435\tvalidation_0-mae:5.39650\tvalidation_1-rmsle:0.79141\tvalidation_1-mae:5.70094\n",
      "[55]\tvalidation_0-rmsle:0.74366\tvalidation_0-mae:5.38191\tvalidation_1-rmsle:0.79147\tvalidation_1-mae:5.69414\n",
      "[56]\tvalidation_0-rmsle:0.74307\tvalidation_0-mae:5.36807\tvalidation_1-rmsle:0.79131\tvalidation_1-mae:5.68663\n",
      "[57]\tvalidation_0-rmsle:0.74255\tvalidation_0-mae:5.35442\tvalidation_1-rmsle:0.79158\tvalidation_1-mae:5.68100\n",
      "[58]\tvalidation_0-rmsle:0.74192\tvalidation_0-mae:5.34097\tvalidation_1-rmsle:0.79178\tvalidation_1-mae:5.67579\n",
      "[59]\tvalidation_0-rmsle:0.74156\tvalidation_0-mae:5.32857\tvalidation_1-rmsle:0.79211\tvalidation_1-mae:5.67094\n",
      "[60]\tvalidation_0-rmsle:0.74104\tvalidation_0-mae:5.31647\tvalidation_1-rmsle:0.79238\tvalidation_1-mae:5.66715\n",
      "[61]\tvalidation_0-rmsle:0.74085\tvalidation_0-mae:5.30539\tvalidation_1-rmsle:0.79284\tvalidation_1-mae:5.66254\n",
      "[62]\tvalidation_0-rmsle:0.74051\tvalidation_0-mae:5.29426\tvalidation_1-rmsle:0.79313\tvalidation_1-mae:5.65952\n",
      "[63]\tvalidation_0-rmsle:0.74053\tvalidation_0-mae:5.28516\tvalidation_1-rmsle:0.79367\tvalidation_1-mae:5.65613\n",
      "[64]\tvalidation_0-rmsle:0.74044\tvalidation_0-mae:5.27627\tvalidation_1-rmsle:0.79406\tvalidation_1-mae:5.65326\n",
      "[65]\tvalidation_0-rmsle:0.74034\tvalidation_0-mae:5.26768\tvalidation_1-rmsle:0.79477\tvalidation_1-mae:5.65326\n",
      "[66]\tvalidation_0-rmsle:0.74049\tvalidation_0-mae:5.26030\tvalidation_1-rmsle:0.79529\tvalidation_1-mae:5.65096\n",
      "[67]\tvalidation_0-rmsle:0.74059\tvalidation_0-mae:5.25278\tvalidation_1-rmsle:0.79572\tvalidation_1-mae:5.64940\n",
      "[68]\tvalidation_0-rmsle:0.74064\tvalidation_0-mae:5.24525\tvalidation_1-rmsle:0.79603\tvalidation_1-mae:5.64658\n",
      "[69]\tvalidation_0-rmsle:0.74077\tvalidation_0-mae:5.23832\tvalidation_1-rmsle:0.79663\tvalidation_1-mae:5.64555\n",
      "[70]\tvalidation_0-rmsle:0.74096\tvalidation_0-mae:5.23158\tvalidation_1-rmsle:0.79710\tvalidation_1-mae:5.64478\n",
      "[71]\tvalidation_0-rmsle:0.74106\tvalidation_0-mae:5.22518\tvalidation_1-rmsle:0.79787\tvalidation_1-mae:5.64585\n",
      "[72]\tvalidation_0-rmsle:0.74130\tvalidation_0-mae:5.21953\tvalidation_1-rmsle:0.79840\tvalidation_1-mae:5.64516\n",
      "[73]\tvalidation_0-rmsle:0.74164\tvalidation_0-mae:5.21422\tvalidation_1-rmsle:0.79896\tvalidation_1-mae:5.64528\n",
      "[74]\tvalidation_0-rmsle:0.74181\tvalidation_0-mae:5.20881\tvalidation_1-rmsle:0.79964\tvalidation_1-mae:5.64618\n",
      "[75]\tvalidation_0-rmsle:0.74217\tvalidation_0-mae:5.20412\tvalidation_1-rmsle:0.80029\tvalidation_1-mae:5.64563\n",
      "[76]\tvalidation_0-rmsle:0.74254\tvalidation_0-mae:5.20025\tvalidation_1-rmsle:0.80075\tvalidation_1-mae:5.64613\n",
      "[77]\tvalidation_0-rmsle:0.74257\tvalidation_0-mae:5.19488\tvalidation_1-rmsle:0.80123\tvalidation_1-mae:5.64619\n",
      "[78]\tvalidation_0-rmsle:0.74303\tvalidation_0-mae:5.19131\tvalidation_1-rmsle:0.80184\tvalidation_1-mae:5.64603\n",
      "[79]\tvalidation_0-rmsle:0.74333\tvalidation_0-mae:5.18820\tvalidation_1-rmsle:0.80214\tvalidation_1-mae:5.64598\n"
     ]
    },
    {
     "data": {
      "text/plain": [
       "XGBRegressor(base_score=0.5, booster='gbtree', colsample_bylevel=1,\n",
       "             colsample_bynode=1, colsample_bytree=1, enable_categorical=False,\n",
       "             gamma=0, gpu_id=-1, importance_type=None,\n",
       "             interaction_constraints='', learning_rate=0.02, max_delta_step=0,\n",
       "             max_depth=5, min_child_weight=1, missing=nan,\n",
       "             monotone_constraints='()', n_estimators=80, n_jobs=16,\n",
       "             num_parallel_tree=1, objective='reg:linear', predictor='auto',\n",
       "             random_state=0, reg_alpha=0, reg_lambda=1, scale_pos_weight=1,\n",
       "             subsample=1, tree_method='exact', validate_parameters=1,\n",
       "             verbosity=None)"
      ]
     },
     "execution_count": 85,
     "metadata": {},
     "output_type": "execute_result"
    }
   ],
   "source": [
    "regr_prio = XGBRegressor(learning_rate=0.02, max_depth=5, objective='reg:linear', n_estimators=80)\n",
    "\n",
    "eval_set_prio = [(X_train_prio, y_train_prio), (X_test_prio, y_test_prio)]\n",
    "\n",
    "regr_prio.fit(X=X_train_prio, y=y_train_prio, eval_metric=[\"rmsle\", \"mae\"], eval_set=eval_set_prio, verbose=True)"
   ]
  },
  {
   "cell_type": "code",
   "execution_count": 86,
   "metadata": {},
   "outputs": [
    {
     "data": {
      "text/plain": [
       "5.646"
      ]
     },
     "execution_count": 86,
     "metadata": {},
     "output_type": "execute_result"
    }
   ],
   "source": [
    "y_pred_prio = regr_prio.predict(X_test_prio)\n",
    "mae_prio = mean_absolute_error(y_test_prio, y_pred_prio)\n",
    "round(mae_prio, 3)"
   ]
  },
  {
   "cell_type": "code",
   "execution_count": 87,
   "metadata": {},
   "outputs": [
    {
     "name": "stdout",
     "output_type": "stream",
     "text": [
      "direction 0.084\n",
      "next_stop 0.085\n",
      "lat 0.161\n",
      "lon 0.169\n",
      "hour 0.279\n",
      "day 0.056\n",
      "dow 0.129\n",
      "alert_prio 0.036\n"
     ]
    }
   ],
   "source": [
    "for title, val in zip(prio_train_columns, regr_prio.feature_importances_):\n",
    "    print(title, round(val, 3))"
   ]
  },
  {
   "cell_type": "code",
   "execution_count": 88,
   "metadata": {},
   "outputs": [
    {
     "data": {
      "text/plain": [
       "<matplotlib.legend.Legend at 0x125b60a60>"
      ]
     },
     "execution_count": 88,
     "metadata": {},
     "output_type": "execute_result"
    },
    {
     "data": {
      "image/png": "[encoded data removed]",
      "text/plain": [
       "<Figure size 432x288 with 1 Axes>"
      ]
     },
     "metadata": {
      "needs_background": "light"
     },
     "output_type": "display_data"
    }
   ],
   "source": [
    "results = regr_prio.evals_result()\n",
    "epochs = len(results['validation_0']['mae'])\n",
    "x_axis = range(0, epochs)\n",
    "\n",
    "fig, ax = plt.subplots()\n",
    "ax.plot(x_axis, results['validation_0']['mae'], label='Train')\n",
    "ax.plot(x_axis, results['validation_1']['mae'], label='Test')\n",
    "ax.legend()"
   ]
  },
  {
   "cell_type": "markdown",
   "metadata": {},
   "source": [
    "# Result analysis\n",
    "\n",
    "How much improvement do we find in terms of MAE?"
   ]
  },
  {
   "cell_type": "code",
   "execution_count": 89,
   "metadata": {},
   "outputs": [
    {
     "data": {
      "text/plain": [
       "-0.22"
      ]
     },
     "execution_count": 89,
     "metadata": {},
     "output_type": "execute_result"
    }
   ],
   "source": [
    "round((1 - mae_bool / mae_base) * 100, 2)"
   ]
  },
  {
   "cell_type": "code",
   "execution_count": 90,
   "metadata": {},
   "outputs": [
    {
     "data": {
      "text/plain": [
       "2.64"
      ]
     },
     "execution_count": 90,
     "metadata": {},
     "output_type": "execute_result"
    }
   ],
   "source": [
    "round((1 - mae_prio / mae_base) * 100, 2)"
   ]
  },
  {
   "cell_type": "markdown",
   "metadata": {},
   "source": [
    "So we find 0.24% improvement when using the boolean column, and 0.61% improvement when using the priority column. These values are not particularly high. We can try to improve on these. Let's first dive a little deeper into these results. "
   ]
  },
  {
   "cell_type": "code",
   "execution_count": 91,
   "metadata": {},
   "outputs": [
    {
     "data": {
      "text/plain": [
       "146"
      ]
     },
     "execution_count": 91,
     "metadata": {},
     "output_type": "execute_result"
    }
   ],
   "source": [
    "alert_index = X_test_bool[X_test_bool.alert_ind == 1].index\n",
    "len(alert_index)"
   ]
  },
  {
   "cell_type": "code",
   "execution_count": 92,
   "metadata": {},
   "outputs": [
    {
     "data": {
      "text/html": [
       "<div>\n",
       "<style scoped>\n",
       "    .dataframe tbody tr th:only-of-type {\n",
       "        vertical-align: middle;\n",
       "    }\n",
       "\n",
       "    .dataframe tbody tr th {\n",
       "        vertical-align: top;\n",
       "    }\n",
       "\n",
       "    .dataframe thead th {\n",
       "        text-align: right;\n",
       "    }\n",
       "</style>\n",
       "<table border=\"1\" class=\"dataframe\">\n",
       "  <thead>\n",
       "    <tr style=\"text-align: right;\">\n",
       "      <th></th>\n",
       "      <th>direction</th>\n",
       "      <th>next_stop</th>\n",
       "      <th>lat</th>\n",
       "      <th>lon</th>\n",
       "      <th>hour</th>\n",
       "      <th>day</th>\n",
       "      <th>dow</th>\n",
       "      <th>alert_ind</th>\n",
       "    </tr>\n",
       "  </thead>\n",
       "  <tbody>\n",
       "    <tr>\n",
       "      <th>176761</th>\n",
       "      <td>1</td>\n",
       "      <td>73</td>\n",
       "      <td>40.776367</td>\n",
       "      <td>-73.979649</td>\n",
       "      <td>0</td>\n",
       "      <td>23</td>\n",
       "      <td>1</td>\n",
       "      <td>0</td>\n",
       "    </tr>\n",
       "    <tr>\n",
       "      <th>176763</th>\n",
       "      <td>0</td>\n",
       "      <td>115</td>\n",
       "      <td>40.821333</td>\n",
       "      <td>-73.936280</td>\n",
       "      <td>0</td>\n",
       "      <td>23</td>\n",
       "      <td>1</td>\n",
       "      <td>0</td>\n",
       "    </tr>\n",
       "    <tr>\n",
       "      <th>176764</th>\n",
       "      <td>1</td>\n",
       "      <td>77</td>\n",
       "      <td>40.748807</td>\n",
       "      <td>-73.992181</td>\n",
       "      <td>0</td>\n",
       "      <td>23</td>\n",
       "      <td>1</td>\n",
       "      <td>0</td>\n",
       "    </tr>\n",
       "    <tr>\n",
       "      <th>176767</th>\n",
       "      <td>1</td>\n",
       "      <td>112</td>\n",
       "      <td>40.775121</td>\n",
       "      <td>-73.980547</td>\n",
       "      <td>0</td>\n",
       "      <td>23</td>\n",
       "      <td>1</td>\n",
       "      <td>0</td>\n",
       "    </tr>\n",
       "    <tr>\n",
       "      <th>176769</th>\n",
       "      <td>0</td>\n",
       "      <td>107</td>\n",
       "      <td>40.739199</td>\n",
       "      <td>-73.995485</td>\n",
       "      <td>0</td>\n",
       "      <td>23</td>\n",
       "      <td>1</td>\n",
       "      <td>0</td>\n",
       "    </tr>\n",
       "    <tr>\n",
       "      <th>...</th>\n",
       "      <td>...</td>\n",
       "      <td>...</td>\n",
       "      <td>...</td>\n",
       "      <td>...</td>\n",
       "      <td>...</td>\n",
       "      <td>...</td>\n",
       "      <td>...</td>\n",
       "      <td>...</td>\n",
       "    </tr>\n",
       "    <tr>\n",
       "      <th>237317</th>\n",
       "      <td>1</td>\n",
       "      <td>93</td>\n",
       "      <td>40.757903</td>\n",
       "      <td>-73.985504</td>\n",
       "      <td>4</td>\n",
       "      <td>2</td>\n",
       "      <td>3</td>\n",
       "      <td>0</td>\n",
       "    </tr>\n",
       "    <tr>\n",
       "      <th>237318</th>\n",
       "      <td>0</td>\n",
       "      <td>91</td>\n",
       "      <td>40.753334</td>\n",
       "      <td>-73.985195</td>\n",
       "      <td>4</td>\n",
       "      <td>2</td>\n",
       "      <td>3</td>\n",
       "      <td>0</td>\n",
       "    </tr>\n",
       "    <tr>\n",
       "      <th>237319</th>\n",
       "      <td>0</td>\n",
       "      <td>96</td>\n",
       "      <td>40.788200</td>\n",
       "      <td>-73.974628</td>\n",
       "      <td>4</td>\n",
       "      <td>2</td>\n",
       "      <td>3</td>\n",
       "      <td>0</td>\n",
       "    </tr>\n",
       "    <tr>\n",
       "      <th>237321</th>\n",
       "      <td>1</td>\n",
       "      <td>75</td>\n",
       "      <td>40.754969</td>\n",
       "      <td>-73.987672</td>\n",
       "      <td>4</td>\n",
       "      <td>2</td>\n",
       "      <td>3</td>\n",
       "      <td>0</td>\n",
       "    </tr>\n",
       "    <tr>\n",
       "      <th>237325</th>\n",
       "      <td>0</td>\n",
       "      <td>21</td>\n",
       "      <td>40.754884</td>\n",
       "      <td>-73.984067</td>\n",
       "      <td>4</td>\n",
       "      <td>2</td>\n",
       "      <td>3</td>\n",
       "      <td>0</td>\n",
       "    </tr>\n",
       "  </tbody>\n",
       "</table>\n",
       "<p>23802 rows × 8 columns</p>\n",
       "</div>"
      ],
      "text/plain": [
       "        direction  next_stop        lat        lon  hour  day  dow  alert_ind\n",
       "176761          1         73  40.776367 -73.979649     0   23    1          0\n",
       "176763          0        115  40.821333 -73.936280     0   23    1          0\n",
       "176764          1         77  40.748807 -73.992181     0   23    1          0\n",
       "176767          1        112  40.775121 -73.980547     0   23    1          0\n",
       "176769          0        107  40.739199 -73.995485     0   23    1          0\n",
       "...           ...        ...        ...        ...   ...  ...  ...        ...\n",
       "237317          1         93  40.757903 -73.985504     4    2    3          0\n",
       "237318          0         91  40.753334 -73.985195     4    2    3          0\n",
       "237319          0         96  40.788200 -73.974628     4    2    3          0\n",
       "237321          1         75  40.754969 -73.987672     4    2    3          0\n",
       "237325          0         21  40.754884 -73.984067     4    2    3          0\n",
       "\n",
       "[23802 rows x 8 columns]"
      ]
     },
     "execution_count": 92,
     "metadata": {},
     "output_type": "execute_result"
    }
   ],
   "source": [
    "X_test_bool"
   ]
  },
  {
   "cell_type": "code",
   "execution_count": 93,
   "metadata": {},
   "outputs": [],
   "source": [
    "X_test_full = X_test_bool.copy()\n",
    "X_test_full['y_pred_base'] = y_pred_base\n",
    "X_test_full['y_pred_bool'] = y_pred_bool\n",
    "X_test_full['y_pred_prio'] = y_pred_prio\n",
    "X_test_full['y_test'] = y_test_base"
   ]
  },
  {
   "cell_type": "code",
   "execution_count": 94,
   "metadata": {},
   "outputs": [],
   "source": [
    "X_test_full['base_error'] = X_test_full.y_test - X_test_full.y_pred_base\n",
    "X_test_full['bool_error'] = X_test_full.y_test - X_test_full.y_pred_bool\n",
    "X_test_full['prio_error'] = X_test_full.y_test - X_test_full.y_pred_prio"
   ]
  },
  {
   "cell_type": "code",
   "execution_count": 95,
   "metadata": {},
   "outputs": [
    {
     "data": {
      "text/plain": [
       "base_error    5.798944\n",
       "bool_error    5.811881\n",
       "prio_error    5.646005\n",
       "dtype: float32"
      ]
     },
     "execution_count": 95,
     "metadata": {},
     "output_type": "execute_result"
    }
   ],
   "source": [
    "error_cols = ['base_error', 'bool_error', 'prio_error']\n",
    "\n",
    "np.abs(X_test_full[error_cols]).mean()"
   ]
  },
  {
   "cell_type": "code",
   "execution_count": 96,
   "metadata": {},
   "outputs": [
    {
     "data": {
      "text/plain": [
       "base_error    2.569104\n",
       "bool_error    2.494558\n",
       "prio_error    2.413069\n",
       "dtype: float32"
      ]
     },
     "execution_count": 96,
     "metadata": {},
     "output_type": "execute_result"
    }
   ],
   "source": [
    "np.abs(X_test_full[X_test_full.alert_ind == 1][error_cols]).mean()"
   ]
  },
  {
   "cell_type": "markdown",
   "metadata": {},
   "source": [
    "In the samples where an alert is active, there is some interesting behaviour. First, the error is actually higher than the base case when using the boolean indicator. When using the priority as a feature, the result is slightly better than the base case. This is somewhat unexpected: we would have expected the indication of an alert to help in predicting better values. Let's see what has happened to the errors in the rest of the dataset. "
   ]
  },
  {
   "cell_type": "code",
   "execution_count": 97,
   "metadata": {},
   "outputs": [
    {
     "data": {
      "text/plain": [
       "base_error    5.818875\n",
       "bool_error    5.832362\n",
       "prio_error    5.665955\n",
       "dtype: float32"
      ]
     },
     "execution_count": 97,
     "metadata": {},
     "output_type": "execute_result"
    }
   ],
   "source": [
    "np.abs(X_test_full[X_test_full.alert_ind == 0][error_cols]).mean()"
   ]
  },
  {
   "cell_type": "markdown",
   "metadata": {},
   "source": [
    "These values follow a similar trend as the ones of the full dataset. This is to be expected: after all, the alert samples make up less than 2% of the data. "
   ]
  },
  {
   "cell_type": "code",
   "execution_count": 98,
   "metadata": {},
   "outputs": [],
   "source": [
    "X_test_full['prio_improvement'] = X_test_full.prio_error - X_test_full.base_error "
   ]
  },
  {
   "cell_type": "code",
   "execution_count": 99,
   "metadata": {},
   "outputs": [
    {
     "data": {
      "text/plain": [
       "<matplotlib.colorbar.Colorbar at 0x126565130>"
      ]
     },
     "execution_count": 99,
     "metadata": {},
     "output_type": "execute_result"
    },
    {
     "data": {
      "image/png": "[encoded data removed]",
      "text/plain": [
       "<Figure size 1224x504 with 3 Axes>"
      ]
     },
     "metadata": {
      "needs_background": "light"
     },
     "output_type": "display_data"
    }
   ],
   "source": [
    "fig, ax = plt.subplots(1, 2, figsize=(17, 7))\n",
    "\n",
    "ax[0].scatter(X_test_full.y_pred_base, X_test_full.y_pred_prio, s=0.5)\n",
    "ax[0].set_xlabel(\"Base prediction\")\n",
    "ax[0].set_ylabel(\"Alert-based prediction\")\n",
    "ax[0].set_xlim(0, 55)\n",
    "ax[0].set_ylim(0, 55)\n",
    "ax[0].plot([0, 55], [0, 55], c='r')\n",
    "\n",
    "im = ax[1].scatter(X_test_full.y_pred_base, X_test_full.y_pred_prio, s=0.5, c=X_test_full.prio_improvement)\n",
    "ax[1].set_xlabel(\"Base prediction\")\n",
    "ax[1].set_ylabel(\"Alert-based prediction\")\n",
    "ax[1].set_xlim(0, 55)\n",
    "ax[1].set_ylim(0, 55)\n",
    "ax[1].plot([0, 55], [0, 55], c='r')\n",
    "fig.colorbar(im, ax=ax[1])\n"
   ]
  },
  {
   "cell_type": "code",
   "execution_count": 100,
   "metadata": {},
   "outputs": [
    {
     "data": {
      "text/plain": [
       "[<matplotlib.lines.Line2D at 0x125040880>]"
      ]
     },
     "execution_count": 100,
     "metadata": {},
     "output_type": "execute_result"
    },
    {
     "data": {
      "image/png": "[encoded data removed]",
      "text/plain": [
       "<Figure size 504x504 with 1 Axes>"
      ]
     },
     "metadata": {
      "needs_background": "light"
     },
     "output_type": "display_data"
    }
   ],
   "source": [
    "fig, ax = plt.subplots(1, 1, figsize=(7, 7))\n",
    "\n",
    "ax.scatter(X_test_full.y_pred_base, X_test_full.y_pred_prio, s=0.5, c=X_test_full.alert_ind)\n",
    "ax.set_xlabel(\"Base prediction\")\n",
    "ax.set_ylabel(\"Alert-based prediction\")\n",
    "ax.set_xlim(0, 55)\n",
    "ax.set_ylim(0, 55)\n",
    "ax.plot([0, 55], [0, 55], c='r')"
   ]
  },
  {
   "cell_type": "code",
   "execution_count": 101,
   "metadata": {},
   "outputs": [
    {
     "data": {
      "text/plain": [
       "<AxesSubplot:xlabel='base_error', ylabel='Density'>"
      ]
     },
     "execution_count": 101,
     "metadata": {},
     "output_type": "execute_result"
    },
    {
     "data": {
      "image/png": "[encoded data removed]",
      "text/plain": [
       "<Figure size 720x504 with 1 Axes>"
      ]
     },
     "metadata": {
      "needs_background": "light"
     },
     "output_type": "display_data"
    }
   ],
   "source": [
    "import seaborn as sns\n",
    "\n",
    "fig, ax = plt.subplots(figsize=(10, 7))\n",
    "\n",
    "sns.kdeplot(data=X_test_full, x=\"base_error\")\n",
    "sns.kdeplot(data=X_test_full, x=\"bool_error\")\n",
    "sns.kdeplot(data=X_test_full, x=\"prio_error\")"
   ]
  },
  {
   "cell_type": "code",
   "execution_count": 108,
   "metadata": {},
   "outputs": [
    {
     "data": {
      "text/plain": [
       "<matplotlib.legend.Legend at 0x122567fd0>"
      ]
     },
     "execution_count": 108,
     "metadata": {},
     "output_type": "execute_result"
    },
    {
     "data": {
      "image/png": "[encoded data removed]",
      "text/plain": [
       "<Figure size 720x504 with 1 Axes>"
      ]
     },
     "metadata": {
      "needs_background": "light"
     },
     "output_type": "display_data"
    }
   ],
   "source": [
    "fig, ax = plt.subplots(figsize=(10, 7))\n",
    "\n",
    "sns.kdeplot(data=X_test_full, x=\"prio_improvement\", label = \"Full dataset\")\n",
    "sns.kdeplot(data=X_test_full[X_test_full.alert_ind == 1], x=\"prio_improvement\", label = \"Active alert\")\n",
    "sns.kdeplot(data=X_test_full[X_test_full.alert_ind == 0], x=\"prio_improvement\", label = \"No active alert\")\n",
    "ax.legend()"
   ]
  },
  {
   "cell_type": "code",
   "execution_count": 103,
   "metadata": {},
   "outputs": [
    {
     "data": {
      "text/plain": [
       "(0.6411470770835876, 1.3153860569000244)"
      ]
     },
     "execution_count": 103,
     "metadata": {},
     "output_type": "execute_result"
    }
   ],
   "source": [
    "(\n",
    "    X_test_full[X_test_full.alert_ind == 1].prio_improvement.mean(),\n",
    "    X_test_full[X_test_full.alert_ind == 0].prio_improvement.mean()\n",
    ")"
   ]
  },
  {
   "cell_type": "markdown",
   "metadata": {},
   "source": [
    "## When alerts are active, do we underpredict?"
   ]
  },
  {
   "cell_type": "code",
   "execution_count": 105,
   "metadata": {},
   "outputs": [
    {
     "data": {
      "text/plain": [
       "<matplotlib.collections.PathCollection at 0x124f55d60>"
      ]
     },
     "execution_count": 105,
     "metadata": {},
     "output_type": "execute_result"
    },
    {
     "data": {
      "image/png": "[encoded data removed]",
      "text/plain": [
       "<Figure size 1080x360 with 3 Axes>"
      ]
     },
     "metadata": {
      "needs_background": "light"
     },
     "output_type": "display_data"
    }
   ],
   "source": [
    "fig, axs = plt.subplots(1, 3, figsize=(15, 5), sharex=True, sharey=True)\n",
    "\n",
    "X_test_alert = X_test_full[X_test_full.alert_ind == 1]\n",
    "\n",
    "axs[0].scatter(X_test_alert.y_test, X_test_alert.y_pred_base)\n",
    "axs[1].scatter(X_test_alert.y_test, X_test_alert.y_pred_bool)\n",
    "axs[2].scatter(X_test_alert.y_test, X_test_alert.y_pred_prio)"
   ]
  },
  {
   "cell_type": "markdown",
   "metadata": {},
   "source": [
    "**Yes, and neither of the inclusions of alert data seems to improve this fact**"
   ]
  },
  {
   "cell_type": "markdown",
   "metadata": {},
   "source": [
    "## When alerts are active, do we underpredict more than in similar situations?"
   ]
  },
  {
   "cell_type": "markdown",
   "metadata": {},
   "source": [
    "# Experiment: using lower and upper bounds\n",
    "\n"
   ]
  },
  {
   "cell_type": "code",
   "execution_count": 435,
   "metadata": {},
   "outputs": [],
   "source": [
    "# log cosh quantile is a regularized quantile loss function\n",
    "def log_cosh_quantile(alpha):\n",
    "    def _log_cosh_quantile(y_true, y_pred):\n",
    "        err = y_pred - y_true\n",
    "        err = np.where(err < 0, alpha * err, (1 - alpha) * err)\n",
    "        grad = np.tanh(err)\n",
    "        hess = 1 / np.cosh(err)**2\n",
    "        return grad, hess\n",
    "    return _log_cosh_quantile"
   ]
  },
  {
   "cell_type": "code",
   "execution_count": 468,
   "metadata": {},
   "outputs": [],
   "source": [
    "alpha = 0.95"
   ]
  },
  {
   "cell_type": "code",
   "execution_count": 469,
   "metadata": {},
   "outputs": [],
   "source": [
    "model = XGBRegressor(objective=log_cosh_quantile(alpha),\n",
    "                       n_estimators=125,\n",
    "                       max_depth=5,\n",
    "                       n_jobs=6,\n",
    "                       learning_rate=.05)"
   ]
  },
  {
   "cell_type": "code",
   "execution_count": 470,
   "metadata": {},
   "outputs": [
    {
     "name": "stderr",
     "output_type": "stream",
     "text": [
      "<ipython-input-435-ec4161e2d7d6>:7: RuntimeWarning: overflow encountered in cosh\n",
      "  hess = 1 / np.cosh(err)**2\n",
      "<ipython-input-435-ec4161e2d7d6>:7: RuntimeWarning: overflow encountered in square\n",
      "  hess = 1 / np.cosh(err)**2\n"
     ]
    },
    {
     "data": {
      "text/plain": [
       "XGBRegressor(base_score=0.5, booster='gbtree', colsample_bylevel=1,\n",
       "             colsample_bynode=1, colsample_bytree=1, enable_categorical=False,\n",
       "             gamma=0, gpu_id=-1, importance_type=None,\n",
       "             interaction_constraints='', learning_rate=0.05, max_delta_step=0,\n",
       "             max_depth=5, min_child_weight=1, missing=nan,\n",
       "             monotone_constraints='()', n_estimators=125, n_jobs=6,\n",
       "             num_parallel_tree=1,\n",
       "             objective=<function log_cosh_quantile.<locals>._log_cosh_quantile at 0x15490f8b0>,\n",
       "             predictor='auto', random_state=0, reg_alpha=0, reg_lambda=1,\n",
       "             scale_pos_weight=1, subsample=1, tree_method='exact',\n",
       "             validate_parameters=1, verbosity=None)"
      ]
     },
     "execution_count": 470,
     "metadata": {},
     "output_type": "execute_result"
    }
   ],
   "source": [
    "model.fit(X_train_base, y_train_base)"
   ]
  },
  {
   "cell_type": "code",
   "execution_count": 471,
   "metadata": {},
   "outputs": [],
   "source": [
    "y_upper_smooth = model.predict(X_test_base)"
   ]
  },
  {
   "cell_type": "code",
   "execution_count": 472,
   "metadata": {},
   "outputs": [],
   "source": [
    "model = XGBRegressor(objective=log_cosh_quantile(1-alpha),\n",
    "                       n_estimators=125,\n",
    "                       max_depth=5,\n",
    "                       n_jobs=6,\n",
    "                       learning_rate=.05)"
   ]
  },
  {
   "cell_type": "code",
   "execution_count": 473,
   "metadata": {},
   "outputs": [],
   "source": [
    "model.fit(X_test_base, y_test_base)\n",
    "y_lower_smooth = model.predict(X_test_base)"
   ]
  },
  {
   "cell_type": "code",
   "execution_count": 474,
   "metadata": {},
   "outputs": [],
   "source": [
    "X_test_base_lu = X_test_base.copy()"
   ]
  },
  {
   "cell_type": "code",
   "execution_count": 475,
   "metadata": {},
   "outputs": [],
   "source": [
    "X_test_base_lu['lower'] = y_lower_smooth\n",
    "X_test_base_lu['upper'] = y_upper_smooth\n",
    "X_test_base_lu['y_test'] = y_test_base"
   ]
  },
  {
   "cell_type": "code",
   "execution_count": 476,
   "metadata": {},
   "outputs": [],
   "source": [
    "def is_within_bounds(row):\n",
    "    lower = row.lower\n",
    "    upper = row.upper\n",
    "    y_test = row.y_test\n",
    "    if lower <= y_test <= upper:\n",
    "        return True\n",
    "    else:\n",
    "        return False"
   ]
  },
  {
   "cell_type": "code",
   "execution_count": 478,
   "metadata": {},
   "outputs": [],
   "source": [
    "X_test_base_lu['correct'] = X_test_base_lu.apply(is_within_bounds, axis=1)"
   ]
  },
  {
   "cell_type": "code",
   "execution_count": 479,
   "metadata": {},
   "outputs": [
    {
     "data": {
      "text/plain": [
       "0.3779542192807657"
      ]
     },
     "execution_count": 479,
     "metadata": {},
     "output_type": "execute_result"
    }
   ],
   "source": [
    "X_test_base_lu.correct.sum() / X_test_base_lu.correct.count()"
   ]
  },
  {
   "cell_type": "code",
   "execution_count": 486,
   "metadata": {},
   "outputs": [
    {
     "data": {
      "text/html": [
       "<div>\n",
       "<style scoped>\n",
       "    .dataframe tbody tr th:only-of-type {\n",
       "        vertical-align: middle;\n",
       "    }\n",
       "\n",
       "    .dataframe tbody tr th {\n",
       "        vertical-align: top;\n",
       "    }\n",
       "\n",
       "    .dataframe thead th {\n",
       "        text-align: right;\n",
       "    }\n",
       "</style>\n",
       "<table border=\"1\" class=\"dataframe\">\n",
       "  <thead>\n",
       "    <tr style=\"text-align: right;\">\n",
       "      <th></th>\n",
       "      <th>direction</th>\n",
       "      <th>next_stop</th>\n",
       "      <th>lat</th>\n",
       "      <th>lon</th>\n",
       "      <th>hour</th>\n",
       "      <th>day</th>\n",
       "      <th>dow</th>\n",
       "    </tr>\n",
       "  </thead>\n",
       "  <tbody>\n",
       "    <tr>\n",
       "      <th>374489</th>\n",
       "      <td>1</td>\n",
       "      <td>125</td>\n",
       "      <td>40.650328</td>\n",
       "      <td>-73.894332</td>\n",
       "      <td>0</td>\n",
       "      <td>16</td>\n",
       "      <td>1</td>\n",
       "    </tr>\n",
       "    <tr>\n",
       "      <th>374490</th>\n",
       "      <td>1</td>\n",
       "      <td>98</td>\n",
       "      <td>40.613789</td>\n",
       "      <td>-73.981462</td>\n",
       "      <td>0</td>\n",
       "      <td>16</td>\n",
       "      <td>1</td>\n",
       "    </tr>\n",
       "    <tr>\n",
       "      <th>374494</th>\n",
       "      <td>1</td>\n",
       "      <td>106</td>\n",
       "      <td>40.632499</td>\n",
       "      <td>-73.918642</td>\n",
       "      <td>0</td>\n",
       "      <td>16</td>\n",
       "      <td>1</td>\n",
       "    </tr>\n",
       "    <tr>\n",
       "      <th>374496</th>\n",
       "      <td>1</td>\n",
       "      <td>95</td>\n",
       "      <td>40.616830</td>\n",
       "      <td>-73.978283</td>\n",
       "      <td>0</td>\n",
       "      <td>16</td>\n",
       "      <td>1</td>\n",
       "    </tr>\n",
       "    <tr>\n",
       "      <th>374497</th>\n",
       "      <td>0</td>\n",
       "      <td>20</td>\n",
       "      <td>40.619278</td>\n",
       "      <td>-73.976383</td>\n",
       "      <td>0</td>\n",
       "      <td>16</td>\n",
       "      <td>1</td>\n",
       "    </tr>\n",
       "    <tr>\n",
       "      <th>...</th>\n",
       "      <td>...</td>\n",
       "      <td>...</td>\n",
       "      <td>...</td>\n",
       "      <td>...</td>\n",
       "      <td>...</td>\n",
       "      <td>...</td>\n",
       "      <td>...</td>\n",
       "    </tr>\n",
       "    <tr>\n",
       "      <th>501596</th>\n",
       "      <td>0</td>\n",
       "      <td>118</td>\n",
       "      <td>40.657750</td>\n",
       "      <td>-73.878915</td>\n",
       "      <td>4</td>\n",
       "      <td>22</td>\n",
       "      <td>0</td>\n",
       "    </tr>\n",
       "    <tr>\n",
       "      <th>501598</th>\n",
       "      <td>1</td>\n",
       "      <td>62</td>\n",
       "      <td>40.653146</td>\n",
       "      <td>-73.889566</td>\n",
       "      <td>4</td>\n",
       "      <td>22</td>\n",
       "      <td>0</td>\n",
       "    </tr>\n",
       "    <tr>\n",
       "      <th>501599</th>\n",
       "      <td>0</td>\n",
       "      <td>119</td>\n",
       "      <td>40.658488</td>\n",
       "      <td>-73.877714</td>\n",
       "      <td>4</td>\n",
       "      <td>22</td>\n",
       "      <td>0</td>\n",
       "    </tr>\n",
       "    <tr>\n",
       "      <th>501602</th>\n",
       "      <td>1</td>\n",
       "      <td>88</td>\n",
       "      <td>40.634244</td>\n",
       "      <td>-73.949158</td>\n",
       "      <td>4</td>\n",
       "      <td>22</td>\n",
       "      <td>0</td>\n",
       "    </tr>\n",
       "    <tr>\n",
       "      <th>501603</th>\n",
       "      <td>0</td>\n",
       "      <td>13</td>\n",
       "      <td>40.593444</td>\n",
       "      <td>-73.994029</td>\n",
       "      <td>4</td>\n",
       "      <td>22</td>\n",
       "      <td>0</td>\n",
       "    </tr>\n",
       "  </tbody>\n",
       "</table>\n",
       "<p>96853 rows × 7 columns</p>\n",
       "</div>"
      ],
      "text/plain": [
       "        direction  next_stop        lat        lon  hour  day  dow\n",
       "374489          1        125  40.650328 -73.894332     0   16    1\n",
       "374490          1         98  40.613789 -73.981462     0   16    1\n",
       "374494          1        106  40.632499 -73.918642     0   16    1\n",
       "374496          1         95  40.616830 -73.978283     0   16    1\n",
       "374497          0         20  40.619278 -73.976383     0   16    1\n",
       "...           ...        ...        ...        ...   ...  ...  ...\n",
       "501596          0        118  40.657750 -73.878915     4   22    0\n",
       "501598          1         62  40.653146 -73.889566     4   22    0\n",
       "501599          0        119  40.658488 -73.877714     4   22    0\n",
       "501602          1         88  40.634244 -73.949158     4   22    0\n",
       "501603          0         13  40.593444 -73.994029     4   22    0\n",
       "\n",
       "[96853 rows x 7 columns]"
      ]
     },
     "execution_count": 486,
     "metadata": {},
     "output_type": "execute_result"
    }
   ],
   "source": [
    "X_test_base"
   ]
  },
  {
   "cell_type": "code",
   "execution_count": 483,
   "metadata": {},
   "outputs": [
    {
     "data": {
      "text/plain": [
       "<AxesSubplot:>"
      ]
     },
     "execution_count": 483,
     "metadata": {},
     "output_type": "execute_result"
    },
    {
     "data": {
      "image/png": "[encoded data removed]",
      "text/plain": [
       "<Figure size 432x288 with 1 Axes>"
      ]
     },
     "metadata": {
      "needs_background": "light"
     },
     "output_type": "display_data"
    }
   ],
   "source": [
    "np.log(X_test_base_lu.y_test).hist()"
   ]
  },
  {
   "cell_type": "markdown",
   "metadata": {},
   "source": []
  }
 ],
 "metadata": {
  "interpreter": {
   "hash": "d06db2dd0ed2748016d53c42457896c61f2017719ef747483559390d471eac89"
  },
  "kernelspec": {
   "display_name": "Python 3.8.5 64-bit ('base': conda)",
   "name": "python3"
  },
  "language_info": {
   "codemirror_mode": {
    "name": "ipython",
    "version": 3
   },
   "file_extension": ".py",
   "mimetype": "text/x-python",
   "name": "python",
   "nbconvert_exporter": "python",
   "pygments_lexer": "ipython3",
   "version": "3.8.5"
  },
  "orig_nbformat": 4
 },
 "nbformat": 4,
 "nbformat_minor": 2
}
