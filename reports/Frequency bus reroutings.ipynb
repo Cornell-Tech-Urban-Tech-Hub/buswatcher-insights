{
 "cells": [
  {
   "cell_type": "markdown",
   "metadata": {},
   "source": [
    "# Introduction\n",
    "\n",
    "In this file, we would like to answer the question: \"how frequently are buses directly mentioned in unplanned alerts as an alternative mode of transport?\"."
   ]
  },
  {
   "cell_type": "markdown",
   "metadata": {},
   "source": [
    "# Load data"
   ]
  },
  {
   "cell_type": "code",
   "execution_count": 4,
   "metadata": {},
   "outputs": [],
   "source": [
    "import passenger_pred.load as ppl\n",
    "import passenger_pred.preprocess as ppp\n",
    "import os\n",
    "import pandas as pd\n",
    "import json\n",
    "import datetime\n",
    "from datetime import timedelta\n",
    "import numpy as np"
   ]
  },
  {
   "cell_type": "code",
   "execution_count": 5,
   "metadata": {},
   "outputs": [
    {
     "data": {
      "text/plain": [
       "5197"
      ]
     },
     "execution_count": 5,
     "metadata": {},
     "output_type": "execute_result"
    }
   ],
   "source": [
    "file_names = os.listdir('../data/unplanned_alerts')\n",
    "file_names = ['../data/unplanned_alerts/' + i for i in file_names if 'json' in i]\n",
    "len(file_names)"
   ]
  },
  {
   "cell_type": "code",
   "execution_count": 6,
   "metadata": {},
   "outputs": [
    {
     "data": {
      "text/plain": [
       "(265854, 9)"
      ]
     },
     "execution_count": 6,
     "metadata": {},
     "output_type": "execute_result"
    }
   ],
   "source": [
    "alert_df = ppl.load_alerts(file_names)\n",
    "alert_df.shape"
   ]
  },
  {
   "cell_type": "code",
   "execution_count": 7,
   "metadata": {},
   "outputs": [],
   "source": [
    "alert_df = ppp.remove_unplanned_alert(alert_df)"
   ]
  },
  {
   "cell_type": "code",
   "execution_count": 8,
   "metadata": {},
   "outputs": [
    {
     "data": {
      "text/plain": [
       "(35664, 9)"
      ]
     },
     "execution_count": 8,
     "metadata": {},
     "output_type": "execute_result"
    }
   ],
   "source": [
    "alert_df.shape"
   ]
  },
  {
   "cell_type": "code",
   "execution_count": 9,
   "metadata": {},
   "outputs": [
    {
     "data": {
      "text/plain": [
       "(10032, 9)"
      ]
     },
     "execution_count": 9,
     "metadata": {},
     "output_type": "execute_result"
    }
   ],
   "source": [
    "alert_df = alert_df.drop_duplicates()\n",
    "alert_df.shape"
   ]
  },
  {
   "cell_type": "code",
   "execution_count": 264,
   "metadata": {},
   "outputs": [
    {
     "data": {
      "text/plain": [
       "'<p>Northbound [D][N][R] trains are not running between <b>36 St</b> and <b>DeKalb Av</b> while emergency teams respond to someone who was struck by a train at <b>Union St</b>.</p><p style=\"min-height:10px\"></p><p>Extremely limited southbound [D][N][R] service has resumed in Brooklyn.</p><p style=\"min-height:10px\"></p><p>The last stop on northbound [D][N][R] trains will be <b>36 St</b> in Brooklyn, where they\\'ll turn back for southbound service.</p><p style=\"min-height:10px\"></p><p>Some southbound [D] trains are ending service at <b>Broadway-Lafayette St</b>, where they\\'ll turn back for northbound service.</p><p style=\"min-height:10px\"></p><p>Northbound [N] trains are running on the [Q] line between <b>Coney Island-Stillwell Av</b> and <b>DeKalb Av</b>.</p><p style=\"min-height:10px\"></p><p>Some southbound [R] trains are ending service at <b>Whitehall St-South Ferry</b>, where they\\'ll turn back for northbound service.</p><p style=\"min-height:10px\"></p><p>See a station agent to request a free courtesy pass for local <strong>B37</strong>, <strong>B63</strong>, <strong>B64</strong>, <strong>B68</strong>, or <strong>B103</strong> buses. Track buses near you at <a target=\"_blank\" href=\"//bt.mta.info\" rel=\"noopener noreferrer nofollow\">bt.mta.info</a></p>'"
      ]
     },
     "execution_count": 264,
     "metadata": {},
     "output_type": "execute_result"
    }
   ],
   "source": [
    "alert_df.loc[724].statusDescription"
   ]
  },
  {
   "cell_type": "code",
   "execution_count": 266,
   "metadata": {},
   "outputs": [
    {
     "data": {
      "text/html": [
       "<p>Northbound [D][N][R] trains are not running between <b>36 St</b> and <b>DeKalb Av</b> while emergency teams respond to someone who was struck by a train at <b>Union St</b>.</p><p style=\"min-height:10px\"></p><p>Extremely limited southbound [D][N][R] service has resumed in Brooklyn.</p><p style=\"min-height:10px\"></p><p>The last stop on northbound [D][N][R] trains will be <b>36 St</b> in Brooklyn, where they\\'ll turn back for southbound service.</p><p style=\"min-height:10px\"></p><p>Some southbound [D] trains are ending service at <b>Broadway-Lafayette St</b>, where they\\'ll turn back for northbound service.</p><p style=\"min-height:10px\"></p><p>Northbound [N] trains are running on the [Q] line between <b>Coney Island-Stillwell Av</b> and <b>DeKalb Av</b>.</p><p style=\"min-height:10px\"></p><p>Some southbound [R] trains are ending service at <b>Whitehall St-South Ferry</b>, where they\\'ll turn back for northbound service.</p><p style=\"min-height:10px\"></p><p>See a station agent to request a free courtesy pass for local <strong>B37</strong>, <strong>B63</strong>, <strong>B64</strong>, <strong>B68</strong>, or <strong>B103</strong> buses. Track buses near you at <a target=\"_blank\" href=\"//bt.mta.info\" rel=\"noopener noreferrer nofollow\">bt.mta.info</a></p>\n"
      ],
      "text/plain": [
       "<IPython.core.display.HTML object>"
      ]
     },
     "metadata": {},
     "output_type": "display_data"
    }
   ],
   "source": [
    "%%html\n",
    "<p>Northbound [D][N][R] trains are not running between <b>36 St</b> and <b>DeKalb Av</b> while emergency teams respond to someone who was struck by a train at <b>Union St</b>.</p><p style=\"min-height:10px\"></p><p>Extremely limited southbound [D][N][R] service has resumed in Brooklyn.</p><p style=\"min-height:10px\"></p><p>The last stop on northbound [D][N][R] trains will be <b>36 St</b> in Brooklyn, where they\\'ll turn back for southbound service.</p><p style=\"min-height:10px\"></p><p>Some southbound [D] trains are ending service at <b>Broadway-Lafayette St</b>, where they\\'ll turn back for northbound service.</p><p style=\"min-height:10px\"></p><p>Northbound [N] trains are running on the [Q] line between <b>Coney Island-Stillwell Av</b> and <b>DeKalb Av</b>.</p><p style=\"min-height:10px\"></p><p>Some southbound [R] trains are ending service at <b>Whitehall St-South Ferry</b>, where they\\'ll turn back for northbound service.</p><p style=\"min-height:10px\"></p><p>See a station agent to request a free courtesy pass for local <strong>B37</strong>, <strong>B63</strong>, <strong>B64</strong>, <strong>B68</strong>, or <strong>B103</strong> buses. Track buses near you at <a target=\"_blank\" href=\"//bt.mta.info\" rel=\"noopener noreferrer nofollow\">bt.mta.info</a></p>"
   ]
  },
  {
   "cell_type": "code",
   "execution_count": 11,
   "metadata": {},
   "outputs": [],
   "source": [
    "alert_df.to_csv(\"unplanned_alert_20211028_20211201.csv\")"
   ]
  },
  {
   "cell_type": "code",
   "execution_count": 12,
   "metadata": {},
   "outputs": [
    {
     "data": {
      "text/plain": [
       "2825"
      ]
     },
     "execution_count": 12,
     "metadata": {},
     "output_type": "execute_result"
    }
   ],
   "source": [
    "unique_alerts = alert_df.statusDescription.unique()\n",
    "len(unique_alerts)"
   ]
  },
  {
   "cell_type": "code",
   "execution_count": 45,
   "metadata": {},
   "outputs": [],
   "source": [
    "unique_alerts = [i.replace(\",\", \" \") for i in unique_alerts]"
   ]
  },
  {
   "cell_type": "code",
   "execution_count": 78,
   "metadata": {},
   "outputs": [
    {
     "data": {
      "text/plain": [
       "'<p>[N] trains are delayed and partially suspended while FDNY responds to a track fire in the Coney Island train <a target=\"_blank\" href=\"//yard.There\" rel=\"noopener noreferrer nofollow\">yard.</a></p><p style=\"min-height:10px\"></p><p><a target=\"_blank\" href=\"//yard.There\" rel=\"noopener noreferrer nofollow\">There</a> are no [N] trains running between <b>36 St</b> (Bklyn) and <b>Coney Island-Stillwell Av</b>.</p><p style=\"min-height:10px\"></p><p>Travel Alternatives</p><p>For service between <b>45 St</b> and <b>Coney Island-Stillwell Av</b>  take nearby B4  B6  B9  B11 service for [D] or [F] trains. </p><p style=\"min-height:10px\"></p><p style=\"min-height:10px\"></p>'"
      ]
     },
     "execution_count": 78,
     "metadata": {},
     "output_type": "execute_result"
    }
   ],
   "source": [
    "[i for i in unique_alerts if \"M7 \" in i][0]"
   ]
  },
  {
   "cell_type": "code",
   "execution_count": 79,
   "metadata": {},
   "outputs": [
    {
     "data": {
      "text/html": [
       "'<p>[N] trains are delayed and partially suspended while FDNY responds to a track fire in the Coney Island train <a target=\"_blank\" href=\"//yard.There\" rel=\"noopener noreferrer nofollow\">yard.</a></p><p style=\"min-height:10px\"></p><p><a target=\"_blank\" href=\"//yard.There\" rel=\"noopener noreferrer nofollow\">There</a> are no [N] trains running between <b>36 St</b> (Bklyn) and <b>Coney Island-Stillwell Av</b>.</p><p style=\"min-height:10px\"></p><p>Travel Alternatives</p><p>For service between <b>45 St</b> and <b>Coney Island-Stillwell Av</b>  take nearby B4  B6  B9  B11 service for [D] or [F] trains. </p><p style=\"min-height:10px\"></p><p style=\"min-height:10px\"></p>'\n"
      ],
      "text/plain": [
       "<IPython.core.display.HTML object>"
      ]
     },
     "metadata": {},
     "output_type": "display_data"
    }
   ],
   "source": [
    "%%html\n",
    "'<p>[N] trains are delayed and partially suspended while FDNY responds to a track fire in the Coney Island train <a target=\"_blank\" href=\"//yard.There\" rel=\"noopener noreferrer nofollow\">yard.</a></p><p style=\"min-height:10px\"></p><p><a target=\"_blank\" href=\"//yard.There\" rel=\"noopener noreferrer nofollow\">There</a> are no [N] trains running between <b>36 St</b> (Bklyn) and <b>Coney Island-Stillwell Av</b>.</p><p style=\"min-height:10px\"></p><p>Travel Alternatives</p><p>For service between <b>45 St</b> and <b>Coney Island-Stillwell Av</b>  take nearby M3  B6  B9  B11 service for [D] or [F] trains. </p><p style=\"min-height:10px\"></p><p style=\"min-height:10px\"></p>'"
   ]
  },
  {
   "cell_type": "markdown",
   "metadata": {},
   "source": [
    "## Get all routes"
   ]
  },
  {
   "cell_type": "code",
   "execution_count": 51,
   "metadata": {},
   "outputs": [
    {
     "data": {
      "text/plain": [
       "3540397"
      ]
     },
     "execution_count": 51,
     "metadata": {},
     "output_type": "execute_result"
    }
   ],
   "source": [
    "from google.transit import gtfs_realtime_pb2\n",
    "from urllib.request import Request, urlopen\n",
    "\n",
    "BUS_API = \"410b671c-ff0e-41d5-bf67-77a0e5aba917\"\n",
    "\n",
    "feed = gtfs_realtime_pb2.FeedMessage()\n",
    "GTFS_BUS_URL = \"http://gtfsrt.prod.obanyc.com/tripUpdates?key=\" + BUS_API\n",
    "req = Request(GTFS_BUS_URL)\n",
    "feed.ParseFromString(urlopen(req).read())"
   ]
  },
  {
   "cell_type": "code",
   "execution_count": 60,
   "metadata": {},
   "outputs": [
    {
     "data": {
      "text/plain": [
       "300"
      ]
     },
     "execution_count": 60,
     "metadata": {},
     "output_type": "execute_result"
    }
   ],
   "source": [
    "routes = set()\n",
    "\n",
    "for route in feed.entity:\n",
    "    id = route.trip_update.trip.route_id\n",
    "    routes.add(id)\n",
    "\n",
    "len(routes)"
   ]
  },
  {
   "cell_type": "code",
   "execution_count": 69,
   "metadata": {},
   "outputs": [],
   "source": [
    "routes = {route + \" \" for route in routes}"
   ]
  },
  {
   "cell_type": "code",
   "execution_count": 70,
   "metadata": {},
   "outputs": [
    {
     "data": {
      "text/plain": [
       "300"
      ]
     },
     "execution_count": 70,
     "metadata": {},
     "output_type": "execute_result"
    }
   ],
   "source": [
    "len(routes)"
   ]
  },
  {
   "cell_type": "code",
   "execution_count": 92,
   "metadata": {},
   "outputs": [
    {
     "data": {
      "text/plain": [
       "{'B6 ', 'B60 ', 'B61 ', 'B62 ', 'B63 ', 'B64 ', 'B65 ', 'B67 ', 'B68 ', 'B69 '}"
      ]
     },
     "execution_count": 92,
     "metadata": {},
     "output_type": "execute_result"
    }
   ],
   "source": [
    "{i for i in routes if \"B6\" in i}"
   ]
  },
  {
   "cell_type": "markdown",
   "metadata": {},
   "source": [
    "## Find mention of routes"
   ]
  },
  {
   "cell_type": "code",
   "execution_count": 95,
   "metadata": {},
   "outputs": [
    {
     "name": "stdout",
     "output_type": "stream",
     "text": [
      "<p>[N] trains are delayed and partially suspended while FDNY responds to a track fire in the Coney Island train <a target=\"_blank\" href=\"//yard.There\" rel=\"noopener noreferrer nofollow\">yard.</a></p><p style=\"min-height:10px\"></p><p><a target=\"_blank\" href=\"//yard.There\" rel=\"noopener noreferrer nofollow\">There</a> are no [N] trains running between <b>36 St</b> (Bklyn) and <b>Coney Island-Stillwell Av</b>.</p><p style=\"min-height:10px\"></p><p>Travel Alternatives</p><p>For service between <b>45 St</b> and <b>Coney Island-Stillwell Av</b>  take nearby B4  B6  B9  B11 service for [D] or [F] trains. </p><p style=\"min-height:10px\"></p><p style=\"min-height:10px\"></p>\n",
      "<p>[N] trains are delayed and partially suspended while FDNY responds to a track fire in the Coney Island train <a target=\"_blank\" href=\"//yard.There\" rel=\"noopener noreferrer nofollow\">yard.</a></p><p style=\"min-height:10px\"></p><p><a target=\"_blank\" href=\"//yard.There\" rel=\"noopener noreferrer nofollow\">There</a> are no [N] trains running between <b>36 St</b> (Bklyn) and <b>Coney Island-Stillwell Av</b>.</p><p style=\"min-height:10px\"></p><p>Travel Alternatives</p><p>For service between <b>45 St</b> and <b>Coney Island-Stillwell Av</b>  take nearby B4  B6  B9  B11 service for [D] or [F] trains.</p><p style=\"min-height:10px\"></p><p style=\"min-height:10px\"></p>\n",
      "<p>There is no [N] service between <b>Coney Island-Stillwell Av</b> and <b>Kings Hwy</b> while our crews work to correct a switch problem at <b>86 St</b>. </p><p>Southbound [N] trains will end at <b>Kings Hwy</b> and turn for northbound service. </p><p>Some [N] will run on the [Q] line from <b>DeKalb Av</b> to <b>Coney Island-Stillwell Av</b> in both directions.</p><p>For alternate service between <b>Coney Island-Stillwell Av</b> and <b>Kings Hwy</b>  consider the <strong>B1</strong>  <strong>B6 </strong>and <strong>B82 </strong>buses.</p><p style=\"min-height:10px\"></p>\n"
     ]
    },
    {
     "data": {
      "text/plain": [
       "58"
      ]
     },
     "execution_count": 95,
     "metadata": {},
     "output_type": "execute_result"
    }
   ],
   "source": [
    "from collections import defaultdict\n",
    "\n",
    "mention_count = 0\n",
    "mentioned_routes = defaultdict(lambda: 0)\n",
    "\n",
    "for alert in unique_alerts:\n",
    "    for route in routes:\n",
    "        if route in alert:\n",
    "            if route == \"B6 \":\n",
    "                print(alert)\n",
    "            mentioned_routes[route] += 1\n",
    "            mention_count += 1\n",
    "\n",
    "mention_count"
   ]
  },
  {
   "cell_type": "code",
   "execution_count": 96,
   "metadata": {},
   "outputs": [
    {
     "data": {
      "text/plain": [
       "2.05"
      ]
     },
     "execution_count": 96,
     "metadata": {},
     "output_type": "execute_result"
    }
   ],
   "source": [
    "round(mention_count / len(unique_alerts) * 100, 2)"
   ]
  },
  {
   "cell_type": "markdown",
   "metadata": {},
   "source": [
    "We find that only 2% of alerts mention a bus route. This is not a whole lot. "
   ]
  },
  {
   "cell_type": "code",
   "execution_count": 98,
   "metadata": {},
   "outputs": [
    {
     "data": {
      "text/plain": [
       "count    29.00000\n",
       "mean      2.00000\n",
       "std       1.46385\n",
       "min       1.00000\n",
       "25%       1.00000\n",
       "50%       1.00000\n",
       "75%       2.00000\n",
       "max       6.00000\n",
       "dtype: float64"
      ]
     },
     "execution_count": 98,
     "metadata": {},
     "output_type": "execute_result"
    }
   ],
   "source": [
    "route_count = pd.Series(mentioned_routes)\n",
    "route_count.describe()"
   ]
  },
  {
   "cell_type": "markdown",
   "metadata": {},
   "source": [
    "We find 54 unique bus routes mentioned. One bus route is mentioned 16 times. This would probably be an interesting one to investigate."
   ]
  },
  {
   "cell_type": "code",
   "execution_count": 99,
   "metadata": {},
   "outputs": [
    {
     "data": {
      "text/plain": [
       "M7     6\n",
       "dtype: int64"
      ]
     },
     "execution_count": 99,
     "metadata": {},
     "output_type": "execute_result"
    }
   ],
   "source": [
    "route_count[route_count == route_count.max()]"
   ]
  },
  {
   "cell_type": "code",
   "execution_count": 127,
   "metadata": {},
   "outputs": [
    {
     "data": {
      "text/plain": [
       "M7       6\n",
       "M5       5\n",
       "M3       5\n",
       "B4       4\n",
       "M100     4\n",
       "B6       3\n",
       "Q66      3\n",
       "Q24      2\n",
       "B11      2\n",
       "B9       2\n",
       "dtype: int64"
      ]
     },
     "execution_count": 127,
     "metadata": {},
     "output_type": "execute_result"
    }
   ],
   "source": [
    "route_count.sort_values(ascending=False).head(10)"
   ]
  },
  {
   "cell_type": "markdown",
   "metadata": {},
   "source": [
    "Let's take a look at the alerts for which the M3 has been mentioned."
   ]
  },
  {
   "cell_type": "code",
   "execution_count": 80,
   "metadata": {},
   "outputs": [],
   "source": [
    "unique_alert_df = alert_df.drop_duplicates(subset=['statusDescription'])"
   ]
  },
  {
   "cell_type": "code",
   "execution_count": 82,
   "metadata": {},
   "outputs": [
    {
     "data": {
      "text/plain": [
       "(2825, 9)"
      ]
     },
     "execution_count": 82,
     "metadata": {},
     "output_type": "execute_result"
    }
   ],
   "source": [
    "unique_alert_df.shape"
   ]
  },
  {
   "cell_type": "code",
   "execution_count": 124,
   "metadata": {},
   "outputs": [
    {
     "name": "stderr",
     "output_type": "stream",
     "text": [
      "/Users/Lars/opt/anaconda3/lib/python3.8/site-packages/pandas/core/generic.py:5168: SettingWithCopyWarning: \n",
      "A value is trying to be set on a copy of a slice from a DataFrame.\n",
      "Try using .loc[row_indexer,col_indexer] = value instead\n",
      "\n",
      "See the caveats in the documentation: https://pandas.pydata.org/pandas-docs/stable/user_guide/indexing.html#returning-a-view-versus-a-copy\n",
      "  self[name] = value\n"
     ]
    }
   ],
   "source": [
    "unique_alert_df.statusDescription = unique_alert_df.statusDescription.str.replace(\",\", \" \")"
   ]
  },
  {
   "cell_type": "code",
   "execution_count": 209,
   "metadata": {},
   "outputs": [
    {
     "data": {
      "text/plain": [
       "(4, 9)"
      ]
     },
     "execution_count": 209,
     "metadata": {},
     "output_type": "execute_result"
    }
   ],
   "source": [
    "M3 = unique_alert_df[unique_alert_df.statusDescription.str.contains(\"M100 \", regex=False)]\n",
    "M3.shape"
   ]
  },
  {
   "cell_type": "markdown",
   "metadata": {},
   "source": [
    "For how long were these alerts active? Note that `endDate` is `None` in every case. This is due to the fact that for these unplanned disruptions, it is unknown at what time it ended - they will simply have disappeared at some point. We thus need to infer this from the original data."
   ]
  },
  {
   "cell_type": "code",
   "execution_count": 210,
   "metadata": {},
   "outputs": [
    {
     "data": {
      "text/plain": [
       "'1636692601'"
      ]
     },
     "execution_count": 210,
     "metadata": {},
     "output_type": "execute_result"
    }
   ],
   "source": [
    "file_name[34:44]"
   ]
  },
  {
   "cell_type": "code",
   "execution_count": 179,
   "metadata": {},
   "outputs": [],
   "source": [
    "time_alerts = []\n",
    "\n",
    "for file_name in file_names:\n",
    "    time = file_name[34:44]\n",
    "    with open (file_name, 'r') as f:\n",
    "        data = json.load(f)\n",
    "        for dic in data:\n",
    "            dic['time'] = time\n",
    "        time_alerts += data"
   ]
  },
  {
   "cell_type": "code",
   "execution_count": 156,
   "metadata": {},
   "outputs": [
    {
     "data": {
      "text/plain": [
       "(265854, 10)"
      ]
     },
     "execution_count": 156,
     "metadata": {},
     "output_type": "execute_result"
    }
   ],
   "source": [
    "time_df = pd.DataFrame(time_alerts)\n",
    "time_df.shape"
   ]
  },
  {
   "cell_type": "code",
   "execution_count": 157,
   "metadata": {},
   "outputs": [
    {
     "data": {
      "text/plain": [
       "id\n",
       "lmm:alert:103638                 [1635356402, 1635356173, 1635357002]\n",
       "lmm:alert:103648     [1635356402, 1635356173, 1635357002, 1635357602]\n",
       "lmm:alert:103650    [1635356402, 1635357002, 1635358802, 163535820...\n",
       "lmm:alert:103656                                         [1635357602]\n",
       "lmm:alert:103657                                         [1635358202]\n",
       "Name: time, dtype: object"
      ]
     },
     "execution_count": 157,
     "metadata": {},
     "output_type": "execute_result"
    }
   ],
   "source": [
    "alert_times = time_df.groupby(\"id\").time.unique()\n",
    "alert_times.head()"
   ]
  },
  {
   "cell_type": "code",
   "execution_count": 158,
   "metadata": {},
   "outputs": [
    {
     "data": {
      "text/plain": [
       "(265854, 11)"
      ]
     },
     "execution_count": 158,
     "metadata": {},
     "output_type": "execute_result"
    }
   ],
   "source": [
    "time_df = time_df.merge(alert_times, on='id')\n",
    "time_df.shape"
   ]
  },
  {
   "cell_type": "code",
   "execution_count": 159,
   "metadata": {},
   "outputs": [
    {
     "data": {
      "text/plain": [
       "Index(['startDate', 'direction', 'endDate', 'statusSummary', 'id', 'priority',\n",
       "       'line', 'creationDate', 'statusDescription', 'time', 'time_list'],\n",
       "      dtype='object')"
      ]
     },
     "execution_count": 159,
     "metadata": {},
     "output_type": "execute_result"
    }
   ],
   "source": [
    "time_df = time_df.rename({\"time_x\": \"time\", \"time_y\": \"time_list\"}, axis=1)\n",
    "time_df.columns"
   ]
  },
  {
   "cell_type": "code",
   "execution_count": 160,
   "metadata": {},
   "outputs": [],
   "source": [
    "time_df['end_time'] = time_df.time_list.apply(max)"
   ]
  },
  {
   "cell_type": "code",
   "execution_count": 161,
   "metadata": {},
   "outputs": [],
   "source": [
    "time_df = time_df[['id', 'end_time']].drop_duplicates(subset='id')"
   ]
  },
  {
   "cell_type": "code",
   "execution_count": 211,
   "metadata": {},
   "outputs": [
    {
     "data": {
      "text/plain": [
       "(4, 10)"
      ]
     },
     "execution_count": 211,
     "metadata": {},
     "output_type": "execute_result"
    }
   ],
   "source": [
    "M3_time = M3.merge(time_df[['id', 'end_time']], on='id',)\n",
    "M3_time.shape"
   ]
  },
  {
   "cell_type": "code",
   "execution_count": 212,
   "metadata": {},
   "outputs": [
    {
     "data": {
      "text/plain": [
       "0    1638328802\n",
       "1    1638325801\n",
       "2    1638330602\n",
       "3    1637172602\n",
       "Name: end_time, dtype: object"
      ]
     },
     "execution_count": 212,
     "metadata": {},
     "output_type": "execute_result"
    }
   ],
   "source": [
    "M3_time.end_time"
   ]
  },
  {
   "cell_type": "code",
   "execution_count": 213,
   "metadata": {},
   "outputs": [],
   "source": [
    "M3_time['endDate'] = M3_time.end_time.astype(int).apply(lambda x: datetime.datetime.fromtimestamp(x))"
   ]
  },
  {
   "cell_type": "code",
   "execution_count": 214,
   "metadata": {},
   "outputs": [],
   "source": [
    "M3_time['startDate'] = pd.to_datetime(M3_time.startDate)"
   ]
  },
  {
   "cell_type": "code",
   "execution_count": 215,
   "metadata": {},
   "outputs": [],
   "source": [
    "M3_time['endDate'] = M3_time.endDate.dt.tz_localize('EST')"
   ]
  },
  {
   "cell_type": "code",
   "execution_count": 216,
   "metadata": {},
   "outputs": [],
   "source": [
    "M3_time['endDate'] = M3_time.endDate.dt.tz_convert('UTC')"
   ]
  },
  {
   "cell_type": "code",
   "execution_count": 217,
   "metadata": {},
   "outputs": [],
   "source": [
    "M3_time['startDate'] = pd.to_datetime(M3_time.startDate, utc=True)"
   ]
  },
  {
   "cell_type": "code",
   "execution_count": 218,
   "metadata": {},
   "outputs": [],
   "source": [
    "M3_time['endDate'] = M3_time.endDate + timedelta(minutes=10)"
   ]
  },
  {
   "cell_type": "code",
   "execution_count": 219,
   "metadata": {},
   "outputs": [
    {
     "data": {
      "text/plain": [
       "0   0 days 00:59:54\n",
       "1   0 days 00:59:07\n",
       "2   0 days 00:29:28\n",
       "3   0 days 00:14:10\n",
       "dtype: timedelta64[ns]"
      ]
     },
     "execution_count": 219,
     "metadata": {},
     "output_type": "execute_result"
    }
   ],
   "source": [
    "M3_time.endDate - M3_time.startDate"
   ]
  },
  {
   "cell_type": "code",
   "execution_count": 220,
   "metadata": {},
   "outputs": [
    {
     "data": {
      "text/plain": [
       "0    59.900000\n",
       "1    59.116667\n",
       "2    29.466667\n",
       "3    14.166667\n",
       "Name: alert_minutes, dtype: float64"
      ]
     },
     "execution_count": 220,
     "metadata": {},
     "output_type": "execute_result"
    }
   ],
   "source": [
    "M3_time['alert_minutes'] = (M3_time.endDate - M3_time.startDate) / pd.Timedelta(minutes=1)\n",
    "M3_time.alert_minutes"
   ]
  },
  {
   "cell_type": "code",
   "execution_count": 172,
   "metadata": {},
   "outputs": [
    {
     "ename": "TypeError",
     "evalue": "Timestamp subtraction must have the same timezones or no timezones",
     "output_type": "error",
     "traceback": [
      "\u001b[0;31m---------------------------------------------------------------------------\u001b[0m",
      "\u001b[0;31mTypeError\u001b[0m                                 Traceback (most recent call last)",
      "\u001b[0;32m<ipython-input-172-85c475e3fb6d>\u001b[0m in \u001b[0;36m<module>\u001b[0;34m\u001b[0m\n\u001b[0;32m----> 1\u001b[0;31m \u001b[0mpd\u001b[0m\u001b[0;34m.\u001b[0m\u001b[0mto_datetime\u001b[0m\u001b[0;34m(\u001b[0m\u001b[0malert_df\u001b[0m\u001b[0;34m.\u001b[0m\u001b[0mstartDate\u001b[0m\u001b[0;34m.\u001b[0m\u001b[0mmax\u001b[0m\u001b[0;34m(\u001b[0m\u001b[0;34m)\u001b[0m\u001b[0;34m)\u001b[0m \u001b[0;34m-\u001b[0m \u001b[0mpd\u001b[0m\u001b[0;34m.\u001b[0m\u001b[0mto_datetime\u001b[0m\u001b[0;34m(\u001b[0m\u001b[0malert_df\u001b[0m\u001b[0;34m.\u001b[0m\u001b[0mstartDate\u001b[0m\u001b[0;34m.\u001b[0m\u001b[0mmin\u001b[0m\u001b[0;34m(\u001b[0m\u001b[0;34m)\u001b[0m\u001b[0;34m)\u001b[0m\u001b[0;34m\u001b[0m\u001b[0;34m\u001b[0m\u001b[0m\n\u001b[0m",
      "\u001b[0;32mpandas/_libs/tslibs/timestamps.pyx\u001b[0m in \u001b[0;36mpandas._libs.tslibs.timestamps._Timestamp.__sub__\u001b[0;34m()\u001b[0m\n",
      "\u001b[0;31mTypeError\u001b[0m: Timestamp subtraction must have the same timezones or no timezones"
     ]
    }
   ],
   "source": [
    "pd.to_datetime(alert_df.startDate.max()) - pd.to_datetime(alert_df.startDate.min())"
   ]
  },
  {
   "cell_type": "code",
   "execution_count": 221,
   "metadata": {},
   "outputs": [
    {
     "data": {
      "text/plain": [
       "'2021-10-27T12:43:24-0400'"
      ]
     },
     "execution_count": 221,
     "metadata": {},
     "output_type": "execute_result"
    }
   ],
   "source": [
    "alert_df.startDate.min()"
   ]
  },
  {
   "cell_type": "code",
   "execution_count": 222,
   "metadata": {},
   "outputs": [
    {
     "data": {
      "text/plain": [
       "51991.066666666666"
      ]
     },
     "execution_count": 222,
     "metadata": {},
     "output_type": "execute_result"
    }
   ],
   "source": [
    "total_minutes = (pd.to_datetime(alert_df.startDate.max()).tz_convert(\"EST\") - pd.to_datetime(alert_df.startDate.min()).tz_convert(\"EST\")) / pd.Timedelta(minutes=1)\n",
    "total_minutes"
   ]
  },
  {
   "cell_type": "code",
   "execution_count": 223,
   "metadata": {},
   "outputs": [
    {
     "data": {
      "text/plain": [
       "0.312842206225172"
      ]
     },
     "execution_count": 223,
     "metadata": {},
     "output_type": "execute_result"
    }
   ],
   "source": [
    "M3_time.alert_minutes.sum() / total_minutes * 100"
   ]
  },
  {
   "cell_type": "code",
   "execution_count": 224,
   "metadata": {},
   "outputs": [],
   "source": [
    "M3_time.to_csv(\"M100.csv\")"
   ]
  },
  {
   "cell_type": "markdown",
   "metadata": {},
   "source": [
    "So, we find that for about 0.7% of 'time', there has been an alert active in which there was a mention of the M3 line as a rerouting. This number is relatively low, and that is for the line for which the alerts were most frequent. It thus remains an open question whether adding a 'disruption' feature to our dataset would be useful. "
   ]
  },
  {
   "cell_type": "code",
   "execution_count": null,
   "metadata": {},
   "outputs": [],
   "source": []
  }
 ],
 "metadata": {
  "interpreter": {
   "hash": "d06db2dd0ed2748016d53c42457896c61f2017719ef747483559390d471eac89"
  },
  "kernelspec": {
   "display_name": "Python 3.8.5 64-bit ('base': conda)",
   "name": "python3"
  },
  "language_info": {
   "codemirror_mode": {
    "name": "ipython",
    "version": 3
   },
   "file_extension": ".py",
   "mimetype": "text/x-python",
   "name": "python",
   "nbconvert_exporter": "python",
   "pygments_lexer": "ipython3",
   "version": "3.8.5"
  },
  "orig_nbformat": 4
 },
 "nbformat": 4,
 "nbformat_minor": 2
}
