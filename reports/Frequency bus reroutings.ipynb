{
 "cells": [
  {
   "cell_type": "markdown",
   "metadata": {},
   "source": [
    "# Introduction\n",
    "\n",
    "In this file, we would like to answer the question: \"how frequently are buses directly mentioned in unplanned alerts as an alternative mode of transport?\"."
   ]
  },
  {
   "cell_type": "markdown",
   "metadata": {},
   "source": [
    "# Load data"
   ]
  },
  {
   "cell_type": "code",
   "execution_count": 8,
   "metadata": {},
   "outputs": [],
   "source": [
    "import passenger_pred.load as ppl\n",
    "import passenger_pred.preprocess as ppp\n",
    "import os\n",
    "import pandas as pd\n",
    "import json\n",
    "import datetime\n",
    "from datetime import timedelta\n",
    "import numpy as np"
   ]
  },
  {
   "cell_type": "code",
   "execution_count": 11,
   "metadata": {},
   "outputs": [],
   "source": [
    "file_names = os.listdir('../data/unplanned_alerts')\n",
    "file_names = ['../data/unplanned_alerts/' + i for i in file_names if 'json' in i]"
   ]
  },
  {
   "cell_type": "code",
   "execution_count": 12,
   "metadata": {},
   "outputs": [
    {
     "data": {
      "text/plain": [
       "(187250, 9)"
      ]
     },
     "execution_count": 12,
     "metadata": {},
     "output_type": "execute_result"
    }
   ],
   "source": [
    "alert_df = ppl.load_alerts(file_names)\n",
    "alert_df.shape"
   ]
  },
  {
   "cell_type": "code",
   "execution_count": 13,
   "metadata": {},
   "outputs": [],
   "source": [
    "alert_df = ppp.remove_unplanned_alert(alert_df)"
   ]
  },
  {
   "cell_type": "code",
   "execution_count": 14,
   "metadata": {},
   "outputs": [
    {
     "data": {
      "text/plain": [
       "(27144, 9)"
      ]
     },
     "execution_count": 14,
     "metadata": {},
     "output_type": "execute_result"
    }
   ],
   "source": [
    "alert_df.shape"
   ]
  },
  {
   "cell_type": "code",
   "execution_count": 15,
   "metadata": {},
   "outputs": [
    {
     "data": {
      "text/plain": [
       "(7258, 9)"
      ]
     },
     "execution_count": 15,
     "metadata": {},
     "output_type": "execute_result"
    }
   ],
   "source": [
    "alert_df = alert_df.drop_duplicates()\n",
    "alert_df.shape"
   ]
  },
  {
   "cell_type": "code",
   "execution_count": 16,
   "metadata": {},
   "outputs": [],
   "source": [
    "alert_df.to_csv(\"unplanned_alert_20211028_20211121.csv\")"
   ]
  },
  {
   "cell_type": "code",
   "execution_count": 17,
   "metadata": {},
   "outputs": [
    {
     "data": {
      "text/plain": [
       "2044"
      ]
     },
     "execution_count": 17,
     "metadata": {},
     "output_type": "execute_result"
    }
   ],
   "source": [
    "unique_alerts = alert_df.statusDescription.unique()\n",
    "len(unique_alerts)"
   ]
  },
  {
   "cell_type": "markdown",
   "metadata": {},
   "source": [
    "## Get all routes"
   ]
  },
  {
   "cell_type": "code",
   "execution_count": 18,
   "metadata": {},
   "outputs": [
    {
     "data": {
      "text/plain": [
       "2214916"
      ]
     },
     "execution_count": 18,
     "metadata": {},
     "output_type": "execute_result"
    }
   ],
   "source": [
    "from google.transit import gtfs_realtime_pb2\n",
    "from urllib.request import Request, urlopen\n",
    "\n",
    "BUS_API = \"410b671c-ff0e-41d5-bf67-77a0e5aba917\"\n",
    "\n",
    "feed = gtfs_realtime_pb2.FeedMessage()\n",
    "GTFS_BUS_URL = \"http://gtfsrt.prod.obanyc.com/tripUpdates?key=\" + BUS_API\n",
    "req = Request(GTFS_BUS_URL)\n",
    "feed.ParseFromString(urlopen(req).read())"
   ]
  },
  {
   "cell_type": "code",
   "execution_count": 19,
   "metadata": {},
   "outputs": [
    {
     "data": {
      "text/plain": [
       "252"
      ]
     },
     "execution_count": 19,
     "metadata": {},
     "output_type": "execute_result"
    }
   ],
   "source": [
    "routes = set()\n",
    "\n",
    "for route in feed.entity:\n",
    "    id = route.trip_update.trip.route_id\n",
    "    routes.add(id)\n",
    "\n",
    "len(routes)"
   ]
  },
  {
   "cell_type": "markdown",
   "metadata": {},
   "source": [
    "## Find mention of routes"
   ]
  },
  {
   "cell_type": "code",
   "execution_count": 20,
   "metadata": {},
   "outputs": [
    {
     "data": {
      "text/plain": [
       "213"
      ]
     },
     "execution_count": 20,
     "metadata": {},
     "output_type": "execute_result"
    }
   ],
   "source": [
    "from collections import defaultdict\n",
    "\n",
    "mention_count = 0\n",
    "mentioned_routes = defaultdict(lambda: 0)\n",
    "\n",
    "for alert in unique_alerts:\n",
    "    for route in routes:\n",
    "        if route in alert:\n",
    "            mentioned_routes[route] += 1\n",
    "            mention_count += 1\n",
    "\n",
    "mention_count"
   ]
  },
  {
   "cell_type": "markdown",
   "metadata": {},
   "source": [
    "We find that around 10% of alerts mention a bus route. This is promising."
   ]
  },
  {
   "cell_type": "code",
   "execution_count": 21,
   "metadata": {},
   "outputs": [
    {
     "data": {
      "text/plain": [
       "count    55.000000\n",
       "mean      3.872727\n",
       "std       3.266296\n",
       "min       1.000000\n",
       "25%       1.000000\n",
       "50%       3.000000\n",
       "75%       6.000000\n",
       "max      16.000000\n",
       "dtype: float64"
      ]
     },
     "execution_count": 21,
     "metadata": {},
     "output_type": "execute_result"
    }
   ],
   "source": [
    "route_count = pd.Series(mentioned_routes)\n",
    "route_count.describe()"
   ]
  },
  {
   "cell_type": "markdown",
   "metadata": {},
   "source": [
    "We find 54 unique bus routes mentioned. One bus route is mentioned 16 times. This would probably be an interesting one to investigate."
   ]
  },
  {
   "cell_type": "code",
   "execution_count": 22,
   "metadata": {},
   "outputs": [
    {
     "data": {
      "text/plain": [
       "B6    16\n",
       "dtype: int64"
      ]
     },
     "execution_count": 22,
     "metadata": {},
     "output_type": "execute_result"
    }
   ],
   "source": [
    "route_count[route_count == route_count.max()]"
   ]
  },
  {
   "cell_type": "markdown",
   "metadata": {},
   "source": [
    "Let's take a look at the alerts for which the B6 has been mentioned."
   ]
  },
  {
   "cell_type": "code",
   "execution_count": 23,
   "metadata": {},
   "outputs": [],
   "source": [
    "unique_alert_df = alert_df.drop_duplicates(subset=['statusDescription'])"
   ]
  },
  {
   "cell_type": "code",
   "execution_count": 24,
   "metadata": {},
   "outputs": [
    {
     "data": {
      "text/plain": [
       "(16, 9)"
      ]
     },
     "execution_count": 24,
     "metadata": {},
     "output_type": "execute_result"
    }
   ],
   "source": [
    "B6 = unique_alert_df[unique_alert_df.statusDescription.str.contains(\"B6\")]\n",
    "B6.shape"
   ]
  },
  {
   "cell_type": "code",
   "execution_count": 25,
   "metadata": {},
   "outputs": [
    {
     "data": {
      "text/plain": [
       "'<p>Northbound [D][N][R] trains are not running between <b>36 St</b> and <b>DeKalb Av</b> while emergency teams respond to someone who was struck by a train at <b>Union St</b>.</p><p style=\"min-height:10px\"></p><p>Extremely limited southbound [D][N][R] service has resumed in Brooklyn.</p><p style=\"min-height:10px\"></p><p>The last stop on northbound [D][N][R] trains will be <b>36 St</b> in Brooklyn, where they\\'ll turn back for southbound service.</p><p style=\"min-height:10px\"></p><p>Some southbound [D] trains are ending service at <b>Broadway-Lafayette St</b>, where they\\'ll turn back for northbound service.</p><p style=\"min-height:10px\"></p><p>Northbound [N] trains are running on the [Q] line between <b>Coney Island-Stillwell Av</b> and <b>DeKalb Av</b>.</p><p style=\"min-height:10px\"></p><p>Some southbound [R] trains are ending service at <b>Whitehall St-South Ferry</b>, where they\\'ll turn back for northbound service.</p><p style=\"min-height:10px\"></p><p>See a station agent to request a free courtesy pass for local <strong>B37</strong>, <strong>B63</strong>, <strong>B64</strong>, <strong>B68</strong>, or <strong>B103</strong> buses. Track buses near you at <a target=\"_blank\" href=\"//bt.mta.info\" rel=\"noopener noreferrer nofollow\">bt.mta.info</a></p>'"
      ]
     },
     "execution_count": 25,
     "metadata": {},
     "output_type": "execute_result"
    }
   ],
   "source": [
    "B6.statusDescription.iloc[0]"
   ]
  },
  {
   "cell_type": "code",
   "execution_count": 26,
   "metadata": {},
   "outputs": [
    {
     "data": {
      "text/html": [
       "\n",
       "<p>Northbound [D][N][R] trains are not running between <b>36 St</b> and <b>DeKalb Av</b> while emergency teams respond to someone who was struck by a train at <b>Union St</b>.</p><p style=\"min-height:10px\"></p><p>Extremely limited southbound [D][N][R] service has resumed in Brooklyn.</p><p style=\"min-height:10px\"></p><p>The last stop on northbound [D][N][R] trains will be <b>36 St</b> in Brooklyn, where they\\'ll turn back for southbound service.</p><p style=\"min-height:10px\"></p><p>Some southbound [D] trains are ending service at <b>Broadway-Lafayette St</b>, where they\\'ll turn back for northbound service.</p><p style=\"min-height:10px\"></p><p>Northbound [N] trains are running on the [Q] line between <b>Coney Island-Stillwell Av</b> and <b>DeKalb Av</b>.</p><p style=\"min-height:10px\"></p><p>Some southbound [R] trains are ending service at <b>Whitehall St-South Ferry</b>, where they\\'ll turn back for northbound service.</p><p style=\"min-height:10px\"></p><p>See a station agent to request a free courtesy pass for local <strong>B37</strong>, <strong>B63</strong>, <strong>B64</strong>, <strong>B68</strong>, or <strong>B103</strong> buses. Track buses near you at <a target=\"_blank\" href=\"//bt.mta.info\" rel=\"noopener noreferrer nofollow\">bt.mta.info</a></p>\n"
      ],
      "text/plain": [
       "<IPython.core.display.HTML object>"
      ]
     },
     "metadata": {},
     "output_type": "display_data"
    }
   ],
   "source": [
    "%%html\n",
    "\n",
    "<p>Northbound [D][N][R] trains are not running between <b>36 St</b> and <b>DeKalb Av</b> while emergency teams respond to someone who was struck by a train at <b>Union St</b>.</p><p style=\"min-height:10px\"></p><p>Extremely limited southbound [D][N][R] service has resumed in Brooklyn.</p><p style=\"min-height:10px\"></p><p>The last stop on northbound [D][N][R] trains will be <b>36 St</b> in Brooklyn, where they\\'ll turn back for southbound service.</p><p style=\"min-height:10px\"></p><p>Some southbound [D] trains are ending service at <b>Broadway-Lafayette St</b>, where they\\'ll turn back for northbound service.</p><p style=\"min-height:10px\"></p><p>Northbound [N] trains are running on the [Q] line between <b>Coney Island-Stillwell Av</b> and <b>DeKalb Av</b>.</p><p style=\"min-height:10px\"></p><p>Some southbound [R] trains are ending service at <b>Whitehall St-South Ferry</b>, where they\\'ll turn back for northbound service.</p><p style=\"min-height:10px\"></p><p>See a station agent to request a free courtesy pass for local <strong>B37</strong>, <strong>B63</strong>, <strong>B64</strong>, <strong>B68</strong>, or <strong>B103</strong> buses. Track buses near you at <a target=\"_blank\" href=\"//bt.mta.info\" rel=\"noopener noreferrer nofollow\">bt.mta.info</a></p>"
   ]
  },
  {
   "cell_type": "code",
   "execution_count": 27,
   "metadata": {},
   "outputs": [
    {
     "data": {
      "text/plain": [
       "'<p>[N] [Q] [R] [W] trains are <strong>rerouted</strong> and experiencing <strong>major delays </strong>because of multiple incidents:</p><ul><li><p>We\\'re working to repair a signal problem that has activated multiple trains\\' brakes in the tunnel from <strong>Queens</strong> to <strong>Manhattan</strong>.</p></li><li><p>We\\'re working to get trains back on schedule after someone was struck by a train on the <strong>Manhattan Bridge</strong></p></li></ul><p>Here are details on how service is running:</p><p style=\"min-height:10px\"></p><p>[N] <strong>Service</strong></p><p>Southbound [N] trains are running at slow speeds in the tunnel from <strong>Queens</strong> to <strong>Manhattan</strong>.</p><p style=\"min-height:10px\"></p><p>[Q] <strong>Service</strong></p><p>Trains are experiencing major delays in both directions.</p><p style=\"min-height:10px\"></p><p>[R]<strong> Service</strong></p><p>There is no southbound [R] service at <b>Queens Plaza</b>, <b>Lexington Av/59 St</b> or <b>5 Av/59 St</b>.</p><p style=\"min-height:10px\"></p><p>Southbound [R] trains are running on the [F] line from <b>36 St</b> (Queens) to <b>Lexington Av/63 St</b> and then on the [Q] line to <b>57 St-7 Av</b>.</p><p style=\"min-height:10px\"></p><p>[W]<strong> Service</strong></p><p>[W] service is extremely limited.</p><p style=\"min-height:10px\"></p><p><strong>Alternatives - Between Queens and Manhattan </strong>[N] [R] [W]</p><p>Take <strong>M60-SBS</strong> buses between <b>Astoria Blvd</b> and [A] [B] [C] [D], [2] [3], [4] [5] [6] stations on <strong>125 St</strong>.</p><p style=\"min-height:10px\"></p><p>Take <strong>M102</strong> buses for local service in <strong>Astoria</strong>.</p><p style=\"min-height:10px\"></p><p>Transfer to/from [7] trains at <b>Queensboro Plaza</b> for service to/from <strong>Manhattan</strong>.</p><p style=\"min-height:10px\"></p><p>For <b>Queens Plaza</b>, take \\u200c[M] trains by transferring at \\u200c<strong>36 St\\u200c </strong>or \\u200c<strong>34 St-Herald Sq\\u200c</strong>.</p><p style=\"min-height:10px\"></p><p><strong>Alternatives- Manhattan</strong></p><p>Take nearby [4] [5] [6], [B] [D] [F] [M] and [1] [2] [3] trains. Transfer at <b>Lexington Av/59 St</b>, <b>34 St-Herald Sq</b> and <b>Times Sq-42 St</b>.</p><p style=\"min-height:10px\"></p><p>For service to/from<strong> \\u200cLexington Av/59 St\\u200c</strong>, take \\u200c[6] trains to/from \\u200c<strong>51 St\\u200c </strong>for \\u200c[M] service or \\u200c<strong>Grand Central-42 St\\u200c </strong>for \\u200c[7] service.</p><p style=\"min-height:10px\"></p><p>For service to \\u200c<strong>5 Av/59 St\\u200c</strong>, use nearby \\u200c<b>57 St</b> ([F]) where southbound \\u200c[R] service is rerouted.</p><p style=\"min-height:10px\"></p><p><strong>Alternatives - Brooklyn</strong></p><p>For [Q] service, take [B] [2] [5] trains.</p><p style=\"min-height:10px\"></p><p>For [N] service, take [D] trains.</p><p style=\"min-height:10px\"></p><p>For [R] service, take <strong>B37</strong> and <strong>B63</strong> buses.</p>'"
      ]
     },
     "execution_count": 27,
     "metadata": {},
     "output_type": "execute_result"
    }
   ],
   "source": [
    "B6.statusDescription.iloc[1]"
   ]
  },
  {
   "cell_type": "code",
   "execution_count": 28,
   "metadata": {},
   "outputs": [
    {
     "data": {
      "text/html": [
       "'<p>[N] [Q] [R] [W] trains are <strong>rerouted</strong> and experiencing <strong>major delays </strong>because of multiple incidents:</p><ul><li><p>We\\'re working to repair a signal problem that has activated multiple trains\\' brakes in the tunnel from <strong>Queens</strong> to <strong>Manhattan</strong>.</p></li><li><p>We\\'re working to get trains back on schedule after someone was struck by a train on the <strong>Manhattan Bridge</strong></p></li></ul><p>Here are details on how service is running:</p><p style=\"min-height:10px\"></p><p>[N] <strong>Service</strong></p><p>Southbound [N] trains are running at slow speeds in the tunnel from <strong>Queens</strong> to <strong>Manhattan</strong>.</p><p style=\"min-height:10px\"></p><p>[Q] <strong>Service</strong></p><p>Trains are experiencing major delays in both directions.</p><p style=\"min-height:10px\"></p><p>[R]<strong> Service</strong></p><p>There is no southbound [R] service at <b>Queens Plaza</b>, <b>Lexington Av/59 St</b> or <b>5 Av/59 St</b>.</p><p style=\"min-height:10px\"></p><p>Southbound [R] trains are running on the [F] line from <b>36 St</b> (Queens) to <b>Lexington Av/63 St</b> and then on the [Q] line to <b>57 St-7 Av</b>.</p><p style=\"min-height:10px\"></p><p>[W]<strong> Service</strong></p><p>[W] service is extremely limited.</p><p style=\"min-height:10px\"></p><p><strong>Alternatives - Between Queens and Manhattan </strong>[N] [R] [W]</p><p>Take <strong>M60-SBS</strong> buses between <b>Astoria Blvd</b> and [A] [B] [C] [D], [2] [3], [4] [5] [6] stations on <strong>125 St</strong>.</p><p style=\"min-height:10px\"></p><p>Take <strong>M102</strong> buses for local service in <strong>Astoria</strong>.</p><p style=\"min-height:10px\"></p><p>Transfer to/from [7] trains at <b>Queensboro Plaza</b> for service to/from <strong>Manhattan</strong>.</p><p style=\"min-height:10px\"></p><p>For <b>Queens Plaza</b>, take \\u200c[M] trains by transferring at \\u200c<strong>36 St\\u200c </strong>or \\u200c<strong>34 St-Herald Sq\\u200c</strong>.</p><p style=\"min-height:10px\"></p><p><strong>Alternatives- Manhattan</strong></p><p>Take nearby [4] [5] [6], [B] [D] [F] [M] and [1] [2] [3] trains. Transfer at <b>Lexington Av/59 St</b>, <b>34 St-Herald Sq</b> and <b>Times Sq-42 St</b>.</p><p style=\"min-height:10px\"></p><p>For service to/from<strong> \\u200cLexington Av/59 St\\u200c</strong>, take \\u200c[6] trains to/from \\u200c<strong>51 St\\u200c </strong>for \\u200c[M] service or \\u200c<strong>Grand Central-42 St\\u200c </strong>for \\u200c[7] service.</p><p style=\"min-height:10px\"></p><p>For service to \\u200c<strong>5 Av/59 St\\u200c</strong>, use nearby \\u200c<b>57 St</b> ([F]) where southbound \\u200c[R] service is rerouted.</p><p style=\"min-height:10px\"></p><p><strong>Alternatives - Brooklyn</strong></p><p>For [Q] service, take [B] [2] [5] trains.</p><p style=\"min-height:10px\"></p><p>For [N] service, take [D] trains.</p><p style=\"min-height:10px\"></p><p>For [R] service, take <strong>B37</strong> and <strong>B63</strong> buses.</p>'\n"
      ],
      "text/plain": [
       "<IPython.core.display.HTML object>"
      ]
     },
     "metadata": {},
     "output_type": "display_data"
    }
   ],
   "source": [
    "%%html\n",
    "'<p>[N] [Q] [R] [W] trains are <strong>rerouted</strong> and experiencing <strong>major delays </strong>because of multiple incidents:</p><ul><li><p>We\\'re working to repair a signal problem that has activated multiple trains\\' brakes in the tunnel from <strong>Queens</strong> to <strong>Manhattan</strong>.</p></li><li><p>We\\'re working to get trains back on schedule after someone was struck by a train on the <strong>Manhattan Bridge</strong></p></li></ul><p>Here are details on how service is running:</p><p style=\"min-height:10px\"></p><p>[N] <strong>Service</strong></p><p>Southbound [N] trains are running at slow speeds in the tunnel from <strong>Queens</strong> to <strong>Manhattan</strong>.</p><p style=\"min-height:10px\"></p><p>[Q] <strong>Service</strong></p><p>Trains are experiencing major delays in both directions.</p><p style=\"min-height:10px\"></p><p>[R]<strong> Service</strong></p><p>There is no southbound [R] service at <b>Queens Plaza</b>, <b>Lexington Av/59 St</b> or <b>5 Av/59 St</b>.</p><p style=\"min-height:10px\"></p><p>Southbound [R] trains are running on the [F] line from <b>36 St</b> (Queens) to <b>Lexington Av/63 St</b> and then on the [Q] line to <b>57 St-7 Av</b>.</p><p style=\"min-height:10px\"></p><p>[W]<strong> Service</strong></p><p>[W] service is extremely limited.</p><p style=\"min-height:10px\"></p><p><strong>Alternatives - Between Queens and Manhattan </strong>[N] [R] [W]</p><p>Take <strong>M60-SBS</strong> buses between <b>Astoria Blvd</b> and [A] [B] [C] [D], [2] [3], [4] [5] [6] stations on <strong>125 St</strong>.</p><p style=\"min-height:10px\"></p><p>Take <strong>M102</strong> buses for local service in <strong>Astoria</strong>.</p><p style=\"min-height:10px\"></p><p>Transfer to/from [7] trains at <b>Queensboro Plaza</b> for service to/from <strong>Manhattan</strong>.</p><p style=\"min-height:10px\"></p><p>For <b>Queens Plaza</b>, take \\u200c[M] trains by transferring at \\u200c<strong>36 St\\u200c </strong>or \\u200c<strong>34 St-Herald Sq\\u200c</strong>.</p><p style=\"min-height:10px\"></p><p><strong>Alternatives- Manhattan</strong></p><p>Take nearby [4] [5] [6], [B] [D] [F] [M] and [1] [2] [3] trains. Transfer at <b>Lexington Av/59 St</b>, <b>34 St-Herald Sq</b> and <b>Times Sq-42 St</b>.</p><p style=\"min-height:10px\"></p><p>For service to/from<strong> \\u200cLexington Av/59 St\\u200c</strong>, take \\u200c[6] trains to/from \\u200c<strong>51 St\\u200c </strong>for \\u200c[M] service or \\u200c<strong>Grand Central-42 St\\u200c </strong>for \\u200c[7] service.</p><p style=\"min-height:10px\"></p><p>For service to \\u200c<strong>5 Av/59 St\\u200c</strong>, use nearby \\u200c<b>57 St</b> ([F]) where southbound \\u200c[R] service is rerouted.</p><p style=\"min-height:10px\"></p><p><strong>Alternatives - Brooklyn</strong></p><p>For [Q] service, take [B] [2] [5] trains.</p><p style=\"min-height:10px\"></p><p>For [N] service, take [D] trains.</p><p style=\"min-height:10px\"></p><p>For [R] service, take <strong>B37</strong> and <strong>B63</strong> buses.</p>'"
   ]
  },
  {
   "cell_type": "markdown",
   "metadata": {},
   "source": [
    "For how long were these alerts active? Note that `endDate` is `None` in every case. This is due to the fact that for these unplanned disruptions, it is unknown at what time it ended - they will simply have disappeared at some point. We thus need to infer this from the original data."
   ]
  },
  {
   "cell_type": "code",
   "execution_count": 29,
   "metadata": {},
   "outputs": [
    {
     "ename": "NameError",
     "evalue": "name 'file_name' is not defined",
     "output_type": "error",
     "traceback": [
      "\u001b[0;31m---------------------------------------------------------------------------\u001b[0m",
      "\u001b[0;31mNameError\u001b[0m                                 Traceback (most recent call last)",
      "\u001b[0;32m<ipython-input-29-de84cbe1d2ef>\u001b[0m in \u001b[0;36m<module>\u001b[0;34m\u001b[0m\n\u001b[0;32m----> 1\u001b[0;31m \u001b[0mfile_name\u001b[0m\u001b[0;34m[\u001b[0m\u001b[0;36m34\u001b[0m\u001b[0;34m:\u001b[0m\u001b[0;36m44\u001b[0m\u001b[0;34m]\u001b[0m\u001b[0;34m\u001b[0m\u001b[0;34m\u001b[0m\u001b[0m\n\u001b[0m",
      "\u001b[0;31mNameError\u001b[0m: name 'file_name' is not defined"
     ]
    }
   ],
   "source": [
    "file_name[34:44]"
   ]
  },
  {
   "cell_type": "code",
   "execution_count": 30,
   "metadata": {},
   "outputs": [],
   "source": [
    "time_alerts = []\n",
    "\n",
    "for file_name in file_names:\n",
    "    time = file_name[34:44]\n",
    "    with open (file_name, 'r') as f:\n",
    "        data = json.load(f)\n",
    "        for dic in data:\n",
    "            dic['time'] = time\n",
    "        time_alerts += data"
   ]
  },
  {
   "cell_type": "code",
   "execution_count": 31,
   "metadata": {},
   "outputs": [
    {
     "data": {
      "text/plain": [
       "(187250, 10)"
      ]
     },
     "execution_count": 31,
     "metadata": {},
     "output_type": "execute_result"
    }
   ],
   "source": [
    "time_df = pd.DataFrame(time_alerts)\n",
    "time_df.shape"
   ]
  },
  {
   "cell_type": "code",
   "execution_count": 32,
   "metadata": {},
   "outputs": [
    {
     "data": {
      "text/plain": [
       "id\n",
       "lmm:alert:103638                 [1635356402, 1635356173, 1635357002]\n",
       "lmm:alert:103648     [1635356402, 1635356173, 1635357002, 1635357602]\n",
       "lmm:alert:103650    [1635356402, 1635357002, 1635358802, 163535820...\n",
       "lmm:alert:103656                                         [1635357602]\n",
       "lmm:alert:103657                                         [1635358202]\n",
       "Name: time, dtype: object"
      ]
     },
     "execution_count": 32,
     "metadata": {},
     "output_type": "execute_result"
    }
   ],
   "source": [
    "alert_times = time_df.groupby(\"id\").time.unique()\n",
    "alert_times.head()"
   ]
  },
  {
   "cell_type": "code",
   "execution_count": 33,
   "metadata": {},
   "outputs": [
    {
     "data": {
      "text/plain": [
       "(187250, 11)"
      ]
     },
     "execution_count": 33,
     "metadata": {},
     "output_type": "execute_result"
    }
   ],
   "source": [
    "time_df = time_df.merge(alert_times, on='id')\n",
    "time_df.shape"
   ]
  },
  {
   "cell_type": "code",
   "execution_count": 34,
   "metadata": {},
   "outputs": [
    {
     "data": {
      "text/plain": [
       "Index(['startDate', 'direction', 'endDate', 'statusSummary', 'id', 'priority',\n",
       "       'line', 'creationDate', 'statusDescription', 'time', 'time_list'],\n",
       "      dtype='object')"
      ]
     },
     "execution_count": 34,
     "metadata": {},
     "output_type": "execute_result"
    }
   ],
   "source": [
    "time_df = time_df.rename({\"time_x\": \"time\", \"time_y\": \"time_list\"}, axis=1)\n",
    "time_df.columns"
   ]
  },
  {
   "cell_type": "code",
   "execution_count": 35,
   "metadata": {},
   "outputs": [],
   "source": [
    "time_df['end_time'] = time_df.time_list.apply(max)"
   ]
  },
  {
   "cell_type": "code",
   "execution_count": 36,
   "metadata": {},
   "outputs": [],
   "source": [
    "time_df = time_df[['id', 'end_time']].drop_duplicates(subset='id')"
   ]
  },
  {
   "cell_type": "code",
   "execution_count": 37,
   "metadata": {},
   "outputs": [
    {
     "data": {
      "text/plain": [
       "(16, 10)"
      ]
     },
     "execution_count": 37,
     "metadata": {},
     "output_type": "execute_result"
    }
   ],
   "source": [
    "B6_time = B6.merge(time_df[['id', 'end_time']], on='id',)\n",
    "B6_time.shape"
   ]
  },
  {
   "cell_type": "code",
   "execution_count": 38,
   "metadata": {},
   "outputs": [
    {
     "data": {
      "text/plain": [
       "0     1636852802\n",
       "1     1637621402\n",
       "2     1636845001\n",
       "3     1635407402\n",
       "4     1636882202\n",
       "5     1636978202\n",
       "6     1636957202\n",
       "7     1636399201\n",
       "8     1637616002\n",
       "9     1637430002\n",
       "10    1636980002\n",
       "11    1636847401\n",
       "12    1637617202\n",
       "13    1637618402\n",
       "14    1636401002\n",
       "15    1637616602\n",
       "Name: end_time, dtype: object"
      ]
     },
     "execution_count": 38,
     "metadata": {},
     "output_type": "execute_result"
    }
   ],
   "source": [
    "B6_time.end_time"
   ]
  },
  {
   "cell_type": "code",
   "execution_count": 39,
   "metadata": {},
   "outputs": [],
   "source": [
    "B6_time['endDate'] = B6_time.end_time.astype(int).apply(lambda x: datetime.datetime.fromtimestamp(x))"
   ]
  },
  {
   "cell_type": "code",
   "execution_count": 40,
   "metadata": {},
   "outputs": [],
   "source": [
    "B6_time['startDate'] = pd.to_datetime(B6_time.startDate)"
   ]
  },
  {
   "cell_type": "code",
   "execution_count": 41,
   "metadata": {},
   "outputs": [],
   "source": [
    "B6_time['endDate'] = B6_time.endDate.dt.tz_localize('EST')"
   ]
  },
  {
   "cell_type": "code",
   "execution_count": 42,
   "metadata": {},
   "outputs": [],
   "source": [
    "B6_time['endDate'] = B6_time.endDate.dt.tz_convert('UTC')"
   ]
  },
  {
   "cell_type": "code",
   "execution_count": 43,
   "metadata": {},
   "outputs": [],
   "source": [
    "B6_time['startDate'] = pd.to_datetime(B6_time.startDate, utc=True)"
   ]
  },
  {
   "cell_type": "code",
   "execution_count": 44,
   "metadata": {},
   "outputs": [],
   "source": [
    "B6_time['endDate'] = B6_time.endDate + timedelta(minutes=10)"
   ]
  },
  {
   "cell_type": "code",
   "execution_count": 45,
   "metadata": {},
   "outputs": [
    {
     "data": {
      "text/plain": [
       "0    0 days 01:39:08\n",
       "1    0 days 01:00:02\n",
       "2    0 days 00:19:19\n",
       "3    0 days 01:52:14\n",
       "4    0 days 01:52:47\n",
       "5    0 days 00:38:55\n",
       "6    0 days 01:15:34\n",
       "7    0 days 00:13:03\n",
       "8    0 days 00:28:38\n",
       "9    0 days 00:34:38\n",
       "10   0 days 00:35:34\n",
       "11   0 days 00:45:56\n",
       "12   0 days 00:14:38\n",
       "13   0 days 00:25:05\n",
       "14   0 days 00:15:48\n",
       "15   0 days 00:12:59\n",
       "dtype: timedelta64[ns]"
      ]
     },
     "execution_count": 45,
     "metadata": {},
     "output_type": "execute_result"
    }
   ],
   "source": [
    "B6_time.endDate - B6_time.startDate"
   ]
  },
  {
   "cell_type": "code",
   "execution_count": 46,
   "metadata": {},
   "outputs": [
    {
     "data": {
      "text/plain": [
       "0      99.133333\n",
       "1      60.033333\n",
       "2      19.316667\n",
       "3     112.233333\n",
       "4     112.783333\n",
       "5      38.916667\n",
       "6      75.566667\n",
       "7      13.050000\n",
       "8      28.633333\n",
       "9      34.633333\n",
       "10     35.566667\n",
       "11     45.933333\n",
       "12     14.633333\n",
       "13     25.083333\n",
       "14     15.800000\n",
       "15     12.983333\n",
       "Name: alert_minutes, dtype: float64"
      ]
     },
     "execution_count": 46,
     "metadata": {},
     "output_type": "execute_result"
    }
   ],
   "source": [
    "B6_time['alert_minutes'] = (B6_time.endDate - B6_time.startDate) / pd.Timedelta(minutes=1)\n",
    "B6_time.alert_minutes"
   ]
  },
  {
   "cell_type": "code",
   "execution_count": 47,
   "metadata": {},
   "outputs": [
    {
     "ename": "TypeError",
     "evalue": "Timestamp subtraction must have the same timezones or no timezones",
     "output_type": "error",
     "traceback": [
      "\u001b[0;31m---------------------------------------------------------------------------\u001b[0m",
      "\u001b[0;31mTypeError\u001b[0m                                 Traceback (most recent call last)",
      "\u001b[0;32m<ipython-input-47-85c475e3fb6d>\u001b[0m in \u001b[0;36m<module>\u001b[0;34m\u001b[0m\n\u001b[0;32m----> 1\u001b[0;31m \u001b[0mpd\u001b[0m\u001b[0;34m.\u001b[0m\u001b[0mto_datetime\u001b[0m\u001b[0;34m(\u001b[0m\u001b[0malert_df\u001b[0m\u001b[0;34m.\u001b[0m\u001b[0mstartDate\u001b[0m\u001b[0;34m.\u001b[0m\u001b[0mmax\u001b[0m\u001b[0;34m(\u001b[0m\u001b[0;34m)\u001b[0m\u001b[0;34m)\u001b[0m \u001b[0;34m-\u001b[0m \u001b[0mpd\u001b[0m\u001b[0;34m.\u001b[0m\u001b[0mto_datetime\u001b[0m\u001b[0;34m(\u001b[0m\u001b[0malert_df\u001b[0m\u001b[0;34m.\u001b[0m\u001b[0mstartDate\u001b[0m\u001b[0;34m.\u001b[0m\u001b[0mmin\u001b[0m\u001b[0;34m(\u001b[0m\u001b[0;34m)\u001b[0m\u001b[0;34m)\u001b[0m\u001b[0;34m\u001b[0m\u001b[0;34m\u001b[0m\u001b[0m\n\u001b[0m",
      "\u001b[0;32mpandas/_libs/tslibs/timestamps.pyx\u001b[0m in \u001b[0;36mpandas._libs.tslibs.timestamps._Timestamp.__sub__\u001b[0;34m()\u001b[0m\n",
      "\u001b[0;31mTypeError\u001b[0m: Timestamp subtraction must have the same timezones or no timezones"
     ]
    }
   ],
   "source": [
    "pd.to_datetime(alert_df.startDate.max()) - pd.to_datetime(alert_df.startDate.min())"
   ]
  },
  {
   "cell_type": "code",
   "execution_count": 48,
   "metadata": {},
   "outputs": [
    {
     "data": {
      "text/plain": [
       "'2021-10-27T12:43:24-0400'"
      ]
     },
     "execution_count": 48,
     "metadata": {},
     "output_type": "execute_result"
    }
   ],
   "source": [
    "alert_df.startDate.min()"
   ]
  },
  {
   "cell_type": "code",
   "execution_count": 49,
   "metadata": {},
   "outputs": [
    {
     "data": {
      "text/plain": [
       "37990.53333333333"
      ]
     },
     "execution_count": 49,
     "metadata": {},
     "output_type": "execute_result"
    }
   ],
   "source": [
    "total_minutes = (pd.to_datetime(alert_df.startDate.max()).tz_convert(\"EST\") - pd.to_datetime(alert_df.startDate.min()).tz_convert(\"EST\")) / pd.Timedelta(minutes=1)\n",
    "total_minutes"
   ]
  },
  {
   "cell_type": "code",
   "execution_count": 50,
   "metadata": {},
   "outputs": [
    {
     "data": {
      "text/plain": [
       "1.959172285025392"
      ]
     },
     "execution_count": 50,
     "metadata": {},
     "output_type": "execute_result"
    }
   ],
   "source": [
    "B6_time.alert_minutes.sum() / total_minutes * 100"
   ]
  },
  {
   "cell_type": "code",
   "execution_count": 52,
   "metadata": {},
   "outputs": [],
   "source": [
    "B6_time.to_csv(\"B6.csv\")"
   ]
  },
  {
   "cell_type": "markdown",
   "metadata": {},
   "source": [
    "So, we find that for about 2% of 'time', there has been an alert active in which there was a mention of the B6 line as a rerouting. This number is relatively low, and that is for the line for which the alerts were most frequent. It thus remains an open question whether adding a 'disruption' feature to our dataset would be useful. "
   ]
  },
  {
   "cell_type": "code",
   "execution_count": null,
   "metadata": {},
   "outputs": [],
   "source": []
  }
 ],
 "metadata": {
  "interpreter": {
   "hash": "d06db2dd0ed2748016d53c42457896c61f2017719ef747483559390d471eac89"
  },
  "kernelspec": {
   "display_name": "Python 3.8.5 64-bit ('base': conda)",
   "name": "python3"
  },
  "language_info": {
   "codemirror_mode": {
    "name": "ipython",
    "version": 3
   },
   "file_extension": ".py",
   "mimetype": "text/x-python",
   "name": "python",
   "nbconvert_exporter": "python",
   "pygments_lexer": "ipython3",
   "version": "3.8.5"
  },
  "orig_nbformat": 4
 },
 "nbformat": 4,
 "nbformat_minor": 2
}
