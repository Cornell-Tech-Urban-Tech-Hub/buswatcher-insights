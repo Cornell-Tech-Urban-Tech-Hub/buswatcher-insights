{
 "cells": [
  {
   "cell_type": "code",
   "execution_count": 1,
   "metadata": {},
   "outputs": [],
   "source": [
    "import pandas as pd\n",
    "import passenger_pred.load as ppl\n",
    "import passenger_pred.preprocess as ppp\n",
    "from xgboost import XGBRegressor\n",
    "from sklearn.metrics import mean_absolute_error\n",
    "import matplotlib.pyplot as plt\n",
    "import numpy as np"
   ]
  },
  {
   "cell_type": "code",
   "execution_count": 43,
   "metadata": {},
   "outputs": [
    {
     "data": {
      "text/plain": [
       "(909698, 24)"
      ]
     },
     "execution_count": 43,
     "metadata": {},
     "output_type": "execute_result"
    }
   ],
   "source": [
    "B6_DIR = \"../data/B6/\"\n",
    "\n",
    "df_b6 = pd.read_csv(B6_DIR + \"B6_20211028_20211121.csv\")\n",
    "df_b6.shape"
   ]
  },
  {
   "cell_type": "code",
   "execution_count": 47,
   "metadata": {},
   "outputs": [
    {
     "data": {
      "text/plain": [
       "(501604, 25)"
      ]
     },
     "execution_count": 47,
     "metadata": {},
     "output_type": "execute_result"
    }
   ],
   "source": [
    "df_b6 = ppp.add_uid(df_b6)\n",
    "df_b6 = ppp.remove_duplicate_stops(df_b6)\n",
    "df_b6 = fill_zero_passengers(df_b6)\n",
    "df_b6.shape"
   ]
  },
  {
   "cell_type": "code",
   "execution_count": 48,
   "metadata": {},
   "outputs": [
    {
     "data": {
      "text/plain": [
       "(127367, 25)"
      ]
     },
     "execution_count": 48,
     "metadata": {},
     "output_type": "execute_result"
    }
   ],
   "source": [
    "df_b6[df_b6.passenger_count == \"None\"].shape"
   ]
  },
  {
   "cell_type": "code",
   "execution_count": 15,
   "metadata": {},
   "outputs": [],
   "source": [
    "df_share_of_none = df_b6.groupby(\"uid\").passenger_count.apply(lambda x: x[x == \"None\"].count()) / df_b6.groupby(\"uid\").passenger_count.size()"
   ]
  },
  {
   "cell_type": "code",
   "execution_count": 19,
   "metadata": {},
   "outputs": [
    {
     "data": {
      "text/plain": [
       "<AxesSubplot:>"
      ]
     },
     "execution_count": 19,
     "metadata": {},
     "output_type": "execute_result"
    },
    {
     "data": {
      "image/png": "[encoded data removed]",
      "text/plain": [
       "<Figure size 432x288 with 1 Axes>"
      ]
     },
     "metadata": {
      "needs_background": "light"
     },
     "output_type": "display_data"
    }
   ],
   "source": [
    "df_share_of_none.hist(bins=50)"
   ]
  },
  {
   "cell_type": "code",
   "execution_count": 30,
   "metadata": {},
   "outputs": [],
   "source": [
    "fill_trips = df_share_of_none[df_share_of_none < 0.95].index"
   ]
  },
  {
   "cell_type": "code",
   "execution_count": 36,
   "metadata": {},
   "outputs": [],
   "source": [
    "df_b6.loc[(df_b6.uid.isin(fill_trips) & (df_b6.passenger_count == \"None\")), 'passenger_count'] = 0"
   ]
  },
  {
   "cell_type": "code",
   "execution_count": 39,
   "metadata": {},
   "outputs": [
    {
     "data": {
      "text/plain": [
       "(127367, 25)"
      ]
     },
     "execution_count": 39,
     "metadata": {},
     "output_type": "execute_result"
    }
   ],
   "source": [
    "df_b6[df_b6.passenger_count == \"None\"].shape"
   ]
  },
  {
   "cell_type": "code",
   "execution_count": 46,
   "metadata": {},
   "outputs": [],
   "source": [
    "def fill_zero_passengers(df, threshold=0.95):\n",
    "    df.passenger_count = df.passenger_count.fillna(\"None\")\n",
    "    df_share_of_none = df.groupby(\"uid\").passenger_count.apply(\n",
    "        lambda x: x[x == \"None\"].count()\n",
    "    ) / df.groupby(\"uid\").passenger_count.size()\n",
    "    fill_trips = df_share_of_none[df_share_of_none < threshold].index\n",
    "    df.loc[(df.uid.isin(fill_trips) & (df.passenger_count == \"None\")), 'passenger_count'] = 0\n",
    "    return df"
   ]
  },
  {
   "cell_type": "code",
   "execution_count": null,
   "metadata": {},
   "outputs": [],
   "source": []
  }
 ],
 "metadata": {
  "interpreter": {
   "hash": "d06db2dd0ed2748016d53c42457896c61f2017719ef747483559390d471eac89"
  },
  "kernelspec": {
   "display_name": "Python 3.8.5 64-bit ('base': conda)",
   "name": "python3"
  },
  "language_info": {
   "codemirror_mode": {
    "name": "ipython",
    "version": 3
   },
   "file_extension": ".py",
   "mimetype": "text/x-python",
   "name": "python",
   "nbconvert_exporter": "python",
   "pygments_lexer": "ipython3",
   "version": "3.8.5"
  },
  "orig_nbformat": 4
 },
 "nbformat": 4,
 "nbformat_minor": 2
}
